{
 "cells": [
  {
   "cell_type": "markdown",
   "metadata": {},
   "source": [
    "# Advanced Vectorization in `Jax`\n",
    "\n",
    "In the previous guide on `Jax`, we introduced the basic building blocks---multi-dimensional arrays---as well as a new paradigm for writing code without loops or if/else-expressions. Here, we continue building on this paradigm with more advanced (yet common) uses of `Jax` in ML. \n",
    "\n",
    "Let's get ourselves started by importing some libraries."
   ]
  },
  {
   "cell_type": "code",
   "execution_count": 1,
   "metadata": {},
   "outputs": [],
   "source": [
    "import jax.numpy as jnp\n",
    "import chex"
   ]
  },
  {
   "cell_type": "markdown",
   "metadata": {},
   "source": [
    "**Acknowledgement.** Parts of this tutorial have been adapted from [this NumPy tutorial](https://numpy.org/doc/stable/user/quickstart.html)."
   ]
  },
  {
   "cell_type": "markdown",
   "metadata": {},
   "source": [
    "## Indexing with Boolean Arrays\n",
    "\n",
    "Whereas *slicing* is typically used to extract contiguous chunks from an array (i.e. a subsection of elements that belonged together in the original array), *indexing* will allow us to extract non-contiguous parts. How? It's easier shown than explained.\n",
    "\n",
    "You may remember from the introductory guide to `Jax` that performing boolean operations on an array returns a boolean array. Here's an example:"
   ]
  },
  {
   "cell_type": "code",
   "execution_count": 2,
   "metadata": {},
   "outputs": [
    {
     "name": "stdout",
     "output_type": "stream",
     "text": [
      "a       = [0 1 2 3 4 5 6 7 8 9]\n",
      "is even = [ True False  True False  True False  True False  True False]\n"
     ]
    }
   ],
   "source": [
    "a = jnp.arange(10)\n",
    "print('a       =', a)\n",
    "print('is even =', a % 2 == 0)"
   ]
  },
  {
   "cell_type": "markdown",
   "metadata": {},
   "source": [
    "By using these boolean arrays, we can select all elements for which the boolean expression `a % 2 == 0` is `True`:"
   ]
  },
  {
   "cell_type": "code",
   "execution_count": 3,
   "metadata": {},
   "outputs": [
    {
     "name": "stdout",
     "output_type": "stream",
     "text": [
      "Even elements from a = [0 2 4 6 8]\n"
     ]
    }
   ],
   "source": [
    "b = a[a % 2 == 0]\n",
    "print('Even elements from a =', b)"
   ]
  },
  {
   "cell_type": "markdown",
   "metadata": {},
   "source": [
    "Using this, you can easily write functions that have some very complicated behaviors. As an example, the function,\n",
    "\\begin{align*}\n",
    "f(x) &= \\begin{cases}\n",
    "x^2 & \\text{if $x$ is even} \\\\\n",
    "x^3 & \\text{if $x$ is odd} \\\\\n",
    "\\end{cases}\n",
    "\\end{align*}\n",
    "can be implemented as follows:"
   ]
  },
  {
   "cell_type": "code",
   "execution_count": 4,
   "metadata": {},
   "outputs": [
    {
     "name": "stdout",
     "output_type": "stream",
     "text": [
      "[  0.   1.   4.  27.  16. 125.  36. 343.  64. 729.]\n"
     ]
    }
   ],
   "source": [
    "def f(x):\n",
    "    is_even = (x % 2 == 0)\n",
    "    return is_even * (x ** 2.0) + ~is_even * (x ** 3.0)\n",
    "\n",
    "print(f(jnp.arange(10)))"
   ]
  },
  {
   "cell_type": "markdown",
   "metadata": {},
   "source": [
    "In the above, we first created a boolean variable `is_even`, which has values `True` only at indices where $x$ is even. By multiplying `is_even` times $x$, we automatically cast it to an integer. This means that wherever `is_even` is `True`, it becomes 1, and when it's false, it becomes 0. As such, `is_even * (x ** 2.0)` returns an array in which every element is $x^2$ when $x$ is even and is $0$ otherwise. In contrast, `~is_even * (x ** 3.0)` returns an array in which every element is 0 when $x$ is even and is $x^3$ otherwise (the `~` notation flips the boolean values). When we add the two resultant arrays, we get the answer we were looking for.\n",
    "\n",
    "While the above example has pedagogical value, the logic does become a little obfuscated with all of the casting and such. Here's another, cleaner way to implement the above function using `jnp.where`:"
   ]
  },
  {
   "cell_type": "code",
   "execution_count": 5,
   "metadata": {},
   "outputs": [
    {
     "name": "stdout",
     "output_type": "stream",
     "text": [
      "[  0.   1.   4.  27.  16. 125.  36. 343.  64. 729.]\n"
     ]
    }
   ],
   "source": [
    "def f(x):\n",
    "    return jnp.where(x % 2 == 0, x ** 2.0, x ** 3.0)\n",
    "    \n",
    "print(f(jnp.arange(10)))"
   ]
  },
  {
   "cell_type": "markdown",
   "metadata": {},
   "source": [
    "Here, `jnp.where` uses the condition `x % 2 == 0` (is even) to select elements from one of two arrays, $x^2$ or $x^3$.\n",
    "\n",
    "Lastly, remember that an a multi-dimensional array can be interpreted as an array of arrays. For example, an array of shape $(N, D)$ can be thought of an array of $N$ elements, each of which is an array with $D$ elements. As such, indexing into a an $(N, D)$ array using a 1-dimensional boolean array will select *rows*:"
   ]
  },
  {
   "cell_type": "code",
   "execution_count": 6,
   "metadata": {},
   "outputs": [
    {
     "name": "stdout",
     "output_type": "stream",
     "text": [
      "a =\n",
      "[[ 1  2  3]\n",
      " [ 4  5  6]\n",
      " [ 7  8  9]\n",
      " [10 11 12]]\n",
      "\n",
      "Row contains a number that is divisible by 5: [False  True False  True]\n",
      "Rows with number divisible by 5:\n",
      "[[ 4  5  6]\n",
      " [10 11 12]]\n"
     ]
    }
   ],
   "source": [
    "a = jnp.arange(12).reshape(4, 3) + 1\n",
    "print('a =')\n",
    "print(a)\n",
    "print('')\n",
    "\n",
    "contains_number_divisible_by_5 = (a % 5 == 0).any(axis=-1)\n",
    "print('Row contains a number that is divisible by 5:', contains_number_divisible_by_5)\n",
    "print('Rows with number divisible by 5:')\n",
    "print(a[contains_number_divisible_by_5])"
   ]
  },
  {
   "cell_type": "markdown",
   "metadata": {},
   "source": [
    "````{admonition} Exercise\n",
    "Please solve the following using `Jax` library calls only (no loops, no if/else!):\n",
    "\n",
    "**Part 1:** Write a function that takes in a 2-dimensional array `a` and returns only rows whose sum is positive. For example, given,\n",
    "```\n",
    "a = jnp.array([\n",
    "    [1.0, 2.0, 3.0],\n",
    "    [-1.0, -2.0, 3.0],\n",
    "    [-1.0, -2.0, 4.0],\n",
    "    [-1.0, -2.0, -3.0],\n",
    "])\n",
    "```\n",
    "the result should be:\n",
    "```\n",
    "Array([[ 1.,  2.,  3.],\n",
    "       [-1., -2.,  4.]], dtype=float32)\n",
    "```\n",
    "\n",
    "**Part 2:** Write a function that takes in an integer $N > 0$, a coordinate $x, y$, and a radius $r$ (where $0 \\leq x < N$, $0 \\leq y < N$, and $r > 0$). The function should return an integer array of shape $(N, N)$ in which every element is 0 except elements that are within radius $r$ of $(x, y)$ (i.e. every element $i, j$ should be 1 if $(x - i)^2 + (y - j)^2 \\leq r^2$ and 0 otherwise). For example, for $N = 10$, $x = 5$, $y = 5$, and $r = 2$, the function should return:\n",
    "```\n",
    "Array([[0, 0, 0, 0, 0, 0, 0, 0, 0, 0],\n",
    "       [0, 0, 0, 0, 0, 0, 0, 0, 0, 0],\n",
    "       [0, 0, 0, 0, 0, 0, 0, 0, 0, 0],\n",
    "       [0, 0, 0, 0, 0, 1, 0, 0, 0, 0],\n",
    "       [0, 0, 0, 0, 1, 1, 1, 0, 0, 0],\n",
    "       [0, 0, 0, 1, 1, 1, 1, 1, 0, 0],\n",
    "       [0, 0, 0, 0, 1, 1, 1, 0, 0, 0],\n",
    "       [0, 0, 0, 0, 0, 1, 0, 0, 0, 0],\n",
    "       [0, 0, 0, 0, 0, 0, 0, 0, 0, 0],\n",
    "       [0, 0, 0, 0, 0, 0, 0, 0, 0, 0]], dtype=int32)\n",
    "```\n",
    "Similarly, for $N = 10$, $x = 5$, $y = 0$, and $r = 2$, the function should return:\n",
    "```\n",
    "Array([[0, 0, 0, 0, 0, 0, 0, 0, 0, 0],\n",
    "       [0, 0, 0, 0, 0, 0, 0, 0, 0, 0],\n",
    "       [0, 0, 0, 0, 0, 0, 0, 0, 0, 0],\n",
    "       [1, 0, 0, 0, 0, 0, 0, 0, 0, 0],\n",
    "       [1, 1, 0, 0, 0, 0, 0, 0, 0, 0],\n",
    "       [1, 1, 1, 0, 0, 0, 0, 0, 0, 0],\n",
    "       [1, 1, 0, 0, 0, 0, 0, 0, 0, 0],\n",
    "       [1, 0, 0, 0, 0, 0, 0, 0, 0, 0],\n",
    "       [0, 0, 0, 0, 0, 0, 0, 0, 0, 0],\n",
    "       [0, 0, 0, 0, 0, 0, 0, 0, 0, 0]], dtype=int32)\n",
    "```\n",
    "````"
   ]
  },
  {
   "cell_type": "code",
   "execution_count": 95,
   "metadata": {},
   "outputs": [],
   "source": [
    "def boolean_indexing_q1(a):\n",
    "    pass # TODO implement\n",
    "\n",
    "def boolean_indexing_q2(N, x, y, r):\n",
    "    pass # TODO implement"
   ]
  },
  {
   "cell_type": "markdown",
   "metadata": {},
   "source": [
    "## Indexing with Arrays of Indices\n",
    "\n",
    "Sometimes, it's useful to select elements an array not just using a single index, but using an array of indices. "
   ]
  },
  {
   "cell_type": "code",
   "execution_count": 8,
   "metadata": {},
   "outputs": [
    {
     "name": "stdout",
     "output_type": "stream",
     "text": [
      "a = [  0   1   4   9  16  25  36  49  64  81 100 121]\n",
      "a[i] = [ 1  1  9 64 25]\n",
      "a[j] =\n",
      "[[ 9 16]\n",
      " [81 49]]\n"
     ]
    }
   ],
   "source": [
    "a = jnp.arange(12) ** 2\n",
    "print('a =', a)\n",
    "\n",
    "i = jnp.array([1, 1, 3, 8, 5]) # a 1-dimensional array of indices\n",
    "print('a[i] =', a[i])"
   ]
  },
  {
   "cell_type": "markdown",
   "metadata": {},
   "source": [
    "Recall again that a multi-dimensional array can be interpreted as an array of arrays. As such, indexing into a an $(N, D)$ array using a 1-dimensional index array will select *rows*:"
   ]
  },
  {
   "cell_type": "code",
   "execution_count": 1,
   "metadata": {},
   "outputs": [
    {
     "ename": "NameError",
     "evalue": "name 'jnp' is not defined",
     "output_type": "error",
     "traceback": [
      "\u001b[0;31m---------------------------------------------------------------------------\u001b[0m",
      "\u001b[0;31mNameError\u001b[0m                                 Traceback (most recent call last)",
      "Cell \u001b[0;32mIn[1], line 1\u001b[0m\n\u001b[0;32m----> 1\u001b[0m a \u001b[38;5;241m=\u001b[39m \u001b[43mjnp\u001b[49m\u001b[38;5;241m.\u001b[39marange(\u001b[38;5;241m12\u001b[39m)\u001b[38;5;241m.\u001b[39mreshape(\u001b[38;5;241m6\u001b[39m, \u001b[38;5;241m2\u001b[39m)\n\u001b[1;32m      2\u001b[0m \u001b[38;5;28mprint\u001b[39m(\u001b[38;5;124m'\u001b[39m\u001b[38;5;124ma =\u001b[39m\u001b[38;5;124m'\u001b[39m)\n\u001b[1;32m      3\u001b[0m \u001b[38;5;28mprint\u001b[39m(a)\n",
      "\u001b[0;31mNameError\u001b[0m: name 'jnp' is not defined"
     ]
    }
   ],
   "source": [
    "a = jnp.arange(12).reshape(6, 2)\n",
    "print('a =')\n",
    "print(a)\n",
    "print('')\n",
    "\n",
    "i = jnp.array([2, 3, 5]) # a 1-dimensional array of indices\n",
    "print('a[i] =')\n",
    "print(a[i])\n",
    "print('')"
   ]
  },
  {
   "cell_type": "markdown",
   "metadata": {},
   "source": [
    "Lastly, instead of selecting whole rows, we can also index into each dimension independently. That is, we select elements from an array by giving it the \"coordinates\" of the elements we want as follows:"
   ]
  },
  {
   "cell_type": "code",
   "execution_count": 20,
   "metadata": {},
   "outputs": [
    {
     "name": "stdout",
     "output_type": "stream",
     "text": [
      "a =\n",
      "[[ 0  1]\n",
      " [ 2  3]\n",
      " [ 4  5]\n",
      " [ 6  7]\n",
      " [ 8  9]\n",
      " [10 11]]\n",
      "\n",
      "selected = [ 6 11  5]\n"
     ]
    }
   ],
   "source": [
    "i = jnp.array([3, 5, 2])\n",
    "j = jnp.array([0, 1, 1])\n",
    "\n",
    "a = jnp.arange(12).reshape(6, 2)\n",
    "print('a =')\n",
    "print(a)\n",
    "print('')\n",
    "\n",
    "print('selected =', a[(i, j)])"
   ]
  },
  {
   "cell_type": "markdown",
   "metadata": {},
   "source": [
    "By indexing into `a` using the tuple `(i, j)`, we paired each element of $i$ with each element of $j$ to select items at indices: $(3, 0)$, $(5, 1)$, and $(2, 1)$."
   ]
  },
  {
   "cell_type": "markdown",
   "metadata": {},
   "source": [
    "````{admonition} Exercise\n",
    "Please solve the following using `Jax` library calls only (no loops, no if/else!):\n",
    "\n",
    "**Part 1:** Write a function that, given a square matrix `a`, returns the elements along its diagonal. For example, given,\n",
    "```\n",
    "a = [[ 0  1  2  3]\n",
    "     [ 4  5  6  7]\n",
    "     [ 8  9 10 11]\n",
    "     [12 13 14 15]]\n",
    "```\n",
    "the function should return, `[0, 5, 10, 15]`. Note that there already exists a function in `Jax` that does exactly this: `jnp.diagonal`. Please **do not** use it for the sake of this exercise!\n",
    "\n",
    "**Part 2:** Extend the function from the previous part to include a second, keyword argument, `offset=0`, to offset the diagonal. Continuing with the above example,\n",
    "* When `offset=0`, the function's behavior should not change from the previous part. \n",
    "* When `offset=1`, the function should return: `[1, 6, 11]`.\n",
    "* When `offset=2`, the function should return: `[2, 7]`.\n",
    "* When `offset=-1`, the function should return: `[4, 9, 14]`.\n",
    "* When `offset=-2`, the function should return: `[8, 13]`.\n",
    "\n",
    "Again, this functionality is already built-in to `jnp.diagonal`, but for the purpose of the exercise, implement this yourself.\n",
    "````"
   ]
  },
  {
   "cell_type": "code",
   "execution_count": 96,
   "metadata": {},
   "outputs": [],
   "source": [
    "def integer_indexing_q1(a):\n",
    "    pass # TODO implement\n",
    "\n",
    "def integer_indexing_q2(a, offset=0):\n",
    "    pass # TODO implement"
   ]
  },
  {
   "cell_type": "markdown",
   "metadata": {},
   "source": [
    "## Broadcasting\n",
    "\n",
    "The term *broadcasting* describes how `Jax` treats arrays with different shapes during arithmetic operations. Subject to certain constraints, the smaller array is \"broadcast\" across the larger array so that they have compatible shapes. Broadcasting provides a means of vectorizing array operations so that looping occurs very fast under the hood without making needless copies of data. Broadcasting follows two rules:\n",
    "\n",
    "**Rule 1:** If all input arrays do not have the same number of dimensions, a \"1\" will be repeatedly prepended to the shapes of the smaller arrays until all the arrays have the same number of dimensions.\n",
    "> Example: If we were to add an array of shape $(N, D)$ to an array of shape $(D,)$, under the hood, broadcasting will change the second array's shape to $(1, D)$. Notice that the arrays are still not the same shape, so how can we add them? This is where Rule 2 comes in.\n",
    "\n",
    "**Rule 2:** Arrays with a size of 1 along a particular dimension act as if they had the size of the array with the largest shape along that dimension. The value of the array element is assumed to be the same along that dimension for the \"broadcast” array.\n",
    "> Example: If we were to add an array of shape $(N, D)$ to an array of shape $(1, D)$, under the hood, broadcasting would repeat the $(1, D)$-array $N$ times along it's 0th axis. This would mean both arrays are now of shape $(N, D)$ and can be added elementwise.\n",
    "\n",
    "Here's the example in code:"
   ]
  },
  {
   "cell_type": "code",
   "execution_count": 69,
   "metadata": {},
   "outputs": [
    {
     "name": "stdout",
     "output_type": "stream",
     "text": [
      "a =\n",
      "[[ 0  1  2  3]\n",
      " [ 4  5  6  7]\n",
      " [ 8  9 10 11]]\n",
      "\n",
      "a + [1, 2, 3, 4] =\n",
      "[[ 1  3  5  7]\n",
      " [ 5  7  9 11]\n",
      " [ 9 11 13 15]]\n"
     ]
    }
   ],
   "source": [
    "a = jnp.arange(12).reshape(3, 4)\n",
    "print('a =')\n",
    "print(a)\n",
    "print('')\n",
    "\n",
    "print('a + [1, 2, 3, 4] =')\n",
    "print(a + jnp.array([1, 2, 3, 4]))"
   ]
  },
  {
   "cell_type": "markdown",
   "metadata": {},
   "source": [
    "And of course, the above addition can be replaced with any other operation and `Jax` will broadcast in the same way.\n",
    "\n",
    "While broadcasting is a powerful tool, it can sometimes catch us by surprise. For example, what would happen if we were to subtract a $(N, 1)$ array from a $(1, M)$ array? Let's see:"
   ]
  },
  {
   "cell_type": "code",
   "execution_count": 77,
   "metadata": {},
   "outputs": [
    {
     "name": "stdout",
     "output_type": "stream",
     "text": [
      "a = [[1 2 3 4]]\n",
      "b =\n",
      "[[ 5]\n",
      " [ 8]\n",
      " [12]]\n",
      "\n",
      "c =\n",
      "[[ 4  3  2  1]\n",
      " [ 7  6  5  4]\n",
      " [11 10  9  8]]\n"
     ]
    }
   ],
   "source": [
    "a = jnp.array([[1, 2, 3, 4]])\n",
    "b = jnp.array([[5], [8], [12]])\n",
    "\n",
    "print('a =', a)\n",
    "print('b =')\n",
    "print(b)\n",
    "print('')\n",
    "\n",
    "c = b - a\n",
    "print('c =')\n",
    "print(c)"
   ]
  },
  {
   "cell_type": "markdown",
   "metadata": {},
   "source": [
    "The resultant array `c` is of shape $(N, M)$, containing differences between every pair of elements in `a` and `b`. That is, `c[i, j] = b[i] - a[j]`. There are many applications in ML in which computing pairwise differences is helpful, and this is one great way to do it! \n",
    "\n",
    "However, if you forget to check the shapes of your arrays before operating on them, you may also trigger some broadcasting behavior unintentionally, resulting in bugs that are hard to find. For this reason, we recommend adding shape-checking code after every line that operates of arrays of unequal shapes. The shape-checking code should error if the resultant array does not have its desired shape. How can we do this? See the section below about the library `chex`. "
   ]
  },
  {
   "cell_type": "markdown",
   "metadata": {},
   "source": [
    "````{admonition} Exercise\n",
    "Please solve the following using `Jax` library calls only (no loops, no if/else!):\n",
    "\n",
    "Write a function that accepts two arrays, `a` of shape $(N, D)$ and `b` of shape $(M, D)$. Write a function that computes mean squared difference between their rows (pairwise). That is, return an array `c` of shape $(N, M)$, in which $c_{i,j} = \\sum\\limits_{d=0}^{D-1} (b_{j,d} - a_{i,d})^2$.\n",
    "\n",
    "For example, given,\n",
    "```\n",
    "a = jnp.array([\n",
    "    [1.0, 2.0],\n",
    "    [2.0, 4.0],\n",
    "    [5.0, 6.0],\n",
    "])\n",
    "\n",
    "b = jnp.array([\n",
    "    [5.0, 3.0],\n",
    "    [4.0, 1.0],\n",
    "    [6.0, 6.0],\n",
    "    [7.0, 1.0],\n",
    "])\n",
    "```\n",
    "the function should return:\n",
    "```\n",
    "Array([[17., 10., 41., 37.],\n",
    "       [10., 13., 20., 34.],\n",
    "       [ 9., 26.,  1., 29.]], dtype=float32)\n",
    "```\n",
    "````"
   ]
  },
  {
   "cell_type": "code",
   "execution_count": 97,
   "metadata": {},
   "outputs": [],
   "source": [
    "def broadcasting_q1(a, b):\n",
    "    pass # TODO implement"
   ]
  },
  {
   "cell_type": "markdown",
   "metadata": {},
   "source": [
    "For more information on broadcasting, checkout [this tutorial](https://numpy.org/doc/stable/user/basics.broadcasting.html#basics-broadcasting). "
   ]
  },
  {
   "cell_type": "markdown",
   "metadata": {},
   "source": [
    "## Catching Bugs Early with `chex`"
   ]
  },
  {
   "cell_type": "markdown",
   "metadata": {},
   "source": [
    "**What's `chex`?** As we just saw, while powerful, `Jax`'s broadcasting can subtly sneak in bugs into your code. Luckily, there's a great Python library that can help us: `chex`. `chex` is a library for asserting `Jax` array shapes. \n",
    "\n",
    "**What are assertions?** Assertions are lines in your code that raise an exception if something that should be true is false. They are useful for catching bugs and for debugging. For example, if you write a function that takes in argument $p \\in [0, 1]$, you can write:\n",
    "\n",
    "```\n",
    "assert(0.0 <= p and p <= 1.0)\n",
    "```\n",
    "\n",
    "In this way, whenever $p \\notin [0, 1]$, your code will raise an exception. This tells you not only that something went wrong, it also tells you where and why it went wrong, speeding up your debugging process.\n",
    "\n",
    "**Best practices: asserting array shapes.** In `Jax`, we will use it to ensure that all arguments passed into any function we write have the correct shapes, and that every operation we perform results in the correct shape. When `chex` raises an exception, the statement that it failed on will give us a clue as to where the bug is.\n",
    "\n",
    "**Why use `chex` assertions instead of Python's built-in `assert`?** As we will see later, to speed things up, `Jax` sometimes removes lines of code that do not affect the output. Since Python's built-in `assert` technically does not return anything, `Jax` might optimize it out. `chex` provides specialized assertions that do not get optimized out by `Jax`. As such, as a rule of thumb:\n",
    "* Use `chex` on `Jax` arrays\n",
    "* Use `assert` on non-`Jax` arrays (e.g. checking a float is within range, a list has the right length, etc.)\n",
    "\n",
    "**Example.** Let's give it a go! Suppose you have a function that takes an array and splits into two parts. Specifically, the function,\n",
    "1. Takes an array of shape $(N, D)$ and a variable $p \\in [0, 1]$ (that determines the size of the split).\n",
    "2. Returns two array of shape $(p \\cdot N, D)$ and $((1 - p) \\cdot N, D)$.\n",
    "\n",
    "We can use `chex` to ensure the following properties are true:\n",
    "1. The input is a 2-dimensional array. In `chex` lingo, it is a \"rank-2\" array.\n",
    "2. The size of the 0th dimension of the resultant arrays should sum to $N$.\n",
    "\n",
    "We can implement this as follows:"
   ]
  },
  {
   "cell_type": "code",
   "execution_count": 93,
   "metadata": {},
   "outputs": [],
   "source": [
    "def split_2d_array(a, p):\n",
    "    # ensure 'p' is between 0 and 1\n",
    "    assert(0.0 <= p and p <= 1.0)\n",
    "\n",
    "    # ensures 'a' is a 2-dimensional array\n",
    "    chex.assert_rank(a, 2)\n",
    "\n",
    "    partition_size = int(p * a.shape[0])\n",
    "\n",
    "    part1 = a[:partition_size]\n",
    "    part2 = a[partition_size:]\n",
    "\n",
    "    # asserts that the shapes of the resultant arrays sums to a.shape[0]\n",
    "    chex.assert_shape(part1, (partition_size, a.shape[1]))\n",
    "    chex.assert_shape(part2, (a.shape[0] - partition_size, a.shape[1]))\n",
    "    \n",
    "    return part1, part2"
   ]
  },
  {
   "cell_type": "markdown",
   "metadata": {},
   "source": [
    "If you were to pass in an array that is not 2-dimensional, or if there was a bug in the array-splitting code inside the function, `chex` would have raised an exception (try it!)\n",
    "\n",
    "You can find the `chex` documentation [here](https://chex.readthedocs.io/en/latest/api.html). For this course, we will only focus on assertions that have to do with `Jax` array shapes. That is, for simplicity, only consider assertions concerned with: dimension, shape, and rank. "
   ]
  },
  {
   "cell_type": "markdown",
   "metadata": {},
   "source": [
    "````{admonition} Exercise\n",
    "Go back and add assertions to **every function** you implemented as part of this tutorial. Your assertions should, at the very least, check the inputs and outputs for correct shapes.  \n",
    "````"
   ]
  },
  {
   "cell_type": "code",
   "execution_count": null,
   "metadata": {},
   "outputs": [],
   "source": []
  }
 ],
 "metadata": {
  "celltoolbar": "Slideshow",
  "kernelspec": {
   "display_name": "Python 3 (ipykernel)",
   "language": "python",
   "name": "python3"
  },
  "language_info": {
   "codemirror_mode": {
    "name": "ipython",
    "version": 3
   },
   "file_extension": ".py",
   "mimetype": "text/x-python",
   "name": "python",
   "nbconvert_exporter": "python",
   "pygments_lexer": "ipython3",
   "version": "3.10.12"
  }
 },
 "nbformat": 4,
 "nbformat_minor": 4
}
