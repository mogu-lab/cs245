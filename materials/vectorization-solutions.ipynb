{
 "cells": [
  {
   "cell_type": "markdown",
   "id": "55442788-56ad-4cad-bbbd-f4aa3f2f870b",
   "metadata": {},
   "source": [
    "# Solutions"
   ]
  },
  {
   "cell_type": "code",
   "execution_count": 1,
   "id": "4cde8756-4120-4aed-83ba-0c3f9f32ffe1",
   "metadata": {},
   "outputs": [],
   "source": [
    "import jax.numpy as jnp\n",
    "import chex"
   ]
  },
  {
   "cell_type": "markdown",
   "id": "d2b408a7-5e4c-4ec8-8266-47d69346cbf8",
   "metadata": {},
   "source": [
    "## Array Operations\n",
    "\n",
    "Please solve the following using `Jax` library calls only (no loops!):\n",
    "1. Write a function that, given $N$, returns $\\sum\\limits_{i=0}^{N - 1} \\log(i + 1)$.\n",
    "2. Write a function that, given $N$ and $M$, returns $\\sum\\limits_{i=0}^{N - 1} \\sum\\limits_{j=0}^{M - 1} \\log(i \\cdot j + 1)$. *Hint: one way to do this is with `jnp.tile` and `jnp.transpose`.*"
   ]
  },
  {
   "cell_type": "code",
   "execution_count": 2,
   "id": "0a13ea50-b824-4129-929d-58da771b3533",
   "metadata": {},
   "outputs": [
    {
     "data": {
      "text/plain": [
       "Array(15.104412, dtype=float32)"
      ]
     },
     "execution_count": 2,
     "metadata": {},
     "output_type": "execute_result"
    }
   ],
   "source": [
    "def array_operations_q1(N):\n",
    "    return jnp.sum(jnp.log(jnp.arange(N) + 1.0))\n",
    "\n",
    "array_operations_q1(10.0)"
   ]
  },
  {
   "cell_type": "code",
   "execution_count": 6,
   "id": "c69b84e6-6fd0-41f8-96cc-0e93120450cc",
   "metadata": {},
   "outputs": [
    {
     "data": {
      "text/plain": [
       "Array(84.905975, dtype=float32)"
      ]
     },
     "execution_count": 6,
     "metadata": {},
     "output_type": "execute_result"
    }
   ],
   "source": [
    "def array_operations_q2(N, M):\n",
    "    i = jnp.tile(jnp.arange(N)[..., None], M)\n",
    "    j = jnp.tile(jnp.arange(M)[..., None], N).T\n",
    "\n",
    "    return jnp.sum(jnp.log(i * j + 1.0))\n",
    "\n",
    "array_operations_q2(5, 10)"
   ]
  },
  {
   "cell_type": "markdown",
   "id": "e1bfd1e2-1378-4765-b735-f90cde40249a",
   "metadata": {},
   "source": [
    "## Slicing\n",
    "\n",
    "Please solve the following using `Jax` library calls only (no loops!):\n",
    "1. Write a function that, given an array `a` of shape $(N,)$, returns a new array `b` of shape $(N - 1,)$ in which index $i$ contains `b[i] = a[i + 1] - a[i]`.\n",
    "2. Extend the function you wrote to multi-dimensional arrays, where the operation is only performed on the last dimension. That is, if an array `a` of shape $(N, M, K)$ is given, return an array `b` of shape $(N, M, K-1)$."
   ]
  },
  {
   "cell_type": "code",
   "execution_count": 8,
   "id": "d8acd764-c7b5-4d3e-9eec-7d759e420e82",
   "metadata": {},
   "outputs": [
    {
     "data": {
      "text/plain": [
       "Array([ 1.,  4.,  5., 10.], dtype=float32)"
      ]
     },
     "execution_count": 8,
     "metadata": {},
     "output_type": "execute_result"
    }
   ],
   "source": [
    "def array_slicing_q1(a):\n",
    "    return a[1:] - a[:-1]\n",
    "\n",
    "array_slicing_q1(jnp.array([0.0, 1.0, 5.0, 10.0, 20.0]))"
   ]
  },
  {
   "cell_type": "code",
   "execution_count": 11,
   "id": "d21de757-0d3d-4c00-9ebe-0d0411f926dc",
   "metadata": {},
   "outputs": [
    {
     "data": {
      "text/plain": [
       "Array([[ 1.,  4.,  5., 10.],\n",
       "       [ 3.,  1., 14., 10.]], dtype=float32)"
      ]
     },
     "execution_count": 11,
     "metadata": {},
     "output_type": "execute_result"
    }
   ],
   "source": [
    "def array_slicing_q2(a):\n",
    "    return a[..., 1:] - a[..., :-1]\n",
    "\n",
    "array_slicing_q2(jnp.array([\n",
    "    [0.0, 1.0, 5.0, 10.0, 20.0],\n",
    "    [2.0, 5.0, 6.0, 20.0, 30.0]\n",
    "]))"
   ]
  },
  {
   "cell_type": "markdown",
   "id": "7ca035b7-ee8f-45a4-b360-39760862fa92",
   "metadata": {},
   "source": [
    "## Indexing with Boolean Arrays"
   ]
  },
  {
   "cell_type": "code",
   "execution_count": 13,
   "id": "222a26bf-afb0-407b-a911-0f3ec7a9064c",
   "metadata": {},
   "outputs": [
    {
     "data": {
      "text/plain": [
       "Array([[ 1.,  2.,  3.],\n",
       "       [-1., -2.,  4.]], dtype=float32)"
      ]
     },
     "execution_count": 13,
     "metadata": {},
     "output_type": "execute_result"
    }
   ],
   "source": [
    "def boolean_indexing_q1(a):\n",
    "    chex.assert_rank(a, 2)    \n",
    "    positive_sum = a.sum(axis=-1) > 0.0\n",
    "    return a[positive_sum]\n",
    "\n",
    "boolean_indexing_q1(jnp.array([\n",
    "    [1.0, 2.0, 3.0],\n",
    "    [-1.0, -2.0, 3.0],\n",
    "    [-1.0, -2.0, 4.0],\n",
    "    [-1.0, -2.0, -3.0],\n",
    "]))"
   ]
  },
  {
   "cell_type": "code",
   "execution_count": 20,
   "id": "2d6e01e7-7e52-4652-8d5e-faeda7718266",
   "metadata": {},
   "outputs": [
    {
     "name": "stdout",
     "output_type": "stream",
     "text": [
      "[[0 0 0 0 0 0 0 0 0 0]\n",
      " [0 0 0 0 1 0 0 0 0 0]\n",
      " [0 0 0 1 1 1 0 0 0 0]\n",
      " [0 0 1 1 1 1 1 0 0 0]\n",
      " [0 0 0 1 1 1 0 0 0 0]\n",
      " [0 0 0 0 1 0 0 0 0 0]\n",
      " [0 0 0 0 0 0 0 0 0 0]\n",
      " [0 0 0 0 0 0 0 0 0 0]\n",
      " [0 0 0 0 0 0 0 0 0 0]\n",
      " [0 0 0 0 0 0 0 0 0 0]]\n",
      "\n",
      "[[0 0 0 0 0 0 0 0 0 0]\n",
      " [0 0 0 0 0 0 0 0 0 0]\n",
      " [0 0 0 0 0 0 0 0 0 0]\n",
      " [0 0 0 0 0 0 0 0 0 0]\n",
      " [0 0 0 0 0 0 0 0 0 0]\n",
      " [0 0 0 0 0 0 0 0 0 0]\n",
      " [0 0 0 0 0 0 0 0 0 0]\n",
      " [0 0 0 0 0 0 0 0 1 0]\n",
      " [0 0 0 0 0 0 0 1 1 1]\n",
      " [0 0 0 0 0 0 1 1 1 1]]\n"
     ]
    }
   ],
   "source": [
    "def boolean_indexing_q2(N, x, y, r):\n",
    "    assert(0 < N)\n",
    "    assert(0 <= x and x < N)\n",
    "    assert(0 <= y and y < N)\n",
    "    assert(0 < r)\n",
    "    \n",
    "    rows = jnp.tile(jnp.arange(N)[..., None], N)\n",
    "    cols = rows.T\n",
    "    result = ((rows - x) ** 2.0 + (cols - y) ** 2.0 <= r ** 2.0).astype('int32')\n",
    "\n",
    "    chex.assert_shape(result, (N, N))\n",
    "    return result\n",
    "\n",
    "print(boolean_indexing_q2(10, 3, 4, 2))\n",
    "print('')\n",
    "print(boolean_indexing_q2(10, 9, 8, 2))"
   ]
  },
  {
   "cell_type": "markdown",
   "id": "1aeafc98-e78d-410c-bd1e-3c949d03ba12",
   "metadata": {},
   "source": [
    "## Indexing with Arrays of Indices"
   ]
  },
  {
   "cell_type": "code",
   "execution_count": 26,
   "id": "3a4a5763-41e9-4c55-b9d7-3704901f9ceb",
   "metadata": {},
   "outputs": [
    {
     "name": "stdout",
     "output_type": "stream",
     "text": [
      "[[ 0  1  2  3  4  5]\n",
      " [ 6  7  8  9 10 11]\n",
      " [12 13 14 15 16 17]\n",
      " [18 19 20 21 22 23]\n",
      " [24 25 26 27 28 29]\n",
      " [30 31 32 33 34 35]]\n",
      "\n",
      "[ 0  7 14 21 28 35]\n"
     ]
    }
   ],
   "source": [
    "def integer_indexing_q1(a):\n",
    "    chex.assert_rank(a, 2)\n",
    "    chex.assert_size(a, a.shape[0] ** 2)\n",
    "    \n",
    "    i = jnp.arange(a.shape[0])\n",
    "    result = a[(i, i)]\n",
    "\n",
    "    chex.assert_shape(result, (a.shape[0],))\n",
    "    return result\n",
    "\n",
    "a = jnp.arange(6 * 6).reshape(6, 6)\n",
    "print(a)\n",
    "print('')\n",
    "print(integer_indexing_q1(a))"
   ]
  },
  {
   "cell_type": "code",
   "execution_count": 29,
   "id": "6cc29246-3a74-4a14-a54c-198695fea0bb",
   "metadata": {},
   "outputs": [
    {
     "name": "stdout",
     "output_type": "stream",
     "text": [
      "[[ 0  1  2  3  4  5]\n",
      " [ 6  7  8  9 10 11]\n",
      " [12 13 14 15 16 17]\n",
      " [18 19 20 21 22 23]\n",
      " [24 25 26 27 28 29]\n",
      " [30 31 32 33 34 35]]\n",
      "\n",
      "Offset -2: [12 19 26 33]\n",
      "Offset -1: [ 6 13 20 27 34]\n",
      "Offset 0: [ 0  7 14 21 28 35]\n",
      "Offset 1: [ 1  8 15 22 29]\n",
      "Offset 2: [ 2  9 16 23]\n"
     ]
    }
   ],
   "source": [
    "def integer_indexing_q2(a, offset=0):\n",
    "    chex.assert_rank(a, 2)\n",
    "    chex.assert_size(a, a.shape[0] ** 2)\n",
    "    \n",
    "    i = jnp.arange(a.shape[0] - abs(offset)) - offset * (offset <= 0)\n",
    "    j = jnp.arange(a.shape[1] - abs(offset)) + offset * (offset > 0)\n",
    "    result = a[(i, j)]\n",
    "\n",
    "    chex.assert_shape(result, (a.shape[0] - abs(offset),))\n",
    "    return result\n",
    "\n",
    "a = jnp.arange(6 * 6).reshape(6, 6)\n",
    "print(a)\n",
    "print('')\n",
    "\n",
    "for offset in [-2, -1, 0, 1, 2]:\n",
    "    print(f'Offset {offset}:', integer_indexing_q2(a, offset=offset))"
   ]
  },
  {
   "cell_type": "markdown",
   "id": "7f2d8f68-e711-47f2-bb9d-6694559f9634",
   "metadata": {},
   "source": [
    "## Broadcasting"
   ]
  },
  {
   "cell_type": "code",
   "execution_count": 30,
   "id": "ab5af191-402b-4c18-b791-e80c7f91554d",
   "metadata": {},
   "outputs": [
    {
     "data": {
      "text/plain": [
       "Array([[17., 10., 41., 37.],\n",
       "       [10., 13., 20., 34.],\n",
       "       [ 9., 26.,  1., 29.]], dtype=float32)"
      ]
     },
     "execution_count": 30,
     "metadata": {},
     "output_type": "execute_result"
    }
   ],
   "source": [
    "def broadcasting_q1(a, b):\n",
    "    chex.assert_rank((a, b), 2)\n",
    "    chex.assert_equal_shape_suffix((a, b), 1)\n",
    "    \n",
    "    result = jnp.sum((b[None, ...] - a[:, None, ...]) ** 2.0, axis=-1)\n",
    "\n",
    "    chex.assert_shape(result, (a.shape[0], b.shape[0]))\n",
    "    return result\n",
    "\n",
    "a = jnp.array([\n",
    "    [1, 2],\n",
    "    [2, 4],\n",
    "    [5, 6],\n",
    "])\n",
    "\n",
    "b = jnp.array([\n",
    "    [5, 3],\n",
    "    [4, 1],\n",
    "    [6, 6],\n",
    "    [7, 1],\n",
    "])\n",
    "\n",
    "broadcasting_q1(a, b)"
   ]
  },
  {
   "cell_type": "code",
   "execution_count": null,
   "id": "821d426e-2d3b-4c3c-9a58-39b6e79ff5ae",
   "metadata": {},
   "outputs": [],
   "source": []
  }
 ],
 "metadata": {
  "kernelspec": {
   "display_name": "Python 3 (ipykernel)",
   "language": "python",
   "name": "python3"
  },
  "language_info": {
   "codemirror_mode": {
    "name": "ipython",
    "version": 3
   },
   "file_extension": ".py",
   "mimetype": "text/x-python",
   "name": "python",
   "nbconvert_exporter": "python",
   "pygments_lexer": "ipython3",
   "version": "3.10.12"
  }
 },
 "nbformat": 4,
 "nbformat_minor": 5
}
