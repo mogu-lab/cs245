{
 "cells": [
  {
   "cell_type": "markdown",
   "metadata": {},
   "source": [
    "# An Introduction to \"Vectorization\" in `Jax`\n",
    "\n",
    "**What is `Jax`?** `Jax` is a Python library for high-performance numerical computing and array operations capable of automatically run on different hardware (e.g. it can run on Graphical Processing Units---or GPUs---which are commonly used for training ML models). The main part of `Jax` you'll be interacting with (for now) comes from:"
   ]
  },
  {
   "cell_type": "code",
   "execution_count": 40,
   "metadata": {},
   "outputs": [],
   "source": [
    "import jax.numpy as jnp"
   ]
  },
  {
   "cell_type": "markdown",
   "metadata": {},
   "source": [
    "This portion of `Jax` introduces its main building block: multi-dimensional arrays. Unlike other similar libraries that offer similar array-based framework (e.g. `NumPy`), `Jax` has some features that will make it possible for us to efficiently build and train ML models. Specifically, it will allow us to easily and accurately (no approximations!) compute gradients of functions written in `Jax` calls, which will become useful for training models (though more on that at a much later part of the course).\n",
    "\n",
    "**Array operations: the building blocks behind ML code.** You may be wondering, why do we need arrays for ML? This is because, as you will see throughout this course, all of the code we will write can be conveniently expressed in terms of array operations. `Jax` will make these fast for us so we can spend more time thinking and less time waiting for your code to run. It's therefore important that we re-learn how to *think* and how to *write* algorithms in terms of array operations. \n",
    "\n",
    "**Vectorization: a paradigm shift.** Vanilla Python code is slow, and for many practical purposes, that's not a problem. For training ML models, however, it does become a problem. Unlike in previous classes you may have taken, where you were encouraged to write loops, if/else-expressions, and more, in `Jax` we'll take a different paradigm: we will avoid writing loops and if/else-expressions. By this, don't mean that you completely let go of all your previous coding knowledge. It will come in handy when reading in data, creating visualizations, etc. But for the compute-heavy part of your code, we will rely on `Jax` library calls to do the work for us. This practice---of avoiding writing loops and if/else-expressions in the compute-heavy part of the code---is known as *vectorization*. Vectorization in `Jax` is implemented to be very, very fast under the hood.\n",
    "\n",
    "**Outline:**\n",
    "1. We'll introduce the basics of `Jax`\n",
    "2. Once you have the basics down, we will show you how to *vectorize* code you would normally have written using loops\n",
    "\n",
    "**Acknowledgement.** Parts of this tutorial have been adapted from [this NumPy tutorial](https://numpy.org/doc/stable/user/quickstart.html)."
   ]
  },
  {
   "cell_type": "markdown",
   "metadata": {},
   "source": [
    "## Tips and Advice\n",
    "\n",
    "**Reading Documentation.** `Jax` was built to imitate another popular library, `NumPy`. Just about all functions implemented in `NumPy` have a corresponding `Jax` version with the same interface. Often, you'll find the internet has more resources on `NumPy` than on `Jax` (since `Jax` is newer) -- that's ok! The same tips often translate. Moreover, you may consider purposely looking up `NumPy` documentation to answer your questions because they often have *examples* (which the `Jax` documentation usually does not have). \n",
    "* You can find `jax.numpy` documentation [here](https://jax.readthedocs.io/en/latest/jax.numpy.html).\n",
    "* You can find `numpy` documentation [here](https://numpy.org/doc/stable/reference/routines.math.html).\n",
    "\n",
    "**Caution: do NOT mix up `NumPy` arrays with `Jax` arrays.** You can technically call `Jax` functions on `NumPy` arrays and vice versa. PLEASE DO NOT DO THAT. Doing so will not throw any errors, but may result in other bugs that are difficult to find. One way you can keep yourself from making this mistake is: do not import `NumPy` at all. \n",
    "\n",
    "**Unlike `NumPy` arrays, `Jax` are immutable.** By this, we mean that once created, they cannot be altered. Any operation you perform on a `Jax` array will return a brand new array. For example, in `Numpy` you can set the 0th index of an array equal to some value with `arr[0] = value`, but in `Jax`, this will throw an error. You might think: this seems really inefficient---does this mean we are constantly burdening our computer by requesting for memory? `Jax` actually leverages this property to speed things up (this is not something we'll cover in the class). We note this property here because it's important to be aware of it! *Any operation you perform on a `Jax` array needs to be saved into a new variable.*\n",
    "\n",
    "**When unsure, play!** Whenever you find yourself unsure of how something works, or confused by all the jargon in the documentation, that's totally normal. To gain intuition, we recommend you tinker and play: try out little bits of code on small arrays in a controlled setting and see what happens. "
   ]
  },
  {
   "cell_type": "markdown",
   "metadata": {},
   "source": [
    "## Properties of Arrays\n",
    "\n",
    "**So what does an array look like?** Here's an example:"
   ]
  },
  {
   "cell_type": "code",
   "execution_count": 41,
   "metadata": {},
   "outputs": [
    {
     "name": "stdout",
     "output_type": "stream",
     "text": [
      "[[1. 0. 0.]\n",
      " [0. 1. 2.]]\n"
     ]
    }
   ],
   "source": [
    "a = jnp.array([[1., 0., 0.], [0., 1., 2.]])\n",
    "print(a)"
   ]
  },
  {
   "cell_type": "markdown",
   "metadata": {},
   "source": [
    "The above array has 2 dimensions. The first axis has a length of 2, the second axis has a length of 3. You can determine the shape/size/dimensionality of the area as follows:"
   ]
  },
  {
   "cell_type": "code",
   "execution_count": 42,
   "metadata": {},
   "outputs": [
    {
     "name": "stdout",
     "output_type": "stream",
     "text": [
      "Number of dimensions: 2\n",
      "Shape (length along each axis/dimension): (2, 3)\n",
      "Size (total number of elements): 6\n"
     ]
    }
   ],
   "source": [
    "print('Number of dimensions:', a.ndim)\n",
    "print('Shape (length along each axis/dimension):', a.shape)\n",
    "print('Size (total number of elements):', a.size)"
   ]
  },
  {
   "cell_type": "markdown",
   "metadata": {},
   "source": [
    "**Array Types:** Arrays can also store different types of elements (e.g. ints, floats, etc.). You can determine what type of elements they store as follows:"
   ]
  },
  {
   "cell_type": "code",
   "execution_count": 43,
   "metadata": {},
   "outputs": [
    {
     "name": "stdout",
     "output_type": "stream",
     "text": [
      "An array of ints has dtype:   int32\n",
      "An array of floats has dtype: float32\n"
     ]
    }
   ],
   "source": [
    "array_of_ints = jnp.array([1, 2, 3])\n",
    "print('An array of ints has dtype:  ', array_of_ints.dtype)\n",
    "\n",
    "array_of_floats = jnp.array([1.0, 2.0, 3.0])\n",
    "print('An array of floats has dtype:', array_of_floats.dtype)"
   ]
  },
  {
   "cell_type": "markdown",
   "metadata": {},
   "source": [
    "Lastly, you can convert between array types as follows:"
   ]
  },
  {
   "cell_type": "code",
   "execution_count": 44,
   "metadata": {},
   "outputs": [
    {
     "name": "stdout",
     "output_type": "stream",
     "text": [
      "Array of ints converted to an array of floats: [1. 2. 3.]\n"
     ]
    }
   ],
   "source": [
    "print('Array of ints converted to an array of floats:', array_of_ints.astype('float32'))"
   ]
  },
  {
   "cell_type": "markdown",
   "metadata": {},
   "source": [
    "## Array Creation"
   ]
  },
  {
   "cell_type": "markdown",
   "metadata": {},
   "source": [
    "There are several ways to create arrays. For example, you can create an array from a regular Python list or tuple using the `jnp.array` function. The type of the resulting array is deduced from the type of the elements in the sequences:"
   ]
  },
  {
   "cell_type": "code",
   "execution_count": 45,
   "metadata": {},
   "outputs": [],
   "source": [
    "array_from_list = jnp.array([1.2, 3.5, 5.1])"
   ]
  },
  {
   "cell_type": "markdown",
   "metadata": {},
   "source": [
    "The function `jnp.zeros` creates an array full of zeros, and the function `jnp.ones` creates an array full of ones. These functions all require the shape of the desired array. (Note that by default, the `dtype` of the created array is `float64`, but it can be specified via the keyword argument `dtype`)."
   ]
  },
  {
   "cell_type": "code",
   "execution_count": 46,
   "metadata": {},
   "outputs": [
    {
     "name": "stdout",
     "output_type": "stream",
     "text": [
      "Array of zeros:\n",
      "[[0. 0. 0. 0.]\n",
      " [0. 0. 0. 0.]\n",
      " [0. 0. 0. 0.]]\n",
      "\n",
      "Array of ones:\n",
      "[[[1. 1. 1. 1.]\n",
      "  [1. 1. 1. 1.]\n",
      "  [1. 1. 1. 1.]]\n",
      "\n",
      " [[1. 1. 1. 1.]\n",
      "  [1. 1. 1. 1.]\n",
      "  [1. 1. 1. 1.]]]\n"
     ]
    }
   ],
   "source": [
    "array_of_zeros = jnp.zeros((3, 4))\n",
    "print('Array of zeros:')\n",
    "print(array_of_zeros)\n",
    "print('')\n",
    "\n",
    "array_of_ones = jnp.ones((2, 3, 4))\n",
    "print('Array of ones:')\n",
    "print(array_of_ones)"
   ]
  },
  {
   "cell_type": "markdown",
   "metadata": {},
   "source": [
    "To create sequences of numbers, we can use the `jnp.arange` function, which is analogous to the Python built-in range, but returns an array---by default, it counts from 0 up to the given number. A similar function you may want to check out is `jnp.linspace`."
   ]
  },
  {
   "cell_type": "code",
   "execution_count": 47,
   "metadata": {},
   "outputs": [
    {
     "name": "stdout",
     "output_type": "stream",
     "text": [
      "From 0 to 10 in increments of 1: [0. 1. 2. 3. 4. 5. 6. 7. 8. 9.]\n",
      "From 4 to 20 in increments of 5: [ 4.  9. 14. 19.]\n"
     ]
    }
   ],
   "source": [
    "print('From 0 to 10 in increments of 1:', jnp.arange(10.0))\n",
    "print('From 4 to 20 in increments of 5:', jnp.arange(4.0, 20.0, 5.0))"
   ]
  },
  {
   "cell_type": "markdown",
   "metadata": {},
   "source": [
    "## Shape Manipulation"
   ]
  },
  {
   "cell_type": "markdown",
   "metadata": {},
   "source": [
    "**Reshaping arrays:** Sometimes you may find the need to change the shape of an array (while keeping its size the same). This can be done in a number of ways, depending on the need. First, you can simply `reshape` it:"
   ]
  },
  {
   "cell_type": "code",
   "execution_count": 48,
   "metadata": {},
   "outputs": [
    {
     "name": "stdout",
     "output_type": "stream",
     "text": [
      "a = [ 0  1  2  3  4  5  6  7  8  9 10 11]\n",
      "\n",
      "a.reshape(3, 4) =\n",
      "[[ 0  1  2  3]\n",
      " [ 4  5  6  7]\n",
      " [ 8  9 10 11]]\n",
      "\n",
      "a.reshape(2, -1) =\n",
      "[[ 0  1  2  3  4  5]\n",
      " [ 6  7  8  9 10 11]]\n"
     ]
    }
   ],
   "source": [
    "a = jnp.arange(12)\n",
    "print('a =', a)\n",
    "print('')\n",
    "\n",
    "print('a.reshape(3, 4) =')\n",
    "print(a.reshape(3, 4))\n",
    "print('')\n",
    "\n",
    "print('a.reshape(2, -1) =')\n",
    "print(a.reshape(2, -1))"
   ]
  },
  {
   "cell_type": "markdown",
   "metadata": {},
   "source": [
    "In the above example, using the `-1` argument tells `reshape` to automatically calculate the shape for that dimension.\n",
    "\n",
    "**Unsqueesing and Squeezing:** Next, you may often find yourself needing to pad the dimension by 1---this is known as \"unsqueezing.\" By that, we mean that you may want to turn an array with shape $(N,)$ into an array with shape $(N, 1)$ or $(1, N)$. This can be helpful if we want to concatenate several arrays together along a dimension they currently do not have. For example, we can concatenate two arrays of shape $(1, N)$ into a single array of $(2, N)$.\n",
    "\n",
    "We can do this as follows:"
   ]
  },
  {
   "cell_type": "code",
   "execution_count": 49,
   "metadata": {},
   "outputs": [
    {
     "name": "stdout",
     "output_type": "stream",
     "text": [
      "a       = [0 1 2]\n",
      "b       = [3 4 5]\n",
      "a.shape = (3,)\n",
      "b.shape = (3,)\n",
      "\n",
      "a_unsqueezed       = [[0 1 2]]\n",
      "a_unsqueezed.shape = (1, 3)\n",
      "b_unsqueezed       = [[3 4 5]]\n",
      "b_unsqueezed.shape = (1, 3)\n",
      "\n",
      "a_and_b =\n",
      "[[0 1 2]\n",
      " [3 4 5]]\n",
      "a_and_b.shape = (2, 3)\n"
     ]
    }
   ],
   "source": [
    "# Create two arrays and print out their shape\n",
    "a = jnp.arange(3)\n",
    "b = jnp.arange(3) + 3\n",
    "print('a       =', a)\n",
    "print('b       =', b)\n",
    "print('a.shape =', a.shape)\n",
    "print('b.shape =', b.shape)\n",
    "print('')\n",
    "\n",
    "# \"Unsqueeze\" the array along it's 0-th axis\n",
    "a_unsqueezed = a[None, ...]\n",
    "b_unsqueezed = b[None, ...]\n",
    "print('a_unsqueezed       =', a_unsqueezed)\n",
    "print('a_unsqueezed.shape =', a_unsqueezed.shape)\n",
    "print('b_unsqueezed       =', b_unsqueezed)\n",
    "print('b_unsqueezed.shape =', b_unsqueezed.shape)\n",
    "print('')\n",
    "\n",
    "# Concatenate along its 0th axis\n",
    "a_and_b = jnp.concatenate([a_unsqueezed, b_unsqueezed], axis=0)\n",
    "print('a_and_b =')\n",
    "print(a_and_b)\n",
    "print('a_and_b.shape =', a_and_b.shape)"
   ]
  },
  {
   "cell_type": "markdown",
   "metadata": {},
   "source": [
    "(We will explain what is meant by the ellipsis, `...`, below). You can similarly take a way a dimension of size one by squeezing it: `a_unsqueezed.squeeze(axis=1)`, where the `axis` argument tells us which dimension to remove. "
   ]
  },
  {
   "cell_type": "markdown",
   "metadata": {},
   "source": [
    "## Array Operations\n",
    "\n",
    "**Elementwise (shape-preserving) operations:** Arithmetic operators on arrays apply elementwise. By this, we mean that the operation is applied independently to each element of the original array. A new array is then created and filled with the result."
   ]
  },
  {
   "cell_type": "code",
   "execution_count": 50,
   "metadata": {},
   "outputs": [
    {
     "name": "stdout",
     "output_type": "stream",
     "text": [
      "a           = [20. 30. 40. 50.]\n",
      "b           = [0. 1. 2. 3.]\n",
      "\n",
      "a - b       = [20. 29. 38. 47.]\n",
      "b^2         = [0. 1. 4. 9.]\n",
      "10 * sin(a) = [ 9.129453  -9.880316   7.4511313 -2.6237485]\n",
      "a < 35      = [ True  True False False]\n",
      "a * b       = [  0.  30.  80. 150.]\n"
     ]
    }
   ],
   "source": [
    "a = jnp.array([20, 30, 40, 50]).astype('float32')\n",
    "b = jnp.arange(4.0)\n",
    "print('a           =', a)\n",
    "print('b           =', b)\n",
    "print('')\n",
    "\n",
    "print('a - b       =', a - b)\n",
    "print('b^2         =', b ** 2.0) # the double-star means power\n",
    "print('10 * sin(a) =', 10.0 * jnp.sin(a))\n",
    "print('a < 35      =', a < 35)\n",
    "print('a * b       =', a * b)"
   ]
  },
  {
   "cell_type": "markdown",
   "metadata": {},
   "source": [
    "All of the operations we showed above are *element-wise operations*, meaning that shapes of the inputs match the shapes of the outputs. `Jax` also has many useful operations that do not preserve the shape of the array. For example, an operation that computes a sum, minimum, or maximum, as follows:"
   ]
  },
  {
   "cell_type": "code",
   "execution_count": 51,
   "metadata": {
    "scrolled": true
   },
   "outputs": [
    {
     "name": "stdout",
     "output_type": "stream",
     "text": [
      "a       = [0. 1. 2. 3. 4.]\n",
      "a.sum() = 10.0\n",
      "a.min() = 0.0\n",
      "a.max() = 4.0\n"
     ]
    }
   ],
   "source": [
    "a = jnp.arange(5.0)\n",
    "print('a       =', a)\n",
    "print('a.sum() =', a.sum())\n",
    "print('a.min() =', a.min())\n",
    "print('a.max() =', a.max())"
   ]
  },
  {
   "cell_type": "markdown",
   "metadata": {},
   "source": [
    "**Non shape-preserving operations:** Oftentimes, we will use these non-shape preserving operations on only *one* of the arrays dimensions. For these, we will need to specify the axis along which we would like to perform the operation. The axis is specified as a number, where, for 2-dimensional arrays, 0 means the operation will be performed over columns, and 1 means the operation will be performed over rows. See below:"
   ]
  },
  {
   "cell_type": "code",
   "execution_count": 52,
   "metadata": {},
   "outputs": [
    {
     "name": "stdout",
     "output_type": "stream",
     "text": [
      "a =\n",
      "[[ 0.  1.  2.  3.]\n",
      " [ 4.  5.  6.  7.]\n",
      " [ 8.  9. 10. 11.]]\n",
      "\n",
      "a.sum(axis=0) = [12. 15. 18. 21.]\n",
      "a.min(axis=1) = [0. 1. 2. 3.]\n"
     ]
    }
   ],
   "source": [
    "a = jnp.arange(12.0).reshape(3, 4)\n",
    "print('a =')\n",
    "print(a)\n",
    "print('')\n",
    "\n",
    "print('a.sum(axis=0) =', a.sum(axis=0))\n",
    "print('a.min(axis=1) =', a.min(axis=0))"
   ]
  },
  {
   "cell_type": "markdown",
   "metadata": {},
   "source": [
    "**Best practice for specifying axes:** The axes can also be indexed in reverse, relative to the shape of the array. For example,\n",
    "* For a 3-dimensional array with shape $(3, 4, 5)$, specifying `axis=-1` means performing the operation on the dimension of size 5, resulting in a 2-dimensional array of shape $(3, 4)$.\n",
    "* Similarly, specifying `axis=-2` means performing the operation on the dimension of size 4, resulting in a 2-dimensional array of shape $(3, 5)$.\n",
    "\n",
    "In `NumPyro`, which we will introduce later, *it is best to always specify dimensions using the reverse/negative indexing.*\n",
    "\n",
    "**What other operations exist in `Jax`?** A lot. These are just a few examples. Any function you may be interested in likely already exists in `Jax` -- be sure to look at the documentation (linked above) and google around before deciding to write your own! "
   ]
  },
  {
   "cell_type": "markdown",
   "metadata": {},
   "source": [
    "```{admonition} Exercise\n",
    "Please solve the following using `Jax` library calls only (no loops!):\n",
    "**Part 1:** Write a function that, given $N$, returns $\\sum\\limits_{i=0}^{N - 1} \\log(i + 1)$.\n",
    "\n",
    "Test cases:\n",
    "* For $N = 10$, the result is $15.104412$.\n",
    "* For $N = 20$, the result is $42.335617$. \n",
    "\n",
    "**Part 2:** Write a function that, given $N$ and $M$, returns $\\sum\\limits_{i=0}^{N - 1} \\sum\\limits_{j=0}^{M - 1} \\log(i \\cdot j + 1)$. *Hint: one way to do this is with `jnp.tile` and `jnp.transpose`.*\n",
    "\n",
    "Test cases:\n",
    "* For $N = 5, M = 10$, the result is $84.905975$. \n",
    "* For $N = 30, M = 20$, the result is $2507.8206$. \n",
    "```"
   ]
  },
  {
   "cell_type": "code",
   "execution_count": 1,
   "metadata": {},
   "outputs": [],
   "source": [
    "def array_operations_q1(N):\n",
    "    pass # TODO implement\n",
    "\n",
    "def array_operations_q2(N, M):\n",
    "    pass # TODO implement"
   ]
  },
  {
   "cell_type": "markdown",
   "metadata": {},
   "source": [
    "## Array Slicing\n",
    "\n",
    "Now that we have some general machinery for performing basic mathematical computation with arrays in `Jax`, we will introduce some ways of extracting subsections of arrays in different ways. We can do this as follows:"
   ]
  },
  {
   "cell_type": "code",
   "execution_count": 56,
   "metadata": {},
   "outputs": [
    {
     "name": "stdout",
     "output_type": "stream",
     "text": [
      "a = [0 1 2 3 4 5 6 7 8 9]\n",
      "\n",
      "Everything until the 5th index           = [0 1 2 3 4]\n",
      "Everything from the 5th index onwards    = [5 6 7 8 9]\n",
      "Everything between the 2nd and 6th index = [2 3 4 5]\n",
      "Everything except the last element       = [0 1 2 3 4 5 6 7 8]\n"
     ]
    }
   ],
   "source": [
    "a = jnp.arange(10)\n",
    "print('a =', a)\n",
    "print('')\n",
    "\n",
    "print('Everything until the 5th index           =', a[:5])\n",
    "print('Everything from the 5th index onwards    =', a[5:])\n",
    "print('Everything between the 2nd and 6th index =', a[2:6])\n",
    "print('Everything except the last element       =', a[:-1])"
   ]
  },
  {
   "cell_type": "markdown",
   "metadata": {},
   "source": [
    "Of course, we can extend this to higher-dimensional arrays. First, note that a multi-dimensional array can be thought of as an array of arrays. That is, an array with shape $(N, M)$ can be thought of an array of length $N$, in which every element is an array of length $M$. Given this view, the notation we just introduced still works, it just returns 2-dimensional slices instead of 1-dimensional slices:"
   ]
  },
  {
   "cell_type": "code",
   "execution_count": 57,
   "metadata": {},
   "outputs": [
    {
     "name": "stdout",
     "output_type": "stream",
     "text": [
      "a =\n",
      "[[ 0  1  2]\n",
      " [ 3  4  5]\n",
      " [ 6  7  8]\n",
      " [ 9 10 11]\n",
      " [12 13 14]]\n",
      "\n",
      "Everything until the 3th index =\n",
      "[[0 1 2]\n",
      " [3 4 5]\n",
      " [6 7 8]]\n",
      "\n",
      "Everything from the 3th index onwards =\n",
      "[[ 9 10 11]\n",
      " [12 13 14]]\n",
      "\n",
      "Everything between the 1st and 3rd index =\n",
      "[[3 4 5]\n",
      " [6 7 8]]\n",
      "\n",
      "Everything except the last element =\n",
      "[[ 0  1  2]\n",
      " [ 3  4  5]\n",
      " [ 6  7  8]\n",
      " [ 9 10 11]]\n"
     ]
    }
   ],
   "source": [
    "a = jnp.arange(15).reshape(5, 3)\n",
    "print('a =')\n",
    "print(a)\n",
    "print('')\n",
    "\n",
    "print('Everything until the 3th index =')\n",
    "print(a[:3])\n",
    "print('')\n",
    "\n",
    "print('Everything from the 3th index onwards =')\n",
    "print(a[3:])\n",
    "print('')\n",
    "\n",
    "print('Everything between the 1st and 3rd index =')\n",
    "print(a[1:3])\n",
    "print('')\n",
    "\n",
    "print('Everything except the last element =')\n",
    "print(a[:-1])"
   ]
  },
  {
   "cell_type": "markdown",
   "metadata": {},
   "source": [
    "We can also slice arrays along multiple dimensions simultaneously:"
   ]
  },
  {
   "cell_type": "code",
   "execution_count": 55,
   "metadata": {},
   "outputs": [
    {
     "name": "stdout",
     "output_type": "stream",
     "text": [
      "a =\n",
      "[[ 0  1  2]\n",
      " [ 3  4  5]\n",
      " [ 6  7  8]\n",
      " [ 9 10 11]\n",
      " [12 13 14]]\n",
      "\n",
      "Example: slicing each axis differently =\n",
      "[[1 2]\n",
      " [4 5]\n",
      " [7 8]]\n",
      "\n",
      "Example: slicing only the second axis =\n",
      "[[ 1  2]\n",
      " [ 4  5]\n",
      " [ 7  8]\n",
      " [10 11]\n",
      " [13 14]]\n"
     ]
    }
   ],
   "source": [
    "a = jnp.arange(15).reshape(5, 3)\n",
    "print('a =')\n",
    "print(a)\n",
    "print('')\n",
    "\n",
    "print('Example: slicing each axis differently =')\n",
    "print(a[:3, 1:])\n",
    "print('')\n",
    "\n",
    "print('Example: slicing only the second axis =')\n",
    "print(a[:, 1:])"
   ]
  },
  {
   "cell_type": "markdown",
   "metadata": {},
   "source": [
    "Notice in the above, `:` indicates \"take everything along axis\". \n",
    "\n",
    "Last but not least, we introduce the elipsis notation you saw earlier (when squeezing and unsqueezing): `...`. This notation is similar to `:`. It says \"take everything along all axes up until current axis.\" This might be confusing, so let's illustrate this with an example. Suppose we have an array `a` of shape $(N, M, K, L)$:\n",
    "* `a[..., :5]` will return an array of size $(N, M, K, 5)$. It leaves all axes alone except the very last one, from which it keeps only the first 5 entries.\n",
    "* Similarly, `a[..., :3, :5]` will return an array of size $(N, M, 3, 5)$.\n",
    "* We can also put the elipsis at the end. `a[:-2, ...]` will return an array of size $(N - 2, M, K, L)$."
   ]
  },
  {
   "cell_type": "markdown",
   "metadata": {},
   "source": [
    "```{admonition} Exercise\n",
    "Please solve the following using `Jax` library calls only (no loops!):\n",
    "**Part 1:** Write a function that, given an array `a` of shape $(N,)$, returns a new array `b` of shape $(N - 1,)$ in which index $i$ contains `b[i] = a[i + 1] - a[i]`.\n",
    "\n",
    "Test cases:\n",
    "* For $a = [0.0, 1.0, 5.0, 10.0, 20.0]$, the result is: $[ 1.0,  4.0,  5.0, 10.0]$.\n",
    "\n",
    "**Part 2:** Extend the function you wrote to multi-dimensional arrays, where the operation is only performed on the last dimension. That is, if an array `a` of shape $(N, M, K)$ is given, return an array `b` of shape $(N, M, K-1)$.\n",
    "\n",
    "Test cases:\n",
    "* For $a = [[0.0, 1.0, 5.0, 10.0, 20.0], [2.0, 5.0, 6.0, 20.0, 30.0]]$, the result is: $[[ 1.0,  4.0,  5.0, 10.0], [ 3.0,  1.0, 14.0, 10.0]]$.\n",
    "```"
   ]
  },
  {
   "cell_type": "code",
   "execution_count": 2,
   "metadata": {},
   "outputs": [],
   "source": [
    "def array_slicing_q1(a):\n",
    "    pass # TODO implement\n",
    "\n",
    "def array_slicing_q2(a):\n",
    "    pass # TODO implement"
   ]
  }
 ],
 "metadata": {
  "celltoolbar": "Slideshow",
  "kernelspec": {
   "display_name": "Python 3 (ipykernel)",
   "language": "python",
   "name": "python3"
  },
  "language_info": {
   "codemirror_mode": {
    "name": "ipython",
    "version": 3
   },
   "file_extension": ".py",
   "mimetype": "text/x-python",
   "name": "python",
   "nbconvert_exporter": "python",
   "pygments_lexer": "ipython3",
   "version": "3.10.12"
  }
 },
 "nbformat": 4,
 "nbformat_minor": 4
}
