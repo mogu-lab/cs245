{
 "cells": [
  {
   "cell_type": "markdown",
   "metadata": {},
   "source": [
    "# Advanced Vectorization in `Jax`\n",
    "\n",
    "In the previous guide on `Jax`, we introduced the basic building blocks---multi-dimensional arrays---as well as a new paradigm for writing code without loops or if/else-expressions. Here, we continue building on this paradigm with more advanced (yet common) uses of `Jax` in ML. \n",
    "\n",
    "Let's get ourselves started by importing some libraries."
   ]
  },
  {
   "cell_type": "code",
   "execution_count": 2,
   "metadata": {},
   "outputs": [],
   "source": [
    "import jax\n",
    "import jax.numpy as jnp\n",
    "import chex"
   ]
  },
  {
   "cell_type": "markdown",
   "metadata": {},
   "source": [
    "**Acknowledgement.** Parts of this tutorial have been adapted from [this NumPy tutorial](https://numpy.org/doc/stable/user/quickstart.html)."
   ]
  },
  {
   "cell_type": "markdown",
   "metadata": {},
   "source": [
    "## Indexing with Boolean Arrays\n",
    "\n",
    "Whereas *slicing* is typically used to extract contiguous chunks from an array (i.e. a subsection of elements that belonged together in the original array), *indexing* will allow us to extract non-contiguous parts. How? It's easier shown than explained.\n",
    "\n",
    "You may remember from the introductory guide to `Jax` that performing boolean operations on an array returns a boolean array. Here's an example:"
   ]
  },
  {
   "cell_type": "code",
   "execution_count": 66,
   "metadata": {},
   "outputs": [
    {
     "name": "stdout",
     "output_type": "stream",
     "text": [
      "a       = [0 1 2 3 4 5 6 7 8 9]\n",
      "is even = [ True False  True False  True False  True False  True False]\n"
     ]
    }
   ],
   "source": [
    "a = jnp.arange(10)\n",
    "print('a       =', a)\n",
    "print('is even =', a % 2 == 0)"
   ]
  },
  {
   "cell_type": "markdown",
   "metadata": {},
   "source": [
    "By using these boolean arrays, we can perform subselections:"
   ]
  },
  {
   "cell_type": "code",
   "execution_count": 67,
   "metadata": {},
   "outputs": [
    {
     "name": "stdout",
     "output_type": "stream",
     "text": [
      "Even elements from a = [0 2 4 6 8]\n"
     ]
    }
   ],
   "source": [
    "b = a[a % 2 == 0]\n",
    "print('Even elements from a =', b)"
   ]
  },
  {
   "cell_type": "markdown",
   "metadata": {},
   "source": [
    "Using this, you can easily write functions that have some very complicated behaviors. As an example, the function,\n",
    "\\begin{align*}\n",
    "f(x) &= \\begin{cases}\n",
    "x^2 & \\text{if $x$ is even} \\\\\n",
    "x^3 & \\text{if $x$ is odd} \\\\\n",
    "\\end{cases}\n",
    "\\end{align*}\n",
    "can be implemented as follows:"
   ]
  },
  {
   "cell_type": "code",
   "execution_count": 73,
   "metadata": {},
   "outputs": [
    {
     "name": "stdout",
     "output_type": "stream",
     "text": [
      "[  0.   1.   4.  27.  16. 125.  36. 343.  64. 729.]\n"
     ]
    }
   ],
   "source": [
    "def f(x):\n",
    "    is_even = (x % 2 == 0)\n",
    "    return is_even * (x ** 2.0) + ~is_even * (x ** 3.0)\n",
    "\n",
    "print(f(jnp.arange(10)))"
   ]
  },
  {
   "cell_type": "markdown",
   "metadata": {},
   "source": [
    "In the above, we first created a boolean variable `is_even`, which has values `True` only at indices where $x$ is even. By multiplying `is_even` times $x$, we automatically cast it to an integer. This means that wherever `is_even` is `True`, it becomes 1, and when it's false, it becomes 0. As such, `is_even * (x ** 2.0)` returns an array in which every element is $x^2$ when $x$ is even and is $0$ otherwise. In contrast, `~is_even * (x ** 3.0)` returns an array in which every element is 0 when $x$ is even and is $x^3$ otherwise (the `~` notation flips the boolean values). When we add the two resultant arrays, we get the answer we were looking for.\n",
    "\n",
    "While the above example has pedagogical value, the logic does become a little obfuscated with all of the casting and such. Here's another, cleaner way to implement the above function using `jnp.where`:"
   ]
  },
  {
   "cell_type": "code",
   "execution_count": 74,
   "metadata": {},
   "outputs": [
    {
     "name": "stdout",
     "output_type": "stream",
     "text": [
      "[  0.   1.   4.  27.  16. 125.  36. 343.  64. 729.]\n"
     ]
    }
   ],
   "source": [
    "def f(x):\n",
    "    return jnp.where(x % 2 == 0, x ** 2.0, x ** 3.0)\n",
    "    \n",
    "print(f(jnp.arange(10)))"
   ]
  },
  {
   "cell_type": "markdown",
   "metadata": {},
   "source": [
    "Here, `jnp.where` uses the condition `x % 2 == 0` (is even) to select elements from one of two arrays, $x^2$ or $x^3$."
   ]
  },
  {
   "cell_type": "markdown",
   "metadata": {},
   "source": [
    "````{admonition} Exercise\n",
    "As before, please solve the following using `Jax` library calls only (no loops, no if/else!):\n",
    "\n",
    "**Part 1:** Write a function that takes in an integer $N$, a coordinate $x, y$, and a radius $r$. The function should return an integer array of shape $(N, N)$ in which every element is 0 except elements that are within radius $r$ of $(x, y)$ (i.e. every element $i, j$ should be 1 if $(x - i)^2 + (y - j)^2 \\leq r^2$) and 0 otherwise. For example, for $N = 10$, $x = 5$, $y = 5$, and $r = 2$, the function should return:\n",
    "```\n",
    "Array([[0, 0, 0, 0, 0, 0, 0, 0, 0, 0],\n",
    "       [0, 0, 0, 0, 0, 0, 0, 0, 0, 0],\n",
    "       [0, 0, 0, 0, 0, 0, 0, 0, 0, 0],\n",
    "       [0, 0, 0, 0, 0, 1, 0, 0, 0, 0],\n",
    "       [0, 0, 0, 0, 1, 1, 1, 0, 0, 0],\n",
    "       [0, 0, 0, 1, 1, 1, 1, 1, 0, 0],\n",
    "       [0, 0, 0, 0, 1, 1, 1, 0, 0, 0],\n",
    "       [0, 0, 0, 0, 0, 1, 0, 0, 0, 0],\n",
    "       [0, 0, 0, 0, 0, 0, 0, 0, 0, 0],\n",
    "       [0, 0, 0, 0, 0, 0, 0, 0, 0, 0]], dtype=int32)\n",
    "```\n",
    "Similarly, for $N = 10$, $x = 5$, $y = 0$, and $r = 2$, the function should return:\n",
    "```\n",
    "Array([[0, 0, 0, 0, 0, 0, 0, 0, 0, 0],\n",
    "       [0, 0, 0, 0, 0, 0, 0, 0, 0, 0],\n",
    "       [0, 0, 0, 0, 0, 0, 0, 0, 0, 0],\n",
    "       [1, 0, 0, 0, 0, 0, 0, 0, 0, 0],\n",
    "       [1, 1, 0, 0, 0, 0, 0, 0, 0, 0],\n",
    "       [1, 1, 1, 0, 0, 0, 0, 0, 0, 0],\n",
    "       [1, 1, 0, 0, 0, 0, 0, 0, 0, 0],\n",
    "       [1, 0, 0, 0, 0, 0, 0, 0, 0, 0],\n",
    "       [0, 0, 0, 0, 0, 0, 0, 0, 0, 0],\n",
    "       [0, 0, 0, 0, 0, 0, 0, 0, 0, 0]], dtype=int32)\n",
    "```\n",
    "\n",
    "**Part 2:** Write a function that, given an integer $N \\geq 2$, returns an integer array of shape $(N, N)$ with a checkerboard pattern of 0s and 1s. For example, for $N = 5$, the function should return:\n",
    "```\n",
    "Array([[1, 0, 1, 0, 1],\n",
    "       [0, 1, 0, 1, 0],\n",
    "       [1, 0, 1, 0, 1],\n",
    "       [0, 1, 0, 1, 0],\n",
    "       [1, 0, 1, 0, 1]], dtype=int32)\n",
    "```\n",
    "````"
   ]
  },
  {
   "cell_type": "code",
   "execution_count": 127,
   "metadata": {},
   "outputs": [],
   "source": [
    "def indexing_q1(N, x, y, r):\n",
    "    rows = jnp.tile(jnp.arange(N)[..., None], N)\n",
    "    cols = rows.T\n",
    "    return ((rows - x) ** 2.0 + (cols - y) ** 2.0 <= r ** 2.0).astype('int')\n",
    "\n",
    "def indexing_q2(N):\n",
    "    a = jnp.arange(N * N).reshape(N, N)\n",
    "    b = (a % 2 == 0).astype('int')\n",
    "    return (N % 2 == 0) * jnp.abs(b - b.T) + (N % 2 == 1) * b"
   ]
  },
  {
   "cell_type": "markdown",
   "metadata": {},
   "source": [
    "## Indexing with Integer Arrays\n",
    "\n",
    "Whereas boolean indexing selected elements from an array based on a boolean statement, we can also select elements from an array by using"
   ]
  },
  {
   "cell_type": "code",
   "execution_count": null,
   "metadata": {},
   "outputs": [],
   "source": []
  },
  {
   "cell_type": "code",
   "execution_count": null,
   "metadata": {},
   "outputs": [],
   "source": []
  },
  {
   "cell_type": "code",
   "execution_count": null,
   "metadata": {},
   "outputs": [],
   "source": []
  },
  {
   "cell_type": "markdown",
   "metadata": {},
   "source": [
    "## Broadcasting"
   ]
  },
  {
   "cell_type": "code",
   "execution_count": null,
   "metadata": {},
   "outputs": [],
   "source": []
  },
  {
   "cell_type": "code",
   "execution_count": null,
   "metadata": {},
   "outputs": [],
   "source": []
  },
  {
   "cell_type": "markdown",
   "metadata": {},
   "source": [
    "## Fast Mapping with `vmap`"
   ]
  },
  {
   "cell_type": "code",
   "execution_count": null,
   "metadata": {},
   "outputs": [],
   "source": []
  },
  {
   "cell_type": "code",
   "execution_count": null,
   "metadata": {},
   "outputs": [],
   "source": []
  },
  {
   "cell_type": "markdown",
   "metadata": {},
   "source": [
    "## Catching Bugs Early with `chex`"
   ]
  },
  {
   "cell_type": "code",
   "execution_count": null,
   "metadata": {},
   "outputs": [],
   "source": []
  }
 ],
 "metadata": {
  "celltoolbar": "Slideshow",
  "kernelspec": {
   "display_name": "Python 3 (ipykernel)",
   "language": "python",
   "name": "python3"
  },
  "language_info": {
   "codemirror_mode": {
    "name": "ipython",
    "version": 3
   },
   "file_extension": ".py",
   "mimetype": "text/x-python",
   "name": "python",
   "nbconvert_exporter": "python",
   "pygments_lexer": "ipython3",
   "version": "3.10.12"
  }
 },
 "nbformat": 4,
 "nbformat_minor": 4
}
