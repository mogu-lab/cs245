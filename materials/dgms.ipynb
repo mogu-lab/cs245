{
 "cells": [
  {
   "cell_type": "markdown",
   "id": "c4896889-43a8-4e1c-b5f8-a0d012c463fe",
   "metadata": {},
   "source": [
    "# Directed Graphical Models"
   ]
  },
  {
   "cell_type": "code",
   "execution_count": 1,
   "id": "f4b63666-0869-4b9a-82d6-e44d2a6407fe",
   "metadata": {},
   "outputs": [],
   "source": [
    "# Import some helper functions (please ignore this!)\n",
    "from utils import * "
   ]
  },
  {
   "cell_type": "markdown",
   "id": "4de18b8a-66d0-4b4e-b80a-35c1c08743b5",
   "metadata": {},
   "source": [
    "**Topics:**\n",
    "* Goal: describe probability of data given parameters\n",
    "* Introduce statistical independence (between observations)\n",
    "* Introduce graphical representation\n",
    "* Vectorization in NumPyro distributions\n",
    "* NumPyro primitives\n",
    "* Implement model in NumPyro  "
   ]
  },
  {
   "cell_type": "code",
   "execution_count": null,
   "id": "2c936e00-86a5-4192-ac12-dce7e883271e",
   "metadata": {},
   "outputs": [],
   "source": []
  }
 ],
 "metadata": {
  "kernelspec": {
   "display_name": "Python 3 (ipykernel)",
   "language": "python",
   "name": "python3"
  },
  "language_info": {
   "codemirror_mode": {
    "name": "ipython",
    "version": 3
   },
   "file_extension": ".py",
   "mimetype": "text/x-python",
   "name": "python",
   "nbconvert_exporter": "python",
   "pygments_lexer": "ipython3",
   "version": "3.10.12"
  }
 },
 "nbformat": 4,
 "nbformat_minor": 5
}
