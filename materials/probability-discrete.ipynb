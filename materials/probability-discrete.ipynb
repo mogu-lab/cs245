{
 "cells": [
  {
   "cell_type": "markdown",
   "metadata": {
    "slideshow": {
     "slide_type": "slide"
    }
   },
   "source": [
    "# Discrete Probability"
   ]
  },
  {
   "cell_type": "markdown",
   "metadata": {},
   "source": [
    "## Motivation\n",
    "\n",
    "**Context:** As your first assignment at IHH's ML team, you've been tasked with better understanding their Emergency Room (ER). Since you're new, you'd first like to better understand how the ER works at a high level. Specifically, you'd like to answer questions like:\n",
    "\n",
    "* Q1: How many beings come to ER every day?\n",
    "* Q2: Overall, what conditions do the beings come to the ER for? (e.g. inflamed antenna, fever, etc.)\n",
    "* Q3: How many being remain hospitalized over night?\n",
    "\n",
    "**Challenge:** The answer to both of these questions cannot be given by a single number (e.g. the number of beings that come to the ER changes from day to day). So how can we give a deterministic answer to a question whose response is inherently variable or *stochastic*? Answer: *probability distributions*. Probability distributions are the basic building block that we will use to build complex ML systems. \n",
    "\n",
    "**Outline:** \n",
    "1. Introduce and practice the concepts, terminology, and notation behind discrete probability distributions (continuous distributions will be covered next).\n",
    "2. Answer the above questions using this new toolset.\n",
    "3. Start to gain familiarity with two important Python libraries we will use throughout the semester: `Jax` and `NumPyro`."
   ]
  },
  {
   "cell_type": "markdown",
   "metadata": {},
   "source": [
    "## Terminology and Notation for Discrete Probability\n",
    "\n",
    "As in the spirit of all Computer Science classes, if we want the help of a computer to solve a problem, we need a *language* to precisely specify what we want it to do. Today, we will introduce the language---terminology and notation---from statistics, and we will then translate it into code that a computer can run.\n",
    "\n",
    "The terminology that we introduce here is slightly different from ones that you may have seen in a statistics class. The reason for this is that we're honing in on the minimal subset of terminology we need to describe a probabilistic ML model."
   ]
  },
  {
   "cell_type": "markdown",
   "metadata": {},
   "source": [
    "**Random Variable (RV):** A variable whose possible values are outcomes of a random phenomenon.\n",
    "> Example: Let $N$ be an RV describing the number of beings that come into the ER on a given day.\n",
    "\n",
    "**Sample:** A sample is a particular observation of the random phenomenon.\n",
    "> Example: On Monday, we observed $N = 30$ (on Tuesday, this number will be different).\n",
    "\n",
    "**Sample Space or Support:** The set of all possible values that an RV can take on. For discrete probability, this set must be countable (though this is not important for now).\n",
    "> Example: The sample space for $N$ is the set $S = [0, \\infty)$, since we can have any number from $0$ to $\\infty$ (theoretically speaking) of beings come to the ER. \n",
    "\n",
    "**Probability Mass Function (PMF):** A function mapping the outcome of an RV to the probability with which it occurs. We can write the PMF as a mapping from the sample space to a number on the unit interval: $p: S \\rightarrow [0, 1]$.\n",
    "> Example: Let $p_N(\\cdot)$ denote the PMF of $N$, where the dot represents an argument we have not specified. We denote the probability that $N$ takes on a specific value $n$ as follows: $p_N(n)$. If we were told that $p_N(5) = 0.1$, this means that the probability that exactly 5 beings came to the ER is 0.1 (or 10%).\n",
    "\n",
    "PMFs has one notable property: the probability of all outcomes in the sample space must sum to 1.\n",
    "> Example: Continuing with the above example, we have that $\\sum\\limits_{n \\in [0, \\infty)} p_N(n) = 1$.\n",
    "\n",
    "**Independent, Identically Distributed (i.i.d):** We say a variable is i.i.d if different observations of the same phenomenon are independent (i.e. that do not affect one another) and if they follow the same PMF. For example, when we flip a coin, previous flips do not affect future flips (i.e. if the coin landed heads, it does not affect its probability of landing heads next), and every time we flip the coin, the probability of it landing heads is the same (so it's identically distributed).\n",
    "> Example: We the notation $N \\sim p_N(\\cdot)$ signifies that, the number of beings coming to the ER is distributed according to distribution $p_N(\\cdot)$, and that $N$ is sampled i.i.d.\n",
    "\n",
    "**Summary of Notation:** \n",
    "* Let $R$ denote an RV.\n",
    "* We denote the PMF of $R$ using $p_R(\\cdot)$. Note that $p_R(\\cdot)$ is a function that maps possible values $R$ can take on to probabilities (between 0 and 1).\n",
    "* We call $p_R(r)$ the evaluation of the function at $r$: i.e. what's the probability that $R$ equals the specific value $r$?\n",
    "* We write $R \\sim p_R(\\cdot)$ to denote that $R$ is sampled i.i.d from $p_R(\\cdot)$."
   ]
  },
  {
   "cell_type": "markdown",
   "metadata": {},
   "source": [
    "## Getting Familiar with Useful Discrete Distributions\n",
    "\n",
    "```{admonition} Exercise\n",
    "Browse the Wikipedia pages for the following distributions:\n",
    "* [Bernoulli](https://en.wikipedia.org/wiki/Bernoulli_distribution)\n",
    "* [Categorical](https://en.wikipedia.org/wiki/Categorical_distribution)\n",
    "* [Binomial](https://en.wikipedia.org/wiki/Binomial_distribution)\n",
    "* [Geometric](https://en.wikipedia.org/wiki/Geometric_distribution)\n",
    "* [Poisson](https://en.wikipedia.org/wiki/Poisson_distribution)\n",
    "\n",
    "Then, for each distribution,\n",
    "1. Describe a random phenomenon from everyday life that can be described using the distribution. \n",
    "2. Define a random variable for the phenomenon you described. Write the support and PMF for this random variable using the above notation.\n",
    "3. Describe a setting of the distribution's parameters that makes sense for your specific phenomenon (and explain why it makes sense).\n",
    "\n",
    "*Hint: On each Wikipedia page, there's a panel on the right side that summarizes the properties of the distribution (e.g. its support, PMF, example plots, etc.).*\n",
    "\n",
    "We'll get you started with the Bernoulli distribution (and you can do the rest): \n",
    "1. The Bernoulli distribution models any random choice between two options. For example, it can model a coin flip. \n",
    "2. Let $H$ be the outcome of a random coin flip. Support: $H \\in S = \\{0, 1\\}$, where 1 is heads and 0 is tails. PMF: $p_H(h) = \\rho^h \\cdot (1 - \\rho)^{1 - h}$, where $h \\in S$ and $0 \\leq \\rho \\leq 1$. \n",
    "3. For a fair coin, $\\rho = 0.5$, indicating that on average, half of all coin flips will result in heads and the other in tails.\n",
    "```"
   ]
  },
  {
   "cell_type": "markdown",
   "metadata": {},
   "source": [
    "TODO: write your response here."
   ]
  },
  {
   "cell_type": "markdown",
   "metadata": {},
   "source": [
    "## Matching the Distribution to the Scenario\n",
    "\n",
    "We'll now start working with data from IHH's ER. We'll use a Python library called `pandas` to read in the data, which is stored as a `.csv` file:"
   ]
  },
  {
   "cell_type": "code",
   "execution_count": 1,
   "metadata": {},
   "outputs": [
    {
     "data": {
      "text/html": [
       "<div>\n",
       "<style scoped>\n",
       "    .dataframe tbody tr th:only-of-type {\n",
       "        vertical-align: middle;\n",
       "    }\n",
       "\n",
       "    .dataframe tbody tr th {\n",
       "        vertical-align: top;\n",
       "    }\n",
       "\n",
       "    .dataframe thead th {\n",
       "        text-align: right;\n",
       "    }\n",
       "</style>\n",
       "<table border=\"1\" class=\"dataframe\">\n",
       "  <thead>\n",
       "    <tr style=\"text-align: right;\">\n",
       "      <th></th>\n",
       "      <th>Day-of-Week</th>\n",
       "      <th>Condition</th>\n",
       "      <th>Hospitalized</th>\n",
       "      <th>Antibiotics</th>\n",
       "    </tr>\n",
       "    <tr>\n",
       "      <th>Patient ID</th>\n",
       "      <th></th>\n",
       "      <th></th>\n",
       "      <th></th>\n",
       "      <th></th>\n",
       "    </tr>\n",
       "  </thead>\n",
       "  <tbody>\n",
       "    <tr>\n",
       "      <th>822</th>\n",
       "      <td>Tuesday</td>\n",
       "      <td>Allergic Reaction</td>\n",
       "      <td>No</td>\n",
       "      <td>No</td>\n",
       "    </tr>\n",
       "    <tr>\n",
       "      <th>5051</th>\n",
       "      <td>Sunday</td>\n",
       "      <td>Allergic Reaction</td>\n",
       "      <td>No</td>\n",
       "      <td>No</td>\n",
       "    </tr>\n",
       "    <tr>\n",
       "      <th>9641</th>\n",
       "      <td>Wednesday</td>\n",
       "      <td>Broken Limb</td>\n",
       "      <td>No</td>\n",
       "      <td>No</td>\n",
       "    </tr>\n",
       "    <tr>\n",
       "      <th>2473</th>\n",
       "      <td>Friday</td>\n",
       "      <td>High Fever</td>\n",
       "      <td>Yes</td>\n",
       "      <td>No</td>\n",
       "    </tr>\n",
       "    <tr>\n",
       "      <th>8922</th>\n",
       "      <td>Saturday</td>\n",
       "      <td>Allergic Reaction</td>\n",
       "      <td>No</td>\n",
       "      <td>No</td>\n",
       "    </tr>\n",
       "    <tr>\n",
       "      <th>3953</th>\n",
       "      <td>Thursday</td>\n",
       "      <td>Broken Limb</td>\n",
       "      <td>No</td>\n",
       "      <td>No</td>\n",
       "    </tr>\n",
       "    <tr>\n",
       "      <th>5977</th>\n",
       "      <td>Tuesday</td>\n",
       "      <td>Intoxication</td>\n",
       "      <td>No</td>\n",
       "      <td>No</td>\n",
       "    </tr>\n",
       "    <tr>\n",
       "      <th>1824</th>\n",
       "      <td>Friday</td>\n",
       "      <td>Entangled Antennas</td>\n",
       "      <td>No</td>\n",
       "      <td>No</td>\n",
       "    </tr>\n",
       "    <tr>\n",
       "      <th>8923</th>\n",
       "      <td>Monday</td>\n",
       "      <td>High Fever</td>\n",
       "      <td>Yes</td>\n",
       "      <td>No</td>\n",
       "    </tr>\n",
       "    <tr>\n",
       "      <th>211</th>\n",
       "      <td>Sunday</td>\n",
       "      <td>Intoxication</td>\n",
       "      <td>No</td>\n",
       "      <td>No</td>\n",
       "    </tr>\n",
       "  </tbody>\n",
       "</table>\n",
       "</div>"
      ],
      "text/plain": [
       "           Day-of-Week           Condition Hospitalized Antibiotics\n",
       "Patient ID                                                         \n",
       "822            Tuesday   Allergic Reaction           No          No\n",
       "5051            Sunday   Allergic Reaction           No          No\n",
       "9641         Wednesday         Broken Limb           No          No\n",
       "2473            Friday          High Fever          Yes          No\n",
       "8922          Saturday   Allergic Reaction           No          No\n",
       "3953          Thursday         Broken Limb           No          No\n",
       "5977           Tuesday        Intoxication           No          No\n",
       "1824            Friday  Entangled Antennas           No          No\n",
       "8923            Monday          High Fever          Yes          No\n",
       "211             Sunday        Intoxication           No          No"
      ]
     },
     "execution_count": 1,
     "metadata": {},
     "output_type": "execute_result"
    }
   ],
   "source": [
    "# Import a bunch of libraries we'll be using below\n",
    "import pandas as pd\n",
    "import matplotlib.pylab as plt\n",
    "import numpyro\n",
    "import numpyro.distributions as D\n",
    "import jax\n",
    "import jax.numpy as jnp\n",
    "\n",
    "# Load in the data into a pandas dataframe\n",
    "#csv_fname = 'https://raw.githubusercontent.com/mogu-lab/cs349-fall-2024/master/lectures/probability/IHH-ER.csv'\n",
    "csv_fname = 'IHH-ER.csv'\n",
    "data = pd.read_csv(csv_fname, index_col='Patient ID')\n",
    "\n",
    "# Print a random sample of 5 patients, just to see what's in the data\n",
    "data.sample(10)"
   ]
  },
  {
   "cell_type": "markdown",
   "metadata": {},
   "source": [
    "As you can see from the loaded data, each variable here can be used to answer each of the above questions (Q1-Q3).\n",
    "\n",
    "```{admonition} Exercise\n",
    "Use `pandas` and `matplotlib` to visualize the distribution of each variable. You may have to do some googling around to determine which library calls are appropriate for each variable.\n",
    "```\n",
    "\n",
    "We'll start you off by visualizing the distribution of the different conditions:"
   ]
  },
  {
   "cell_type": "code",
   "execution_count": 7,
   "metadata": {},
   "outputs": [
    {
     "data": {
      "image/png": "[encoded data removed]",
      "text/plain": [
       "<Figure size 640x480 with 1 Axes>"
      ]
     },
     "metadata": {},
     "output_type": "display_data"
    }
   ],
   "source": [
    "# Visualize the distribution of conditions at the IHH ER\n",
    "\n",
    "# Compute the percentage of patients with each condition\n",
    "counts = data['Condition'].value_counts(sort=False, normalize=True)\n",
    "\n",
    "# Put the names of the variables in to x, and the percentage into y\n",
    "x = []\n",
    "y = []\n",
    "for variable, probability in counts.items():\n",
    "    x.append(variable)\n",
    "    y.append(probability)\n",
    "\n",
    "# Plot!\n",
    "plt.bar(x, y)\n",
    "\n",
    "# Add axis labels and titles\n",
    "plt.xticks(rotation=30)\n",
    "plt.xlabel('Condition')\n",
    "plt.ylabel('Probability')\n",
    "plt.title('Distribution of Conditions of Incoming Patients at the IHH ER')\n",
    "plt.show()"
   ]
  },
  {
   "cell_type": "code",
   "execution_count": 3,
   "metadata": {},
   "outputs": [],
   "source": [
    "# TODO: Visualize the distribution of the number of patients per day"
   ]
  },
  {
   "cell_type": "code",
   "execution_count": 4,
   "metadata": {},
   "outputs": [],
   "source": [
    "# TODO: Visualize the distribution of whether patients were hospitalized or not"
   ]
  },
  {
   "cell_type": "markdown",
   "metadata": {},
   "source": [
    "```{admonition} Exercise\n",
    "1. Determine which distribution from the list above best matches each variable in the data. How did you decide which one to choose? Please justify your choice with the support and PMF of the distribution.\n",
    "2. Are the matches you selected perfect? If not, how are they lacking?\n",
    "3. What kind of information do we miss when considering each variable separately? For our ER data, are there variables you would recommend the IHH consider at jointly? Please back your recommendation up with evidence (i.e. plots).\n",
    "```"
   ]
  },
  {
   "cell_type": "markdown",
   "metadata": {},
   "source": [
    "TODO: write your answer here."
   ]
  },
  {
   "cell_type": "code",
   "execution_count": null,
   "metadata": {},
   "outputs": [],
   "source": []
  },
  {
   "cell_type": "code",
   "execution_count": null,
   "metadata": {},
   "outputs": [],
   "source": []
  },
  {
   "cell_type": "code",
   "execution_count": null,
   "metadata": {},
   "outputs": [],
   "source": []
  },
  {
   "cell_type": "code",
   "execution_count": null,
   "metadata": {},
   "outputs": [],
   "source": []
  },
  {
   "cell_type": "code",
   "execution_count": null,
   "metadata": {},
   "outputs": [],
   "source": []
  },
  {
   "cell_type": "code",
   "execution_count": null,
   "metadata": {},
   "outputs": [],
   "source": []
  },
  {
   "cell_type": "code",
   "execution_count": null,
   "metadata": {},
   "outputs": [],
   "source": []
  },
  {
   "cell_type": "code",
   "execution_count": null,
   "metadata": {},
   "outputs": [],
   "source": []
  }
 ],
 "metadata": {
  "celltoolbar": "Slideshow",
  "kernelspec": {
   "display_name": "Python 3 (ipykernel)",
   "language": "python",
   "name": "python3"
  },
  "language_info": {
   "codemirror_mode": {
    "name": "ipython",
    "version": 3
   },
   "file_extension": ".py",
   "mimetype": "text/x-python",
   "name": "python",
   "nbconvert_exporter": "python",
   "pygments_lexer": "ipython3",
   "version": "3.10.12"
  }
 },
 "nbformat": 4,
 "nbformat_minor": 4
}
