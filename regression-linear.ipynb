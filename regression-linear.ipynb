{
 "cells": [
  {
   "cell_type": "markdown",
   "metadata": {
    "slideshow": {
     "slide_type": "slide"
    }
   },
   "source": [
    "# Regression (Linear)"
   ]
  },
  {
   "cell_type": "markdown",
   "metadata": {
    "slideshow": {
     "slide_type": "slide"
    }
   },
   "source": [
    "**Context:** At this point, you have the building blocks for developing many commonly-used ML models. Using these building blocks, we will develop a commonly used ML model---regression. A regression model is a *predictive* model (i.e. a conditional distribution), in which the variable we're interested in predicting is *continuous*. \n",
    "\n",
    "**Challenge:** Recall that in a conditional distribution, the parameters of the distribution depend on what we're conditioning. For example, when predicting the probability of intorixaction, $I$, given the day of the week, $D$, we can use a model like,\n",
    "\\begin{align}\n",
    "p_{I | D}(i | d) = \\mathrm{Ber}(\\rho(d)) = \\underbrace{\\rho(d)^{i} \\cdot \\left(1 - \\rho(d) \\right)^{1 - i}}_{\\text{Bernoulli PMF (see Wikipedia)}},\n",
    "\\end{align}\n",
    "where the parameter, $\\rho(d)$, is a function of the condition (i.e. the day $d$):\n",
    "\\begin{align} \\rho(d) &= \\begin{cases}\n",
    "0.1 & \\text{if $d$ is weekday} \\\\\n",
    "0.4 & \\text{if $d$ is weekend}\n",
    "\\end{cases} \n",
    "\\end{align}\n",
    "As in this model, in all models we've considered so far, the parameters depend on the condition using if-else expressions (e.g. if $d$ is a weekday, then $\\rho = 0.1$, else $\\rho = 0.4$). Unfortunately, as models become more complex, this approach for specifying a model becomes unwieldy. For example, if instead of conditioning on something simple, like the day, we instead conditioned on something complicated, like medical image---$1000 \\times 1000$ pixels in size---how would we write the appropriate if-else expression? Out of a total of 1-million pixels in the image, which ones are important to even include in the if-else expression? The classes of predictive models we will introduce now---regression and (later) classification---precisely allow us to circumvent this issue. How? By making the parameter a more interesting function of the condition. Continuing with the above example, we can define, $\\rho(d)$ as a linear function of $d$:\n",
    "\\begin{align}\n",
    "\\rho(d) &= \\mathrm{intercept} + \\mathrm{slope} \\cdot d.\n",
    "\\end{align}\n",
    "We can similarly make $\\rho(d)$ a quadratic, or sinusoidal, or polynomial function of $d$---there are endless possibilities. Of course, in this example, $d$ can be one of two values, so making $\\rho(d)$ some function of $d$ is not helpful---but when $d$ is more complicated, like an image, this trick will be incredibly helpful. We will start with simple, linear functions, and build up to more complex functions (using neural networks).\n",
    "\n",
    "**Outline:**\n",
    "* Introduce predictive models generally\n",
    "* Instantiate a regression model as a specific type of predictive model\n",
    "* Implement the regression in `NumPyro`\n",
    "* Understand how to quantify model performance"
   ]
  },
  {
   "cell_type": "markdown",
   "metadata": {},
   "source": [
    "**Data:** Before diving in, let's familiarize ourself with the data set we'll be working with. This data set comes from a special, interdisciplinary effort at the IHH, spanning two major centers. The first is one you're already familiar with: the Center for Telekinesis Research (CTR), dedicated to the study of telekinesis (the ability of moving physical objects with your mind). The second is the Center for Glow and Positive Life Flow (CGLF). As you know, one of the great mysteries of the galaxy is why intergalactic being glow, and what it can tell us about other aspects of their life. As part of this effort, IHH researchers want to understand how glow affects telekinetic ability. They have recruited you to help with the data analysis. \n",
    "\n",
    "Let's take a look at the data they sent us:"
   ]
  },
  {
   "cell_type": "code",
   "execution_count": 72,
   "metadata": {},
   "outputs": [
    {
     "data": {
      "text/html": [
       "<div>\n",
       "<style scoped>\n",
       "    .dataframe tbody tr th:only-of-type {\n",
       "        vertical-align: middle;\n",
       "    }\n",
       "\n",
       "    .dataframe tbody tr th {\n",
       "        vertical-align: top;\n",
       "    }\n",
       "\n",
       "    .dataframe thead th {\n",
       "        text-align: right;\n",
       "    }\n",
       "</style>\n",
       "<table border=\"1\" class=\"dataframe\">\n",
       "  <thead>\n",
       "    <tr style=\"text-align: right;\">\n",
       "      <th></th>\n",
       "      <th>Glow</th>\n",
       "      <th>Telekinetic-Ability</th>\n",
       "    </tr>\n",
       "    <tr>\n",
       "      <th>Patient ID</th>\n",
       "      <th></th>\n",
       "      <th></th>\n",
       "    </tr>\n",
       "  </thead>\n",
       "  <tbody>\n",
       "    <tr>\n",
       "      <th>90</th>\n",
       "      <td>60.408516</td>\n",
       "      <td>0.110578</td>\n",
       "    </tr>\n",
       "    <tr>\n",
       "      <th>254</th>\n",
       "      <td>61.364480</td>\n",
       "      <td>0.049644</td>\n",
       "    </tr>\n",
       "    <tr>\n",
       "      <th>283</th>\n",
       "      <td>82.921200</td>\n",
       "      <td>0.263387</td>\n",
       "    </tr>\n",
       "    <tr>\n",
       "      <th>445</th>\n",
       "      <td>98.112000</td>\n",
       "      <td>0.356437</td>\n",
       "    </tr>\n",
       "    <tr>\n",
       "      <th>461</th>\n",
       "      <td>68.832900</td>\n",
       "      <td>0.097479</td>\n",
       "    </tr>\n",
       "    <tr>\n",
       "      <th>15</th>\n",
       "      <td>79.685270</td>\n",
       "      <td>0.081543</td>\n",
       "    </tr>\n",
       "    <tr>\n",
       "      <th>316</th>\n",
       "      <td>83.954630</td>\n",
       "      <td>0.453322</td>\n",
       "    </tr>\n",
       "    <tr>\n",
       "      <th>489</th>\n",
       "      <td>92.942245</td>\n",
       "      <td>0.383801</td>\n",
       "    </tr>\n",
       "    <tr>\n",
       "      <th>159</th>\n",
       "      <td>89.381280</td>\n",
       "      <td>0.566650</td>\n",
       "    </tr>\n",
       "    <tr>\n",
       "      <th>153</th>\n",
       "      <td>83.248314</td>\n",
       "      <td>0.503184</td>\n",
       "    </tr>\n",
       "    <tr>\n",
       "      <th>241</th>\n",
       "      <td>67.676000</td>\n",
       "      <td>0.112365</td>\n",
       "    </tr>\n",
       "    <tr>\n",
       "      <th>250</th>\n",
       "      <td>71.112100</td>\n",
       "      <td>0.024594</td>\n",
       "    </tr>\n",
       "    <tr>\n",
       "      <th>390</th>\n",
       "      <td>68.307490</td>\n",
       "      <td>0.298422</td>\n",
       "    </tr>\n",
       "    <tr>\n",
       "      <th>289</th>\n",
       "      <td>47.269604</td>\n",
       "      <td>-0.057742</td>\n",
       "    </tr>\n",
       "    <tr>\n",
       "      <th>171</th>\n",
       "      <td>70.365660</td>\n",
       "      <td>0.131039</td>\n",
       "    </tr>\n",
       "  </tbody>\n",
       "</table>\n",
       "</div>"
      ],
      "text/plain": [
       "                 Glow  Telekinetic-Ability\n",
       "Patient ID                                \n",
       "90          60.408516             0.110578\n",
       "254         61.364480             0.049644\n",
       "283         82.921200             0.263387\n",
       "445         98.112000             0.356437\n",
       "461         68.832900             0.097479\n",
       "15          79.685270             0.081543\n",
       "316         83.954630             0.453322\n",
       "489         92.942245             0.383801\n",
       "159         89.381280             0.566650\n",
       "153         83.248314             0.503184\n",
       "241         67.676000             0.112365\n",
       "250         71.112100             0.024594\n",
       "390         68.307490             0.298422\n",
       "289         47.269604            -0.057742\n",
       "171         70.365660             0.131039"
      ]
     },
     "execution_count": 72,
     "metadata": {},
     "output_type": "execute_result"
    }
   ],
   "source": [
    "# Import a bunch of libraries we'll be using below\n",
    "import pandas as pd\n",
    "import matplotlib.pylab as plt\n",
    "import numpyro\n",
    "import numpyro.distributions as D\n",
    "import jax\n",
    "import jax.numpy as jnp\n",
    "\n",
    "# Load the data into a pandas dataframe\n",
    "csv_fname = 'data/IHH-CTR-CGLF.csv'\n",
    "data = pd.read_csv(csv_fname, index_col='Patient ID')\n",
    "\n",
    "# Print a random sample of patients, just to see what's in the data\n",
    "data.sample(15, random_state=0)"
   ]
  },
  {
   "cell_type": "code",
   "execution_count": 79,
   "metadata": {},
   "outputs": [
    {
     "data": {
      "image/png": "[encoded data removed]",
      "text/plain": [
       "<Figure size 600x400 with 1 Axes>"
      ]
     },
     "metadata": {},
     "output_type": "display_data"
    }
   ],
   "source": [
    "fig, ax = plt.subplots(1, 1, figsize=(6, 4))\n",
    "\n",
    "plt.scatter(data['Glow'], data['Telekinetic-Ability'], color='red', alpha=0.5)\n",
    "plt.xlabel('Glow')\n",
    "plt.ylabel('Telekinetic Ability')\n",
    "plt.title('Telekinetic Ability vs. Glow')\n",
    "\n",
    "plt.tight_layout()\n",
    "plt.show()"
   ]
  },
  {
   "cell_type": "markdown",
   "metadata": {},
   "source": [
    "## Predictive Models\n",
    "\n",
    "To understand the effects of glow on telekinetic ability, we will try to see if there is a relationship between them---if glow changes, does telekinetic ability change as well? To do this, we will fit a predictive model (and more specifically, a regression model) to the data. We will then interpret it and see what we learn. Of course, we have to be cautious about our interpretation of the results: just because telekinetic ability may change as a function of glow *does not* mean that it *causes* the change---more on that later.\n",
    "\n",
    "**Approach.** Since regression models are a specific type of predictive model, let's first describe what a predictive model is using the toolkit we've developed so far. Specifically, we'll describe a predictive model using the directed graphical model and its corresponding generative process. Then, we will write down its joint data distribution and MLE objective."
   ]
  },
  {
   "cell_type": "markdown",
   "metadata": {},
   "source": [
    "**Directed Graphical Model.** We have data set of observations of two RVs: \"inputs\" $X$, representing glow, and \"outputs\" $Y$, representing telekinetic ability. Our goal is to learn to predict $Y$ from $X$ (i.e. learn a conditional distribution $p_{Y | X}$). Our graphical model should therefore include the following:\n",
    "* It should have a node for $X$ and a node for $Y$, representing our two random variables.\n",
    "* It should have an arrow pointing from $X$ into $Y$ to represent $Y$'s dependence on $X$.\n",
    "* Since we have many i.i.d observations of $(X, Y)$-pairs, we'll need $X$ and $Y$ in a plate.\n",
    "* Finally, the we'll probably want the relationship between $X$ and $Y$ to be controlled by some parameter, $\\theta$, that can be learned from the data.\n",
    "\n",
    "A predictive model has the following graphical representation:\n",
    "<div class=\"canva-centered-embedding\">\n",
    "  <div class=\"canva-iframe-container\">\n",
    "    <iframe loading=\"lazy\" class=\"canva-iframe\"\n",
    "      src=\"https:&#x2F;&#x2F;www.canva.com&#x2F;design&#x2F;DAGJv58NH1k&#x2F;-MhOv0aEL8dP0kRgjrIN6Q&#x2F;view?embed\">\n",
    "    </iframe>\n",
    "  </div>\n",
    "</div>"
   ]
  },
  {
   "cell_type": "markdown",
   "metadata": {},
   "source": [
    "**Generative Process.** Our graphical model can be directly translated into the following generative process: for $n = 1, \\dots, N$,\n",
    "\\begin{align}\n",
    "x_n &\\sim p_X(x_n) \\\\\n",
    "y_n | x_n &\\sim p_{Y | X}(\\cdot | x_n; \\theta) \n",
    "\\end{align}\n",
    "Notice that we've chosen our marginal over the inputs, $p_X(x_n)$, to *not depend* on any parameters. This is because we *just* care about learning how to predict $Y$ from $X$. That is, we assume our use-case will be that we are *given* specific $x$'s for which we want to make predictions---we therefore don't need to sample them from $p_X(\\cdot)$ (or learn $p_X(\\cdot)$). As you will see in the derivation of our objective function, $p_X(x_n)$ will not impact our MLE in any way. "
   ]
  },
  {
   "cell_type": "markdown",
   "metadata": {},
   "source": [
    "**Joint Data Log-Likelihood.** For the above model, we have the following joint data log-likelihood:\n",
    "\\begin{align}\n",
    "\\log p(\\mathcal{D}; \\theta) &= \\log \\prod\\limits_{n=1}^N p(\\mathcal{D}_n; \\theta) \\quad (\\text{i.i.d observations}) \\\\\n",
    "&= \\sum\\limits_{n=1}^N \\log p(\\mathcal{D}_n; \\theta) \\quad (\\text{since } \\log(a \\cdot b) = \\log a + \\log b) \\\\\n",
    "&= \\sum\\limits_{n=1}^N \\log p_{X, Y}(x_n, y_n; \\theta) \\quad (\\text{since } \\mathcal{D}_n = (x_n, y_n)) \\\\\n",
    "&= \\sum\\limits_{n=1}^N \\log \\left( p_{Y | X}(y_n | x_n; \\theta) \\cdot p_X(x_n) \\right) \\quad (\\text{using our factorization of the joint}) \\\\\n",
    "&= \\sum\\limits_{n=1}^N \\log p_{Y | X}(y_n | x_n; \\theta) + \\log p_X(x_n) \\quad (\\text{since } \\log(a \\cdot b) = \\log a + \\log b) \n",
    "\\end{align}"
   ]
  },
  {
   "cell_type": "markdown",
   "metadata": {},
   "source": [
    "**MLE Objective.** Our goal is to maximize the probability of the joint data log-likelihood with respect to parameters $\\theta$:\n",
    "\\begin{align}\n",
    "\\mathrm{argmax}_\\theta \\log p(\\mathcal{D}; \\theta) &= \\mathrm{argmax}_\\theta \\sum\\limits_{n=1}^N \\log p_{Y | X}(y_n | x_n; \\theta) + \\log p_X(x_n) \\quad (\\text{substituting in our joint data log-likelihood}) \\\\\n",
    "&= \\mathrm{argmin}_\\theta -\\sum\\limits_{n=1}^N \\left( \\log p_{Y | X}(y_n | x_n; \\theta) + \\log p_X(x_n) \\right) \\quad (\\text{taking an argmax is like taking an argmin of the negative}) \\\\\n",
    "&= \\mathrm{argmin}_\\theta -\\sum\\limits_{n=1}^N \\log p_{Y | X}(y_n | x_n; \\theta) - \\underbrace{\\sum\\limits_{n=1}^N \\log p_X(x_n)}_{\\text{does not depend on } \\theta} \\quad (\\text{we split out the sum into two parts}) \\\\\n",
    "&= \\mathrm{argmin}_\\theta -\\sum\\limits_{n=1}^N \\log p_{Y | X}(y_n | x_n; \\theta) \\quad (\\text{term that doesn't depend on $\\theta$ doesn't affect argmin}) \n",
    "\\end{align}\n",
    "This gives us the following objective (or loss function):\n",
    "\\begin{align}\n",
    "\\mathcal{L}(\\theta) = -\\sum\\limits_{n=1}^N \\log p_{Y | X}(y_n | x_n; \\theta)\n",
    "\\end{align}\n",
    "Now that we have our objective, the only thing missing now is a specific choice of $p_{Y | X}(y_n | x_n; \\theta)$; given a specific value of glow, $x_n$, what's the distribution of telekinetic ability, $y_n$? We will next select $p_{Y | X}(y_n | x_n; \\theta)$ to give us a regression model. Later, we will do the same for other models (e.g. classification). "
   ]
  },
  {
   "cell_type": "markdown",
   "metadata": {},
   "source": [
    "## The Regression Model\n",
    "\n",
    "**The Model.** Looking at our objective function, $\\mathcal{L}(\\theta)$, the only thing we need to define is $p_{Y | X}(y_n | x_n; \\theta)$. Let's introduce a picture to help our intuition for what this distribution should be. Looking at the plot above of telekinetic ability vs. glow, we see that $p_{Y | X}(y_n | x_n; \\theta)$, should have two parts: \n",
    "1. It needs some way of accounting for the general \"trend\". As glow increases, telekinetic ability also increases until the very end, when it drops off.\n",
    "2. Around this trend, there is some \"noise\"---no point exactly fits the trend.\n",
    "\n",
    "To capture both components, we define our model as follows on two made-up data sets:\n",
    "\\begin{align}\n",
    "p_{Y | X}(\\cdot | x_n; \\underbrace{W, \\sigma}_{\\theta}) = \\mathcal{N}( \\underbrace{\\mu(x_n; W)}_{\\text{trend}}, \\underbrace{\\sigma^2}_{\\text{noise}} ),\n",
    "\\end{align}\n",
    "where $\\theta = \\{ W, \\sigma \\}$, and where $\\mu(\\cdot; W)$ is a function parameterized by $W$ (which controls its shape). Putting this all together, our generative process says:\n",
    "1. We're given an input, $x_n$, from our data.\n",
    "2. We feed it through our function $\\mu(\\cdot; W)$ to predict what $y_n$ will be, on average. This captures the \"trend.\"\n",
    "3. Finally, we add some Gaussian noise to the result. This Gaussian noise represents the error in our measurement. For example, our devices that measure height, blood pressure, etc. at the IHH are correct on average, but are always off by some small amount of random noise. How much noise is determining by the variance of the Gaussian, $\\sigma^2$."
   ]
  },
  {
   "cell_type": "markdown",
   "metadata": {},
   "source": [
    "Let's visualize what this looks like:\n",
    "\n",
    "```{figure} _static/figs/example_regression.png\n",
    "---\n",
    "name: fig-regression-example\n",
    "align: center\n",
    "---\n",
    "Examples of regression with linear $\\mu(\\cdot; W)$ (left) and polynomial $\\mu(\\cdot; W)$ (right).\n",
    "```\n",
    "\n",
    "Here, the blue line, representing $\\mu(\\cdot; W)$ captures the \"trend\" of the data. The data (in red) surrounds the trend; it lies around it due to the observation error (or noise). In the \"linear\" regression plot, $\\mu(x_n; W)$ is a line, where $W = \\{ a, b \\}$ is the slope and intercept of a line:\n",
    "\\begin{align}\n",
    "a \\cdot x_n + b.\n",
    "\\end{align}\n",
    "In the \"polynomial\" regression plot, $\\mu(x_n; W)$ is a polynomial function of $x_n$, where $W = \\{ a, b, c, d, e \\}$ captures the coefficients of the polynomial:\n",
    "\\begin{align}\n",
    "a \\cdot x_n^4 + b \\cdot x_n^3 + c \\cdot x_n^2 + d \\cdot x_n + e.\n",
    "\\end{align}"
   ]
  },
  {
   "cell_type": "markdown",
   "metadata": {},
   "source": [
    "````{admonition} Exercise: Implement regression!\n",
    "**Part 1:** Using `NumPyro`, implement a linear regression model. Your model should only include the conditional distribution of telekinetic ability given glow; it should *not* include the marginal distribution of glow. Your model should therefore have the following signature:\n",
    "\n",
    "```\n",
    "def model_linear_regression(N, glow, ability=None):\n",
    "    pass # TODO implement\n",
    "```\n",
    "\n",
    "Notice that here, we expect `glow` to *always* be passed in. This is because we're not looking to learn the distribution of `glow`---we're always going to be given it.\n",
    "\n",
    "**Part 2:** Fit the model to the data using the MLE. Visualize the trend of the model. \n",
    "\n",
    "**Part 3:** How well does your model fit the data? For what patients will it perform well, and for which patients will it perform badly?\n",
    "\n",
    "**Part 4:** Implement polynomial regression. Your model will now take one additional argument---the degree of the polynomial (a polynomial in which the highest term is $x^4$ is of degree $4$). Please use the function signature below.\n",
    "\n",
    "```\n",
    "def model_polynomial_regression(N, glow, ability=None, degree=1):\n",
    "    pass # TODO implement\n",
    "```\n",
    "\n",
    "**Part 5:** Fit the model to the data using the MLE with `degree=2`, `4` and `8`. Visualize the trend of each of the fitted models. \n",
    "\n",
    "**Part 6:** How well does each model fit the data? Which model would you ultimately recommend to the researchers at the IHH? Why?\n",
    "````"
   ]
  },
  {
   "cell_type": "markdown",
   "metadata": {},
   "source": [
    "## Correlation vs. Causation\n",
    "\n"
   ]
  },
  {
   "cell_type": "code",
   "execution_count": null,
   "metadata": {},
   "outputs": [],
   "source": []
  }
 ],
 "metadata": {
  "celltoolbar": "Slideshow",
  "kernelspec": {
   "display_name": "Python 3 (ipykernel)",
   "language": "python",
   "name": "python3"
  },
  "language_info": {
   "codemirror_mode": {
    "name": "ipython",
    "version": 3
   },
   "file_extension": ".py",
   "mimetype": "text/x-python",
   "name": "python",
   "nbconvert_exporter": "python",
   "pygments_lexer": "ipython3",
   "version": "3.10.12"
  }
 },
 "nbformat": 4,
 "nbformat_minor": 4
}
