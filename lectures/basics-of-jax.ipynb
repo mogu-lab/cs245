{
 "cells": [
  {
   "cell_type": "markdown",
   "metadata": {},
   "source": [
    "# Introduction to `Jax` Array Operations\n",
    "\n",
    "(This tutorial has been adapted from [this](https://numpy.org/doc/stable/user/quickstart.html) Numpy tutorial).\n",
    "\n",
    "`Jax` is a Python library for high-performance numerical computing and array operations. Unlike in previous classes you may have taken, where you were encouraged to write loops, if/else-expressions, in Jax we'll take a different paradigm: we will avoid writing loops and if/else-expressions, instead relying on `Jax` library calls.\n",
    "This is because, in contrast to vanilla Python code (which is slow), `Jax` is very, very fast (and has some other features we will rely on later).\n",
    "\n",
    "The main part of `Jax` you'll be interacting with (for now) comes from:"
   ]
  },
  {
   "cell_type": "code",
   "execution_count": 1,
   "metadata": {},
   "outputs": [],
   "source": [
    "import jax.numpy as jnp"
   ]
  },
  {
   "cell_type": "markdown",
   "metadata": {},
   "source": [
    "This portion of `Jax` introduces its main building block multidimensional arrays. You may be wondering, why do we need arrays for ML? This is because, as it turns out, all of the code we will write can be conveniently expressed in terms of array operations. `Jax` will make these fast for us so we can spend more time thinking and less time waiting for the model to fit to data."
   ]
  },
  {
   "cell_type": "markdown",
   "metadata": {},
   "source": [
    "## Properties of Arrays\n",
    "\n",
    "So what does an array look like? Consider the following example:"
   ]
  },
  {
   "cell_type": "code",
   "execution_count": 2,
   "metadata": {},
   "outputs": [
    {
     "name": "stdout",
     "output_type": "stream",
     "text": [
      "[[1. 0. 0.]\n",
      " [0. 1. 2.]]\n"
     ]
    }
   ],
   "source": [
    "a = jnp.array(\n",
    "    [[1., 0., 0.],\n",
    "     [0., 1., 2.]]\n",
    ")\n",
    "\n",
    "print(a)"
   ]
  },
  {
   "cell_type": "markdown",
   "metadata": {},
   "source": [
    "The above array has 2 dimensions. The first axis has a length of 2, the second axis has a length of 3. You can determine the shape/size/dimensionality of the area as follows:"
   ]
  },
  {
   "cell_type": "code",
   "execution_count": 3,
   "metadata": {},
   "outputs": [
    {
     "name": "stdout",
     "output_type": "stream",
     "text": [
      "Number of dimensions: 2\n",
      "Shape (length along each axis/dimension): (2, 3)\n",
      "Size (total number of elements): 6\n"
     ]
    }
   ],
   "source": [
    "print('Number of dimensions:', a.ndim)\n",
    "print('Shape (length along each axis/dimension):', a.shape)\n",
    "print('Size (total number of elements):', a.size)"
   ]
  },
  {
   "cell_type": "markdown",
   "metadata": {},
   "source": [
    "Arrays can also store different types of elements (e.g. ints, floats, etc.). You can determine what type of elements they store as follows:"
   ]
  },
  {
   "cell_type": "code",
   "execution_count": 4,
   "metadata": {},
   "outputs": [
    {
     "name": "stdout",
     "output_type": "stream",
     "text": [
      "An array of ints has dtype: int32\n",
      "An array of floats has dtype: float32\n"
     ]
    }
   ],
   "source": [
    "array_of_ints = jnp.array([1, 2, 3])\n",
    "print('An array of ints has dtype:', array_of_ints.dtype)\n",
    "\n",
    "array_of_floats = jnp.array([1.0, 2.0, 3.0])\n",
    "print('An array of floats has dtype:', array_of_floats.dtype)"
   ]
  },
  {
   "cell_type": "markdown",
   "metadata": {},
   "source": [
    "Lastly, you can convert between array types as follows:"
   ]
  },
  {
   "cell_type": "code",
   "execution_count": 5,
   "metadata": {},
   "outputs": [
    {
     "name": "stdout",
     "output_type": "stream",
     "text": [
      "Array of ints converted to an array of floats: [1. 2. 3.]\n"
     ]
    }
   ],
   "source": [
    "print('Array of ints converted to an array of floats:', array_of_ints.astype('float32'))"
   ]
  },
  {
   "cell_type": "markdown",
   "metadata": {},
   "source": [
    "## Array Creation"
   ]
  },
  {
   "cell_type": "markdown",
   "metadata": {},
   "source": [
    "There are several ways to create arrays. For example, you can create an array from a regular Python list or tuple using the `jnp.array` function. The type of the resulting array is deduced from the type of the elements in the sequences:"
   ]
  },
  {
   "cell_type": "code",
   "execution_count": 6,
   "metadata": {},
   "outputs": [],
   "source": [
    "array_from_list = jnp.array([1.2, 3.5, 5.1])"
   ]
  },
  {
   "cell_type": "markdown",
   "metadata": {},
   "source": [
    "The function `jnp.zeros` creates an array full of zeros, the function `jnp.ones` creates an array full of ones, and the function `jnp.empty` creates an array whose initial content is random and depends on the state of the memory. These functions all require the shape of the desired array. (Note that by default, the `dtype` of the created array is `float64`, but it can be specified via the keyword argument `dtype`)."
   ]
  },
  {
   "cell_type": "code",
   "execution_count": 7,
   "metadata": {},
   "outputs": [
    {
     "name": "stdout",
     "output_type": "stream",
     "text": [
      "Array of zeros:\n",
      "[[0. 0. 0. 0.]\n",
      " [0. 0. 0. 0.]\n",
      " [0. 0. 0. 0.]]\n",
      "\n",
      "Array of ones:\n",
      "[[[1. 1. 1. 1.]\n",
      "  [1. 1. 1. 1.]\n",
      "  [1. 1. 1. 1.]]\n",
      "\n",
      " [[1. 1. 1. 1.]\n",
      "  [1. 1. 1. 1.]\n",
      "  [1. 1. 1. 1.]]]\n",
      "\n",
      "Empty array:\n",
      "[[0. 0. 0.]\n",
      " [0. 0. 0.]]\n"
     ]
    }
   ],
   "source": [
    "array_of_zeros = jnp.zeros((3, 4))\n",
    "print('Array of zeros:')\n",
    "print(array_of_zeros)\n",
    "print('')\n",
    "\n",
    "array_of_ones = jnp.ones((2, 3, 4))\n",
    "print('Array of ones:')\n",
    "print(array_of_ones)\n",
    "print('')\n",
    "\n",
    "empty_array = jnp.empty((2, 3))\n",
    "print('Empty array:')\n",
    "print(empty_array)"
   ]
  },
  {
   "cell_type": "markdown",
   "metadata": {},
   "source": [
    "To create sequences of numbers, we can use the `jnp.arange` function, which is analogous to the Python built-in range, but returns an array---by default, it counts from 0 up to the given number. A similar function you may want to check out is `jnp.linspace`."
   ]
  },
  {
   "cell_type": "code",
   "execution_count": 8,
   "metadata": {},
   "outputs": [
    {
     "name": "stdout",
     "output_type": "stream",
     "text": [
      "From 0 to 10 in increments of 1: [0. 1. 2. 3. 4. 5. 6. 7. 8. 9.]\n",
      "From 4 to 20 in increments of 5: [ 4.  9. 14. 19.]\n"
     ]
    }
   ],
   "source": [
    "print('From 0 to 10 in increments of 1:', jnp.arange(10.0))\n",
    "print('From 4 to 20 in increments of 5:', jnp.arange(4.0, 20.0, 5.0))"
   ]
  },
  {
   "cell_type": "markdown",
   "metadata": {},
   "source": [
    "## Array Operations\n",
    "\n",
    "Arithmetic operators on arrays apply elementwise. By this, we mean that the operation is applied independently to each element of the original array. A new array is then created and filled with the result."
   ]
  },
  {
   "cell_type": "code",
   "execution_count": 9,
   "metadata": {},
   "outputs": [
    {
     "name": "stdout",
     "output_type": "stream",
     "text": [
      "a           = [20. 30. 40. 50.]\n",
      "b           = [0. 1. 2. 3.]\n",
      "\n",
      "a - b       = [20. 29. 38. 47.]\n",
      "b^2         = [0. 1. 4. 9.]\n",
      "10 * sin(a) = [ 9.129453  -9.880316   7.4511313 -2.6237485]\n",
      "a < 35      = [ True  True False False]\n",
      "a * b       = [  0.  30.  80. 150.]\n"
     ]
    }
   ],
   "source": [
    "a = jnp.array([20, 30, 40, 50]).astype('float32')\n",
    "b = jnp.arange(4.0)\n",
    "\n",
    "print('a           =', a)\n",
    "print('b           =', b)\n",
    "print('')\n",
    "print('a - b       =', a - b)\n",
    "print('b^2         =', b ** 2.0) # the double-star means power\n",
    "print('10 * sin(a) =', 10.0 * jnp.sin(a))\n",
    "print('a < 35      =', a < 35)\n",
    "print('a * b       =', a * b)"
   ]
  },
  {
   "cell_type": "code",
   "execution_count": null,
   "metadata": {},
   "outputs": [],
   "source": []
  },
  {
   "cell_type": "markdown",
   "metadata": {},
   "source": [
    "## Shape Manipulation"
   ]
  },
  {
   "cell_type": "code",
   "execution_count": null,
   "metadata": {},
   "outputs": [],
   "source": []
  },
  {
   "cell_type": "markdown",
   "metadata": {},
   "source": [
    "## Indexing"
   ]
  },
  {
   "cell_type": "code",
   "execution_count": null,
   "metadata": {},
   "outputs": [],
   "source": []
  }
 ],
 "metadata": {
  "celltoolbar": "Slideshow",
  "kernelspec": {
   "display_name": "Python 3 (ipykernel)",
   "language": "python",
   "name": "python3"
  },
  "language_info": {
   "codemirror_mode": {
    "name": "ipython",
    "version": 3
   },
   "file_extension": ".py",
   "mimetype": "text/x-python",
   "name": "python",
   "nbconvert_exporter": "python",
   "pygments_lexer": "ipython3",
   "version": "3.10.12"
  }
 },
 "nbformat": 4,
 "nbformat_minor": 4
}
