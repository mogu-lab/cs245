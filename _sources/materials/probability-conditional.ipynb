{
 "cells": [
  {
   "cell_type": "markdown",
   "id": "a1b69222-3851-4c8f-ad5f-eda29c6c562b",
   "metadata": {},
   "source": [
    "# Conditional Probability (Discrete)\n",
    "\n",
    "**Context:** You've already spent some time conducting a preliminary exploratory data analysis (EDA) of IHH's ER data. You noticed that considering variables separately can result in misleading information. As such, today you will continue your EDA, this time also considering the *relationship between variables*. For example, you may want to know:\n",
    "\n",
    "* Are there certain conditions that are more likely to occur on certain days?\n",
    "* What makes a patient likely to need hospitalization?\n",
    "\n",
    "**Challenge:** So far, however, we've only seen ways of characterizing the variability/stochasticity of a univariate random phenomenon independently of other variables. So how can we consider the relationship between variables? Answer: conditional probability. \n",
    "\n",
    "**Outline:** \n",
    "1. Introduce and practice the concepts, terminology, and notation behind discrete conditional probability distributions (leaving continuous distributions to a later time).\n",
    "2. Answer the above questions using this new toolset."
   ]
  },
  {
   "cell_type": "markdown",
   "id": "bf4f3873-14b9-4011-984e-9a449230cb81",
   "metadata": {},
   "source": [
    "## Terminology and Notation for Discrete Conditional Probability\n",
    "\n",
    "You can think of conditional probabilities as the \"if/else-expression of probability.\" "
   ]
  },
  {
   "cell_type": "code",
   "execution_count": null,
   "id": "847891ff-d424-4755-a966-203e2b733c47",
   "metadata": {},
   "outputs": [],
   "source": []
  }
 ],
 "metadata": {
  "kernelspec": {
   "display_name": "Python 3 (ipykernel)",
   "language": "python",
   "name": "python3"
  },
  "language_info": {
   "codemirror_mode": {
    "name": "ipython",
    "version": 3
   },
   "file_extension": ".py",
   "mimetype": "text/x-python",
   "name": "python",
   "nbconvert_exporter": "python",
   "pygments_lexer": "ipython3",
   "version": "3.10.12"
  }
 },
 "nbformat": 4,
 "nbformat_minor": 5
}
