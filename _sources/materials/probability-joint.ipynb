{
 "cells": [
  {
   "cell_type": "markdown",
   "metadata": {
    "slideshow": {
     "slide_type": "slide"
    }
   },
   "source": [
    "# Joint Probability (Discrete)"
   ]
  },
  {
   "cell_type": "code",
   "execution_count": 1,
   "metadata": {},
   "outputs": [],
   "source": [
    "# Import some helper functions (please ignore this!)\n",
    "from utils import * "
   ]
  },
  {
   "cell_type": "markdown",
   "metadata": {},
   "source": [
    "**Context:** So far, you've spent some time conducting a preliminary exploratory data analysis (EDA) of IHH's ER data. You noticed that considering variables separately can result in misleading information. As a result, you decided to use *conditional distributions* to model the *relationship between variables*. Using these conditional distributions, you were able to develop *predictive models* (e.g. predicting the probability of intoxication given the day of the week). These predictive models are useful for the IHH administration to make decisions. \n",
    "\n",
    "However, you've noticed that your modeling toolkit is still limited. The conditional distributions we introduced can model how the probability of one variable changes given a *set* of variables. What if we wanted to describe how the probability of a *set* of variables (i.e. more than one) changes given a *set* of variables? For example, we may want to answer questions like: \"how does the probability that a patient is hospitalized for an allergic reaction change given the day of the week?\" In this question, we're inquiring about two variables---that the condition is an allergic reaction, *and* that the patient was hospitalized---given the day of the week.\n",
    "\n",
    "**Challenge:** We need to expand our modeling toolkit to include yet another tool---joint probabilities. \n",
    "\n",
    "**Outline:**\n",
    "1. Introduce and practice the concepts, terminology, and notation behind discrete joint probability distributions (leaving continuous distributions to a later time).\n",
    "2. Introduce a graphical representation to describe joint distributions.\n",
    "3. Translate this graphical representation directly into code in a probabilistic programming language (using `NumPyro`) that we can then use to fit the data."
   ]
  },
  {
   "cell_type": "markdown",
   "metadata": {},
   "source": [
    "## Terminology and Notation\n",
    "\n",
    "We, again introduce the statistical language---terminology and notation---to precisely specify to a computer how to model our data. We will then translate statements in this language directly into code in `NumPyro` that a computer can run.\n",
    "\n",
    "**Concept.** The concept behind a joint probability is elegant; it allows us to build complicated distributions over many variables using simple conditional and non-conditional distributions (that we already covered). \n",
    "\n",
    "We can illustrate this using an example with just two variables. Suppose you have two RVs, $A$ and $B$. The probability that $A = a$ and $B = b$ are *both* satisfied is called their *joint probability*. It is denoted by $p_{A,B}(a, b)$. This joint distribution can be *factorized* to a product of conditional and non-conditional (or \"marginal\") distributions as follows:\n",
    "\\begin{align*}\n",
    "p_{A, B}(a, b) &= p_{A | B}(a | b) \\cdot p_B(b) \\quad \\text{(Option 1)} \\\\\n",
    "\\underbrace{\\phantom{p_{A, B}(a, b)}}_{\\text{joint}} &= \\underbrace{p_{B | A}(b | a)}_{\\text{conditional}} \\cdot \\underbrace{p_A(a)}_{\\text{marginal}} \\quad \\text{(Option 2)}\n",
    "\\end{align*}\n",
    "Notice that the joint is now described in terms of conditional and marginal distributions, which we already know how to work with! "
   ]
  },
  {
   "attachments": {},
   "cell_type": "markdown",
   "metadata": {},
   "source": [
    "**Intuition.** So what's the intuition behind this formula? Let's depict events $A$ and $B$ as follows:\n",
    "\n",
    "<img align=\"center\" width=\"500px\" src=\"figs/joint-probability-venn.png\" />\n",
    "\n",
    "In this diagram, different shaded areas represent the probability of a different events. We use it to pictorially represent the marginal, conditional, and joint distributions. The marginal $p_B(b)$ is the ratio of the blue circle relative to the whole space (the gray square):\n",
    "\n",
    "<img align=\"center\" width=\"300px\" src=\"figs/joint-probability-eq-marginal.png\" />\n",
    "\n",
    "The conditional $p_{A | B}(a | b)$ is the ratio of the purple intersection relative to the blue circle. This is because the blue circle represents us conditioning on $B = b$, and the intersection of the circles represents the observations for which we *also* have $A = a$.\n",
    "\n",
    "<img align=\"center\" width=\"300px\" src=\"figs/joint-probability-eq-conditional.png\" />\n",
    "\n",
    "Finally, the joint $p_{A, B}(a, b)$ is the ratio between the purple intersection and the whole space (the gray square). This is because the intersection is the place where both $A = a$ and $B = b$.\n",
    "\n",
    "<img align=\"center\" width=\"300px\" src=\"figs/joint-probability-eq-joint.png\" />\n",
    "\n",
    "Now we can see that the joint is the product of the conditional and the marginal because the blue circles \"cancel out\":\n",
    "\n",
    "<img align=\"center\" width=\"500px\" src=\"figs/joint-probability-eq-joint-expanded.png\" />"
   ]
  },
  {
   "cell_type": "markdown",
   "metadata": {},
   "source": [
    "**Choice of Factorization.** Lastly, notice that we have a *choice* to factorize the distribution in two ways. How do you know which one to use? Typically, we choose a factorization that is *intuitive to us* and what we can compute. \n",
    "> For example, suppose you want to model the joint distribution of the day of the week, $D$ and whether a patient arrive with intoxication, $I$. The joint distribution can be factorized in two ways:\n",
    "> \\begin{align*}\n",
    "p_{D, I}(d, i) &= p_{I | D}(i | d) \\cdot p_D(d) \\quad \\text{(Option 1)} \\\\\n",
    "&= p_{D | I}(d | i) \\cdot p_I(i) \\quad \\text{(Option 2)} \\\\\n",
    "\\end{align*}\n",
    "> Which one makes more intuitive sense? Well, it's a little weird to try to predict the day of the week given whether a patient arrives with intoxication; we typically know what the day of the week is and we don't need to predict it. In contrast, given the day of the week, it makes a lot of sense to wonder about the probability of a patient arriving with intoxication. As such, Option 1 makes more sense here. "
   ]
  },
  {
   "cell_type": "markdown",
   "metadata": {},
   "source": [
    "**Generalizing to More than Two RVs.** So now we have the tools to work with joint distributions with two RVs. What do we do if we have three or more? The same ideas apply. The joint distribution for random variables $A$, $B$, and $C$ can be factorized in a number of ways. For example, we can condition on two variables at a time:\n",
    "\\begin{align*}\n",
    "p_{A, B, C}(a, b, c) &= p_{A | B, C}(a | b, c) \\cdot p_{B, C}(b, c) \\quad \\text{(Option 1)} \\\\\n",
    "&= p_{B | A, C}(b | a, c) \\cdot p_{A, C}(a, c) \\quad \\text{(Option 2)} \\\\\n",
    "&= p_{C | A, B}(c | a, b) \\cdot p_{A, B}(a, b) \\quad \\text{(Option 3)}\n",
    "\\end{align*}\n",
    "wherein the above, we already know how to factorize $p_{B, C}(b, c)$, $p_{A, C}(a, c)$, and $p_{A, B}(a, b)$ (since they are joint distributions with two variables).\n",
    "\n",
    "We can also condition on one variable at a time:\n",
    "\\begin{align*}\n",
    "p_{A, B, C}(a, b, c) &= p_{A, B | C}(a, b | c) \\cdot p_C(c) \\quad \\text{(Option 1)} \\\\\n",
    "&= p_{A, C | B}(a, c | b) \\cdot p_B(b) \\quad \\text{(Option 2)} \\\\\n",
    "&= p_{B, C | A}(b, c | a) \\cdot p_A(a) \\quad \\text{(Option 3)}\n",
    "\\end{align*}\n",
    "And how do we further factorize distributions of the form $p_{A, B | C}(a, b | c)$? We apply the same factorization for a joint distribution with two variables, and simply add a \"conditioned on $C$\" to each one:\n",
    "\\begin{align*}\n",
    "p_{A, B | C}(a, b | c) &= p_{A | B, C}(a | b, c) \\cdot p_{B | C}(b | c) \\quad \\text{(Option 1)} \\\\\n",
    "&= p_{B | A, C}(b | a, c) \\cdot p_{A | C}(a | c) \\quad \\text{(Option 2)} \\\\\n",
    "\\end{align*}"
   ]
  },
  {
   "cell_type": "markdown",
   "metadata": {},
   "source": [
    "## Directed Graphical Models (DGMs)\n",
    "\n",
    "As you may have already noticed, the number of possible ways to factorize a joint distribution increases *very quickly* with the number of RVs. In fact, the more RVs we have, the more unwieldy it becomes for us as data analysts to specify each component in the factorization. What can we do to simplify our model? Often, we can use our *domain knowledge* (knowledge of the specifics of the problem) to simplify the joint distribution. Specifically, we'll use our knowledge of \"conditional independence\" to do this. Let's get started by first introducing the idea of *statistical independence*.\n",
    "\n",
    "**Statistical Independence.** We say two variables $A$ and $B$ are statistically independent if their joint can be factorized to the product of their marginals:\n",
    "\\begin{align*}\n",
    "p_{A, B}(a, b) &= p_B(b) \\cdot p_A(a)\n",
    "\\end{align*}\n",
    "This equation implies that to sample $A$ and $B$ jointly, we don't have to consider their relationship (since the conditional isn't used)---they are entirely independent. \n",
    "\n",
    "Another way to understand this equation is by thinking its implications on the conditionals. We do this by factorizing $p_{A, B}(a, b)$ into the product of the conditional and marginal:\n",
    "\\begin{align*}\n",
    "p_{A, B}(a, b) &= \\underbrace{p_{B | A}(b | a)}_{\\text{must equal } p_B(b)} \\cdot p_A(a)\n",
    "\\end{align*}\n",
    "We then observe that $p_{B | A}(b | a)$ must equal $p_B(b)$ to satisfy our definition of statistical independence. And $p_{B | A}(b | a) = p_B(b)$ implies that having observed $A = a$ does not affect the probability of $B = b$."
   ]
  },
  {
   "cell_type": "markdown",
   "metadata": {},
   "source": [
    "**Graphical Representation of Statistical Dependencies.** Since reasoning about many variables jointly is difficult, we introduce a graphical representation to aid with it. This representation is called a *directed graphical model* (DGM), and it will help us convey which variables depend on one another in what way. \n",
    "\n",
    "A DGM is represented using a *graph* (or network) in which nodes represent RVs and arrows represent conditional dependencies. For example, consider the following DGM for some hypothetical joint distribution, $p_{A, B, C}(\\cdot)$:\n",
    "\n",
    "<img align=\"center\" width=\"500px\" src=\"figs/joint-probability-example-dgm.png\" />\n",
    "\n",
    "In this DGM, there are three nodes, corresponding to our three RVs. Our factorization then consists of one factor for each node:\n",
    "* The factor corresponding to $B$ is $p_{B | A}(\\cdot)$, since there's an arrow from $A$ to $B$, indicating a conditional dependence.\n",
    "* The factor corresponding to $A$ is $p_{A}(\\cdot)$, since there aren't any arrows pointing into $A$.\n",
    "* The factor corresponding to $B$ is $p_{C}(\\cdot)$, since there aren't any arrows pointing into $C$.\n",
    "\n",
    "In total, the DGM represents the following factorization:\n",
    "\\begin{align*}\n",
    "p_{A, B, C}(a, b, c) &= p_{B | A}(b | a) \\cdot p_A(a) \\cdot p_C(c)\n",
    "\\end{align*}\n",
    "\n",
    "As you can see, relative to the numerous ways we can factorize $p_{A, B, C}(a, b, c)$ above, this factorization is much simpler: the conditional dependencies/independencies implied by the DGM allows us to reduce the number of terms in ther factorization. \n",
    "\n",
    "So what does this this simplicity cost us? Expressivity. By assuming certain variables do not have conditional dependencies, we are limiting the possible joint distributions we represent. Is this a problem? Not if you make reasonable dependence assumptions based on your domain knowledge!\n",
    "\n",
    "**Cycles in DGMs.** In a DGM, we cannot have \"cycles.\" By this, we mean that if you start at a given node and follow the arrows, there *should not* exist a way to get back to that same node."
   ]
  },
  {
   "cell_type": "markdown",
   "metadata": {},
   "source": [
    "```{admonition} Exercise\n",
    "Let's practice converting between distribution notation and DGMs.\n",
    "\n",
    "**Part 1:** Write down the factorization for $p_{A, B, C, D, E, F, G, H}(\\cdot)$ implied by the following DGM:\n",
    "\n",
    "<img align=\"center\" width=\"500px\" src=\"figs/joint-probability-exercise-dgm.png\" />\n",
    "\n",
    "**Part 2:** Draw a DGM representing the following joint distribution:\n",
    "\\begin{align*}\n",
    "p_{A, B, C, D, E}(a, b, c, d, e) &= p_{C | A, B, D}(c | a, b, d) \\cdot p_{A | B}(a | b) \\cdot p_{D | B, E}(d | b, e) \\cdot p_{B}(b) \\cdot p_{E}(e)\n",
    "\\end{align*}\n",
    "```"
   ]
  },
  {
   "cell_type": "markdown",
   "metadata": {},
   "source": [
    "TODO write your answer here"
   ]
  },
  {
   "cell_type": "markdown",
   "metadata": {},
   "source": [
    "**Sampling from Joint Distributions:** Sampling from a joint distribution can be done by sampling from each component in their factorization. Let's illustrate this with some examples.\n",
    "> *Example 1:* Consider the distribution, \n",
    "> \\begin{align*}\n",
    "p_{A, B, C}(a, b, c) &= p_{B | A}(b | a) \\cdot p_A(a) \\cdot p_C(c)\n",
    "\\end{align*}\n",
    "> To sample from it, we:\n",
    "> 1. $c \\sim p_C(\\cdot)$\n",
    "> 2. $a \\sim p_A(\\cdot)$\n",
    "> 3. $b | a \\sim p_{B | A}(\\cdot | a)$ (wherein $a$ was sampled in the previous step)\n",
    "> \n",
    "> Notice that here, steps (1) and (2) are interchangeable, since they don't depend on one another; i.e. it doesn't matter if we sample $a$ first or $c$ first. In contrast, step (3) *had* to happen after step (2), because depends on the value of $a$ sampled.\n",
    ">\n",
    "> *Example 2:* Consider the distribution, \n",
    "> \\begin{align*}\n",
    "p_{A, B, C}(a, b, c) &= p_{B | A, C}(b | a, c) \\cdot p_{A | C}(a | c) \\cdot p_C(c)\n",
    "\\end{align*}\n",
    "> To sample from it, we:\n",
    "> 1. $c \\sim p_C(\\cdot)$\n",
    "> 2. $a | c \\sim p_{A | C}(\\cdot | c)$ (wherein $c$ was sampled in the previous step)\n",
    "> 3. $b | a, c \\sim p_{B | A, C}(\\cdot | a, c)$ (wherein $a, c$ were sampled in the previous steps)\n",
    ">\n",
    "> Notice again that step (2) depends on $c$, which was sampled in step (1), and that step (3) depends on both $c$ *and* $a$, sampled in step (2). Thus, the order of the sampling does matter!"
   ]
  },
  {
   "cell_type": "markdown",
   "metadata": {},
   "source": [
    "## Translating DGMs into Code with `NumPyro`\n",
    "\n",
    "Let's start by importing some helpful libraries:"
   ]
  },
  {
   "cell_type": "code",
   "execution_count": 2,
   "metadata": {},
   "outputs": [],
   "source": [
    "import jax.numpy as jnp\n",
    "import jax.random as jrandom\n",
    "import numpyro\n",
    "import numpyro.distributions as D"
   ]
  },
  {
   "cell_type": "markdown",
   "metadata": {},
   "source": [
    "````{admonition} Exercise\n",
    "**Context:** Your friend is an ML researcher at a nearby university. She heard all about the interesting data you have from the IHH ER and wants to help with the analysis. However, because this is sensitive medical data, she needs to obtain the right credentials, undergo a lengthy training on secure data management, and more, before obtaining access to the data. Realistically, this means she'll only be able to gain access to the IHH ER data in several months. \n",
    "\n",
    "**Idea:** To help her out, you have an idea: instead of sending her the data directly, you will develop a *generative model* of the IHH ER data and send that to her instead. This generative model will allow your friend to generate (or sample) realistic data with the same characteristics as the real data without violating any privacy constraints. But what is exactly a generative model? A generative model is a joint probability distribution over all variables in the data: $D$, $C$, $H$, $M$, and $A$. \n",
    "\n",
    "**Domain Expertise:** You consulted with clinical collaborators at the IHH ER and together came up with the following DGM.\n",
    "\n",
    "<img align=\"center\" width=\"500px\" src=\"figs/joint-probability-ihh-er-dgm.png\" />\n",
    "\n",
    "Notice the conditional distributions in this DGM are ones you've previously learned (by hand)!\n",
    "\n",
    "**Part 1:** Use what you already know about the marginal and conditional distributions of the IHH ER data, in tandem with what you learned here about joint distributions to implement this generative model. Implement your model as a function that takes in a `key` and outputs a Python dictionary with a single sample from the joint distribution $p_{D, C, H, M, A}(\\cdot)$. That is, the dictionary has keys $D$, $C$, $H$, $M$, and $A$, with values corresponding to the sample.\n",
    "\n",
    "**Part 2:** Implement a second function that, given $D = d$, $C = c$, $H = h$, $M =m$, and $A = a$, computes the log probability of the joint, $\\log p_{D, C, H, M, A}(d, c, h, m, a)$. *Hint: $\\log (X \\cdot Y) = \\log X + \\log Y$*.\n",
    "\n",
    "**Part 3:** Draw 10,000 samples from the generative model, and evaluate the model's log probability on each. Of all the samples you drew, print out the sample with the *highest* and *lowest* log probability. What does each tell you?\n",
    "\n",
    "**Note:** `NumPyro` discrete distributions only work with integers, not strings. For example, instead of using $d = \\text{Monday}$, you should convert the days of the week into integers from 0 to 6 (Monday to Sunday), and instead use $d = 0$ for \"Monday\". Please use the following conversion for the conditions:\n",
    "\n",
    "```\n",
    "0: 'High Fever'    \n",
    "1: 'Broken Limb'    \n",
    "2: 'Entangled Antennas'\n",
    "3: 'Allergic Reaction'\n",
    "4: 'Intoxication'\n",
    "```\n",
    "````"
   ]
  },
  {
   "cell_type": "code",
   "execution_count": 10,
   "metadata": {},
   "outputs": [],
   "source": [
    "def IHH_ER_generative_model_sample(key):\n",
    "    pass # TODO implement"
   ]
  },
  {
   "cell_type": "code",
   "execution_count": 11,
   "metadata": {},
   "outputs": [],
   "source": [
    "def IHH_ER_generative_model_log_prob(d, c, h, m, a):\n",
    "    pass # TODO implement"
   ]
  }
 ],
 "metadata": {
  "celltoolbar": "Slideshow",
  "kernelspec": {
   "display_name": "Python 3 (ipykernel)",
   "language": "python",
   "name": "python3"
  },
  "language_info": {
   "codemirror_mode": {
    "name": "ipython",
    "version": 3
   },
   "file_extension": ".py",
   "mimetype": "text/x-python",
   "name": "python",
   "nbconvert_exporter": "python",
   "pygments_lexer": "ipython3",
   "version": "3.10.12"
  }
 },
 "nbformat": 4,
 "nbformat_minor": 4
}
