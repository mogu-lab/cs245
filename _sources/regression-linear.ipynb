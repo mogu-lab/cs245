{
 "cells": [
  {
   "cell_type": "markdown",
   "metadata": {
    "slideshow": {
     "slide_type": "slide"
    }
   },
   "source": [
    "# Regression (Linear)\n",
    "\n",
    "**Context:** At this point, you have the building blocks for developing many commonly-used ML models. Using these building blocks, we will develop a commonly used ML model---regression. A regression model is a *predictive* model (i.e. a conditional distribution), in which the variable we're interested in predicting is *continuous*. \n",
    "\n",
    "**Challenge:** Recall that in a conditional distribution, the parameters of the distribution depend on what we're conditioning. For example, when predicting the probability of intorixaction, $I$, given the day of the week, $D$, we can use a model like,\n",
    "\\begin{align}\n",
    "p_{I | D}(i | d) = \\mathrm{Ber}(\\rho(d)) = \\underbrace{\\rho(d)^{i} \\cdot \\left(1 - \\rho(d) \\right)^{1 - i}}_{\\text{Bernoulli PMF (see Wikipedia)}},\n",
    "\\end{align}\n",
    "where the parameter, $\\rho(d)$, is a function of the condition (i.e. the day $d$):\n",
    "\\begin{align} \\rho(d) &= \\begin{cases}\n",
    "0.1 & \\text{if $d$ is weekday} \\\\\n",
    "0.4 & \\text{if $d$ is weekend}\n",
    "\\end{cases} \n",
    "\\end{align}\n",
    "As in this model, in all models we've considered so far, the parameters depend on the condition using if-else expressions (e.g. if $d$ is a weekday, then $\\rho = 0.1$, else $\\rho = 0.4$). Unfortunately, as models become more complex, this approach for specifying a model becomes unwieldy. For example, if instead of conditioning on something simple, like the day, we instead conditioned on something complicated, like medical image---$1000 \\times 1000$ pixels in size---how would we write the appropriate if-else expression? Out of a total of 1-million pixels in the image, which ones are important to even include in the if-else expression? The classes of predictive models we will introduce now---regression and (later) classification---precisely allow us to circumvent this issue.\n",
    "\n",
    "**Outline:**\n",
    "* Introduce the model\n",
    "* Implement the model in `NumPyro`\n",
    "* Understand how to quantify model performance"
   ]
  },
  {
   "cell_type": "markdown",
   "metadata": {},
   "source": [
    "## Model\n",
    "\n",
    "A regression model has the following graphical model:\n",
    "<div class=\"canva-centered-embedding\">\n",
    "  <div class=\"canva-iframe-container\">\n",
    "    <iframe loading=\"lazy\" class=\"canva-iframe\"\n",
    "      src=\"https:&#x2F;&#x2F;www.canva.com&#x2F;design&#x2F;DAGJv58NH1k&#x2F;-MhOv0aEL8dP0kRgjrIN6Q&#x2F;view?embed\">\n",
    "    </iframe>\n",
    "  </div>\n",
    "</div>\n",
    "\n",
    "In this model, our goal is to predict $y$ from $x$ (i.e. learn a conditional distribution $p_{Y | X}$). Furthermore, the relationship between $y$ and $x$ is going to depend on two parameters, $W$ and $\\sigma$. Let's instantiate the regression model by writing its generative process:\n",
    "\\begin{align}\n",
    "y_n | x_n &\\sim \\mathcal{N}\\left( \\mu(x_n; W), \\sigma^2 \\right)\n",
    "\\end{align}"
   ]
  },
  {
   "cell_type": "code",
   "execution_count": null,
   "metadata": {},
   "outputs": [],
   "source": []
  }
 ],
 "metadata": {
  "celltoolbar": "Slideshow",
  "kernelspec": {
   "display_name": "Python 3 (ipykernel)",
   "language": "python",
   "name": "python3"
  },
  "language_info": {
   "codemirror_mode": {
    "name": "ipython",
    "version": 3
   },
   "file_extension": ".py",
   "mimetype": "text/x-python",
   "name": "python",
   "nbconvert_exporter": "python",
   "pygments_lexer": "ipython3",
   "version": "3.10.12"
  }
 },
 "nbformat": 4,
 "nbformat_minor": 4
}
