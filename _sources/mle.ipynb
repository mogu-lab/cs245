{
 "cells": [
  {
   "cell_type": "markdown",
   "id": "c4896889-43a8-4e1c-b5f8-a0d012c463fe",
   "metadata": {},
   "source": [
    "# Maximum Likelihood Estimation"
   ]
  },
  {
   "cell_type": "code",
   "execution_count": 1,
   "id": "f4b63666-0869-4b9a-82d6-e44d2a6407fe",
   "metadata": {},
   "outputs": [],
   "source": [
    "# Import some helper functions (please ignore this!)\n",
    "from utils import * "
   ]
  },
  {
   "cell_type": "markdown",
   "id": "795a516c-738e-43df-b107-be3696893e09",
   "metadata": {},
   "source": [
    "**Context:** At this point, our modeling toolkit is already getting quite expressive. \n",
    "1. We can develop simple *predictive models* using *conditional distributions*: we can specify models of the form $p_{A | B}(a | b)$, which allow us to predict the probability that $A = a$ given that $B = b$. We do this by specifying a distribution over random variable (RV) $A$, whose parameters are a *function* of $b$.  \n",
    "2. We can develop simple *generative models* using *joint distributions*: we can specify models of the form $p_{A, B}(a, b)$, which allow us to sample (or generate) data. We do this by factorizing this joint probability into a product of conditional and marginal distributions, e.g. $p_{A, B}(a, b) = p_{A | B}(a | b) \\cdot p_B(b)$, which we already know how to specify.\n",
    "\n",
    "Of course, the predictive and generative models you may have heard about in the news are capable of doing more than the instances we've covert so far---we will build up to these fancy models over the course of the semester. What's important for now, though, is that you understand how such models can be represented using probability distributions. "
   ]
  },
  {
   "cell_type": "markdown",
   "id": "eb748b3f-7e0a-486a-b581-392fdbdb478c",
   "metadata": {},
   "source": [
    "**Challenge:** So what stands in our way of applying our modeling tools to real-world data? First, we've only instantiated our models with *discrete* distributions. Many real-world data, however, requires *continuous* distributions; that is, distributions over real numbers (e.g. blood pressure, body-mass index, time spent in REM sleep, etc.). We'll get more into the details of continuous modeling a bit later. Our second obstacle is: we still don't have a way of *automatically* fitting a model to data. So far, you've fit all models to data by hand via inspection---you looked at the data and tried to match the model to the data. With increasing model and data complexity, it becomes prohibitively difficult to fit the model to the data by hand. Today, we'll introduce one technique for doing this: maximum likelihood estimation (MLE). The idea behind MLE is to find a model under which the probability of the data is highest. "
   ]
  },
  {
   "cell_type": "markdown",
   "id": "4de18b8a-66d0-4b4e-b80a-35c1c08743b5",
   "metadata": {},
   "source": [
    "**Outline:**\n",
    "* Formally introduce and motivate the MLE\n",
    "* Extend notation of directed graphical models to represent a full data-set instead of just one observation\n",
    "* Implement MLE in `NumPyro`"
   ]
  },
  {
   "cell_type": "markdown",
   "id": "b952641d-67cc-4d9e-a375-fee3b0756d84",
   "metadata": {},
   "source": [
    "## The MLE Goal\n",
    "\n",
    "* Goal: describe probability of data given parameters, then maximize"
   ]
  },
  {
   "cell_type": "code",
   "execution_count": null,
   "id": "62fc05c3-6677-4d3a-ae0f-2852ddad1d96",
   "metadata": {},
   "outputs": [],
   "source": []
  },
  {
   "cell_type": "markdown",
   "id": "ddab29e7-286b-429e-9c27-6c070dcce0c4",
   "metadata": {},
   "source": [
    "## \"Plate Notation\" for Directed Graphical Models\n",
    "\n",
    "* Introduce statistical independence (between observations)\n",
    "* Introduce graphical representation"
   ]
  },
  {
   "cell_type": "code",
   "execution_count": null,
   "id": "a38a79dc-660b-4f5e-81c3-f11f032dfdc5",
   "metadata": {},
   "outputs": [],
   "source": []
  },
  {
   "cell_type": "markdown",
   "id": "8419c594-5a47-429d-96fb-f0a48b1751cc",
   "metadata": {},
   "source": [
    "## MLE in `NumPyro`\n",
    "\n",
    "* Vectorization in NumPyro distributions\n",
    "* NumPyro primitives\n",
    "* Implement model in NumPyro"
   ]
  },
  {
   "cell_type": "code",
   "execution_count": null,
   "id": "b98eca4f-1773-4f3f-aea0-20f48a6b2ae6",
   "metadata": {},
   "outputs": [],
   "source": []
  },
  {
   "cell_type": "code",
   "execution_count": null,
   "id": "fcc7db26-bacb-4f9a-b10f-9932e21962f4",
   "metadata": {},
   "outputs": [],
   "source": []
  }
 ],
 "metadata": {
  "kernelspec": {
   "display_name": "Python 3 (ipykernel)",
   "language": "python",
   "name": "python3"
  },
  "language_info": {
   "codemirror_mode": {
    "name": "ipython",
    "version": 3
   },
   "file_extension": ".py",
   "mimetype": "text/x-python",
   "name": "python",
   "nbconvert_exporter": "python",
   "pygments_lexer": "ipython3",
   "version": "3.10.12"
  }
 },
 "nbformat": 4,
 "nbformat_minor": 5
}
