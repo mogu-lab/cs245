{
 "cells": [
  {
   "cell_type": "markdown",
   "id": "c4896889-43a8-4e1c-b5f8-a0d012c463fe",
   "metadata": {},
   "source": [
    "# Maximum Likelihood: Code"
   ]
  },
  {
   "cell_type": "code",
   "execution_count": 1,
   "id": "f4b63666-0869-4b9a-82d6-e44d2a6407fe",
   "metadata": {},
   "outputs": [],
   "source": [
    "# Import some helper functions (please ignore this!)\n",
    "from utils import * \n",
    "from cs349 import *"
   ]
  },
  {
   "cell_type": "markdown",
   "id": "a6a61a13-71c6-4742-998b-03e1899ca186",
   "metadata": {},
   "source": [
    "**Context:** Now that we can describe our objective---to find the model parameters that maximize the probability of the observed data---we are ready to translate it into code.\n",
    "\n",
    "**Challenge:** But how can we easily implement this optimization procedure generally? That is, how can we perform the MLE on *any model* of interest? This is the strength of a probabilistic programming language like `NumPyro`. Probabilistic programming languages provide us with the necessary *abstraction* for representing probabilistic models, so that under the hood, `NumPyro` can help us do the heavy lifting. \n",
    "\n",
    "**Outline:** \n",
    "* Use our knowledge of sampling from joint distribution to write down a procedure for sampling from the joint data likelihood.\n",
    "* Directly translate this procedure to `NumPyro`."
   ]
  },
  {
   "cell_type": "markdown",
   "id": "8419c594-5a47-429d-96fb-f0a48b1751cc",
   "metadata": {},
   "source": [
    "## The Data Generating Process\n",
    "\n",
    "In `NumPyro`, models are implemented as Python functions. In these functions, we describe the model's \"generative process\"---or, a procedure we use to sample the observed data. You just learned how to represent a whole data set using a model (using the plate notation above). We will therefore walk through a specific example that we will then code in `NumPyro`."
   ]
  },
  {
   "cell_type": "markdown",
   "id": "c5903403-779e-447f-8be0-bfb4df0ddcd3",
   "metadata": {},
   "source": [
    "**Example:** We'll illustrate how to do this using an example. Suppose we want to model the joint distribution of the day-of-the-week, $D$, and whether a patient is intorixated, $I$. We can do this via the model,\n",
    "\\begin{align}\n",
    "p(\\mathcal{D}; \\pi, \\rho) &= \\prod\\limits_{n=1}^N p_{I | D}(i_n | d_n; \\rho) \\cdot p_D(d_n; \\pi).\n",
    "\\end{align}\n",
    "In this model,\n",
    "* *Marginal:* $p_D(\\cdot; \\pi)$ is a distribution over the days of the week. We will therefore define it to be a Categorical distribution:\n",
    "\\begin{align}\n",
    "p_D(\\cdot; \\pi) = \\mathrm{Cat}(\\pi).\n",
    "\\end{align} Here, the parameter $\\pi$ is a 7-dimensional array describing the probability of an observation coming from each of the 7 days of the week. That is, the probability of $D = d_n$ is given by the $d_n$-th entry of $\\pi$: i.e. $p_{D}(d_n; \\pi) = \\pi_{d_n}$.\n",
    "* *Conditional:* $p_{I | D}(\\cdot | d_n; \\rho)$ is the probability that a patient arrives at the ER with intoxication given that $D = d_n$. Since \"intoxication\" is a binary outcome, we will model it using a Bernoulli. However, recall that the probability of intoxication *changes with the day of the week*---on some days, we're more likely to treat patients with intoxication. The parameter of the Bernoulli distribution therefore needs to change depending on the day of the week. We therefore define:\n",
    "\\begin{align}\n",
    "p_{I | D}(i_n | d_n; \\rho) = \\mathrm{Ber}(\\rho_{d_n}).\n",
    "\\end{align} By this, we mean that $\\rho$ is a 7-dimensional vector, where the $d_n$-th entry, denoted by $\\rho_{d_n}$, is the probability of intoxication on day $d_n$. "
   ]
  },
  {
   "cell_type": "markdown",
   "id": "271c59e1-9460-4b80-9aec-bfab166a2178",
   "metadata": {},
   "source": [
    "**Valid Parameter Values:** Since each entry of $\\rho$ represents a Bernoulli distribution, each entry must be on between 0 and 1 (i.e. on the \"unit interval\"). And since $\\pi$ represents a Categorical distribution, its entries must sum to 1 (a fancy name of this is that $\\pi$ lies on a \"simplex\"). We note this briefly because we will have to communicate to `NumPyro` the valid values these parameters may take on (but don't worry, this isn't hard to do)."
   ]
  },
  {
   "cell_type": "markdown",
   "id": "1ab9a3bb-c7b4-436d-b637-8dd2d9b91eee",
   "metadata": {},
   "source": [
    "**Generative Process:** For this model, we assume the data was sampled (or generated) as follows:\n",
    "* *Step 1:* We choose an initial guess for $\\pi$ and $\\rho$. Our guess doesn't need to be good, since `NumPyro` help us find the right values.\n",
    "* *Step 2:* For every $n = 1, \\dots, N$:\n",
    "  * *Step 2a:* We sample $d_n$ from the marginal, $d_n \\sim p_D(\\cdot; \\pi) = \\mathrm{Cat}(\\pi)$. \n",
    "  * *Step 2b:* Given the specific value of $d_n$ from Step 2a, we sample from the conditional, $i_n | d_n \\sim p_{I | D}(\\cdot | d_n; \\rho) = \\mathrm{Ber}(\\rho_{d_n})$.\n",
    " \n",
    "This generative process is what we will translate into `NumPyro`, line for line."
   ]
  },
  {
   "cell_type": "markdown",
   "id": "86bdbdb4-454e-4cd6-8700-8d66c7120170",
   "metadata": {},
   "source": [
    "````{admonition} Exercise: Practice with generative processes\n",
    "**Part 1:** Write the data generative process for the IHH ER model (described in the exercise in the previous chapter)\n",
    "\n",
    "**Part 2:** For each of the DGMs below, write the data-generating process. You can find graphical models for them in the exercise of the previous chapter.\n",
    "\n",
    "(i) Predictive Models\n",
    "\n",
    "(ii) Gaussian Mixture Models\n",
    "\n",
    "(iii) Latent Dirichlet Allocation\n",
    "\n",
    "(iv) Conditional Subspace Variational Autoencoder \n",
    "\n",
    "(v) Hidden Markov Models \n",
    "````"
   ]
  },
  {
   "cell_type": "markdown",
   "id": "ddef364a-5817-404e-8001-6b3e07eaa026",
   "metadata": {},
   "source": [
    "## Implementing the \"Generative Process\" (or Model) in `NumPyro`\n",
    "\n",
    "Now that we have our generative process, we can go ahead and implement it in `NumPyro`. We will do this by relying on three `NumPyro` primitives. These primitives will communicate to `NumPyro` everything it needs to know to do the heavy lifting of the MLE. The primitives are:\n",
    "* `numpyro.param`, which represents model parameters\n",
    "* `numpyro.sample`, which represents an RV\n",
    "* `numpyro.plate`, which represents i.i.d sampling using the \"plate\" notation\n",
    "\n",
    "We'll walk you through how to use these primitives to build the model, but we additionally recommend you get in the habit of reading the [relevant documentation](https://num.pyro.ai/en/stable/primitives.html)."
   ]
  },
  {
   "cell_type": "markdown",
   "id": "e9ddd825-5d9d-405b-8868-65bab12d8ef0",
   "metadata": {},
   "source": [
    "**Model:** We start by creating a function to represent our model:\n",
    "```\n",
    "def model_of_intoxication_and_day(N, d=None, i=None):\n",
    "    pass\n",
    "```\n",
    "This function takes in several arguments:\n",
    "* The total number of observations, $N$.\n",
    "* Optional arrays describing the observations. That is, `d` represents an array of all $N$ days of the week, and `i` represents all $N$ binary values intoxication-yes/no. When sampling data from the model, we do not pass in `d` and `i`, but when performing the MLE, we do need to pass them in. This is because the MLE objective will try to find settings of $\\pi, \\rho$ that will make our observed data most likely."
   ]
  },
  {
   "cell_type": "markdown",
   "id": "5a31464a-84e1-4450-855b-5174655590fc",
   "metadata": {},
   "source": [
    "Next, we can go through each step of the generative process above and translate it into `NumPyro`, line by line:\n",
    "\n",
    "**Step 1:** We define our parameters using the `numpyro.param` primitive.\n",
    "```\n",
    "pi = numpyro.param(\n",
    "    'pi',                          # A name used by NumPyro\n",
    "    init_value=jnp.ones(7) / 7.0,  # Initial value for pi: [1/7, 1/7, 1/7, 1/7, 1/7, 1/7, 1/7]\n",
    "    constraint=C.simplex,          # Entries of pi must sum to 1 (i.e. lie on a \"simplex\")\n",
    ")\n",
    "\n",
    "rho = numpyro.param(\n",
    "    'rho',                         # A name used by NumPyro\n",
    "    init_value=jnp.ones(7) * 0.5,  # Initial value for rho: [0.5, 0.5, 0.5, 0.5, 0.5. 0.5, 0.5]\n",
    "    constraint=C.unit_interval,    # Each entry of rho must be in [0, 1] (i.e. lie in \"unit interval\")\n",
    ")\n",
    "```\n",
    "You can find more types of constraints listed [here](https://num.pyro.ai/en/stable/_modules/numpyro/distributions/constraints.html)."
   ]
  },
  {
   "cell_type": "markdown",
   "id": "54fa8797-48e1-4ab8-bf78-016d23a99d45",
   "metadata": {},
   "source": [
    "**Step 2:** We create a \"plate\" to indicate $N$ i.i.d observations using `numpyro.plate`.\n",
    "```\n",
    "with numpyro.plate('data', N):\n",
    "    pass\n",
    "```\n",
    "\n",
    "**Step 2a:** Inside the plate, we sample $d_n$ from the marginal, $d_n \\sim p_D(\\cdot; \\pi) = \\mathrm{Cat}(\\pi)$, using `numpyro.sample`.\n",
    "```\n",
    "# Define marginal as Categorical using pi\n",
    "p_D = D.Categorical(pi)\n",
    "\n",
    "# Sample from the marginal\n",
    "d = numpyro.sample('d', p_D, obs=d)  \n",
    "```\n",
    "\n",
    "**Step 2b:** Inside the plate, we use the specific value of $d_n$ from Step 2a to sample from the conditional, $i_n | d_n \\sim p_{I | D}(\\cdot | d_n; \\rho) = \\mathrm{Ber}(\\rho_{d_n})$ using `numpyro.sample`.\n",
    "```\n",
    "# Define conditional as Bernoulli. Notice rho[d] to access the d-th entry of rho\n",
    "p_I_given_D = D.Bernoulli(rho[d])\n",
    "\n",
    "# Sample from the conditional \n",
    "i = numpyro.sample('i', p_I_given_D, obs=i)\n",
    "```\n",
    "\n",
    "**Putting everything together:** We now have a model that `NumPyro` understands and can perform MLE on."
   ]
  },
  {
   "cell_type": "code",
   "execution_count": 2,
   "id": "652f9542-bde8-472a-a576-9f65a9455f31",
   "metadata": {},
   "outputs": [],
   "source": [
    "import jax\n",
    "import jax.numpy as jnp\n",
    "import jax.random as jrandom\n",
    "import numpyro\n",
    "import numpyro.distributions as D\n",
    "import numpyro.distributions.constraints as C\n",
    "\n",
    "\n",
    "def model_of_intoxication_and_day(N, d=None, i=None):\n",
    "    pi = numpyro.param(\n",
    "        'pi', \n",
    "        init_value=jnp.ones(7) / 7.0, \n",
    "        constraint=C.simplex,\n",
    "    )\n",
    "    \n",
    "    rho = numpyro.param(\n",
    "        'rho', \n",
    "        init_value=jnp.ones(7) * 0.5, \n",
    "        constraint=C.unit_interval,\n",
    "    )\n",
    "    \n",
    "    with numpyro.plate('data', N):\n",
    "        p_D = D.Categorical(pi)\n",
    "        d = numpyro.sample('d', p_D, obs=d)\n",
    "\n",
    "        p_I_given_D = D.Bernoulli(rho[d])\n",
    "        i = numpyro.sample('i', p_I_given_D, obs=i)"
   ]
  },
  {
   "cell_type": "markdown",
   "id": "b255e5fc-b28a-476f-aea1-26649fff858c",
   "metadata": {},
   "source": [
    "**Sampling from the Model:** We created a helper function for you, `cs349_sample_generative_process`, to sample from this model. The function takes in a `NumPyro` model, a random generator key, and then all arguments your model takes in (in this case, `N, d=None, i=None`). Note that we haven't fit the model yet to the data."
   ]
  },
  {
   "cell_type": "code",
   "execution_count": 3,
   "id": "946e3f1a-ee76-4c34-bbf7-8769931565a7",
   "metadata": {},
   "outputs": [
    {
     "data": {
      "text/plain": [
       "{'pi': Array([0.14285714, 0.14285714, 0.14285714, 0.14285714, 0.14285714,\n",
       "        0.14285714, 0.14285714], dtype=float64),\n",
       " 'rho': Array([0.5, 0.5, 0.5, 0.5, 0.5, 0.5, 0.5], dtype=float64),\n",
       " 'd': Array([1, 1, 0, 2, 5, 3, 3, 0, 1, 5, 5, 3, 4, 2, 0, 1, 1, 3, 6, 4], dtype=int64),\n",
       " 'i': Array([1, 1, 1, 1, 0, 0, 0, 0, 1, 1, 0, 0, 0, 0, 1, 0, 1, 1, 0, 1], dtype=int64)}"
      ]
     },
     "execution_count": 3,
     "metadata": {},
     "output_type": "execute_result"
    }
   ],
   "source": [
    "N = 20 # Number of samples to generate\n",
    "key = jrandom.PRNGKey(seed=0) # Random generator key to use\n",
    "\n",
    "cs349_sample_generative_process(model_of_intoxication_and_day, key, N)"
   ]
  },
  {
   "cell_type": "markdown",
   "id": "03667c28-a5bf-41a0-8ed1-61cc981bec04",
   "metadata": {},
   "source": [
    "**Performing the MLE:** We will now perform the MLE using another helper function we've created. Recall that the MLE for this model is:\n",
    "\\begin{align}\n",
    "\\pi^\\text{MLE}, \\rho^\\text{MLE} &= \\mathrm{argmax}_{\\pi, \\rho} \\prod\\limits_{n=1}^N p_{I | D}(i_n | d_n; \\rho) \\cdot p_D(d_n; \\pi) \\\\\n",
    "&= \\mathrm{argmax}_{\\pi, \\rho} \\log \\prod\\limits_{n=1}^N p_{I | D}(i_n | d_n; \\rho) \\cdot p_D(d_n; \\pi) \\\\\n",
    "&= \\mathrm{argmax}_{\\pi, \\rho} \\sum\\limits_{n=1}^N \\log p_{I | D}(i_n | d_n; \\rho) + \\log p_D(d_n; \\pi)\n",
    "\\end{align}\n",
    "\n",
    "First, we'll load in the data:"
   ]
  },
  {
   "cell_type": "code",
   "execution_count": 4,
   "id": "acecf9ad-58b4-4b12-8402-6ef51b917ec0",
   "metadata": {},
   "outputs": [
    {
     "data": {
      "text/html": [
       "<div>\n",
       "<style scoped>\n",
       "    .dataframe tbody tr th:only-of-type {\n",
       "        vertical-align: middle;\n",
       "    }\n",
       "\n",
       "    .dataframe tbody tr th {\n",
       "        vertical-align: top;\n",
       "    }\n",
       "\n",
       "    .dataframe thead th {\n",
       "        text-align: right;\n",
       "    }\n",
       "</style>\n",
       "<table border=\"1\" class=\"dataframe\">\n",
       "  <thead>\n",
       "    <tr style=\"text-align: right;\">\n",
       "      <th></th>\n",
       "      <th>Day-of-Week</th>\n",
       "      <th>Condition</th>\n",
       "      <th>Hospitalized</th>\n",
       "      <th>Antibiotics</th>\n",
       "      <th>Knots</th>\n",
       "    </tr>\n",
       "    <tr>\n",
       "      <th>Patient ID</th>\n",
       "      <th></th>\n",
       "      <th></th>\n",
       "      <th></th>\n",
       "      <th></th>\n",
       "      <th></th>\n",
       "    </tr>\n",
       "  </thead>\n",
       "  <tbody>\n",
       "    <tr>\n",
       "      <th>9394</th>\n",
       "      <td>Friday</td>\n",
       "      <td>Allergic Reaction</td>\n",
       "      <td>No</td>\n",
       "      <td>No</td>\n",
       "      <td>0</td>\n",
       "    </tr>\n",
       "    <tr>\n",
       "      <th>898</th>\n",
       "      <td>Sunday</td>\n",
       "      <td>Allergic Reaction</td>\n",
       "      <td>Yes</td>\n",
       "      <td>Yes</td>\n",
       "      <td>0</td>\n",
       "    </tr>\n",
       "    <tr>\n",
       "      <th>2398</th>\n",
       "      <td>Saturday</td>\n",
       "      <td>Entangled Antennas</td>\n",
       "      <td>No</td>\n",
       "      <td>No</td>\n",
       "      <td>3</td>\n",
       "    </tr>\n",
       "    <tr>\n",
       "      <th>5906</th>\n",
       "      <td>Saturday</td>\n",
       "      <td>Allergic Reaction</td>\n",
       "      <td>No</td>\n",
       "      <td>No</td>\n",
       "      <td>0</td>\n",
       "    </tr>\n",
       "    <tr>\n",
       "      <th>2343</th>\n",
       "      <td>Monday</td>\n",
       "      <td>High Fever</td>\n",
       "      <td>Yes</td>\n",
       "      <td>No</td>\n",
       "      <td>0</td>\n",
       "    </tr>\n",
       "    <tr>\n",
       "      <th>8225</th>\n",
       "      <td>Thursday</td>\n",
       "      <td>High Fever</td>\n",
       "      <td>Yes</td>\n",
       "      <td>No</td>\n",
       "      <td>0</td>\n",
       "    </tr>\n",
       "    <tr>\n",
       "      <th>5506</th>\n",
       "      <td>Tuesday</td>\n",
       "      <td>High Fever</td>\n",
       "      <td>No</td>\n",
       "      <td>No</td>\n",
       "      <td>0</td>\n",
       "    </tr>\n",
       "    <tr>\n",
       "      <th>6451</th>\n",
       "      <td>Thursday</td>\n",
       "      <td>Allergic Reaction</td>\n",
       "      <td>No</td>\n",
       "      <td>No</td>\n",
       "      <td>0</td>\n",
       "    </tr>\n",
       "    <tr>\n",
       "      <th>2670</th>\n",
       "      <td>Sunday</td>\n",
       "      <td>Intoxication</td>\n",
       "      <td>No</td>\n",
       "      <td>No</td>\n",
       "      <td>0</td>\n",
       "    </tr>\n",
       "    <tr>\n",
       "      <th>3497</th>\n",
       "      <td>Tuesday</td>\n",
       "      <td>Allergic Reaction</td>\n",
       "      <td>No</td>\n",
       "      <td>No</td>\n",
       "      <td>0</td>\n",
       "    </tr>\n",
       "    <tr>\n",
       "      <th>1087</th>\n",
       "      <td>Monday</td>\n",
       "      <td>High Fever</td>\n",
       "      <td>Yes</td>\n",
       "      <td>No</td>\n",
       "      <td>0</td>\n",
       "    </tr>\n",
       "    <tr>\n",
       "      <th>1819</th>\n",
       "      <td>Tuesday</td>\n",
       "      <td>High Fever</td>\n",
       "      <td>Yes</td>\n",
       "      <td>No</td>\n",
       "      <td>0</td>\n",
       "    </tr>\n",
       "    <tr>\n",
       "      <th>2308</th>\n",
       "      <td>Tuesday</td>\n",
       "      <td>Allergic Reaction</td>\n",
       "      <td>No</td>\n",
       "      <td>No</td>\n",
       "      <td>0</td>\n",
       "    </tr>\n",
       "    <tr>\n",
       "      <th>6084</th>\n",
       "      <td>Monday</td>\n",
       "      <td>High Fever</td>\n",
       "      <td>No</td>\n",
       "      <td>No</td>\n",
       "      <td>0</td>\n",
       "    </tr>\n",
       "    <tr>\n",
       "      <th>3724</th>\n",
       "      <td>Tuesday</td>\n",
       "      <td>Allergic Reaction</td>\n",
       "      <td>Yes</td>\n",
       "      <td>Yes</td>\n",
       "      <td>0</td>\n",
       "    </tr>\n",
       "  </tbody>\n",
       "</table>\n",
       "</div>"
      ],
      "text/plain": [
       "           Day-of-Week           Condition Hospitalized Antibiotics  Knots\n",
       "Patient ID                                                                \n",
       "9394            Friday   Allergic Reaction           No          No      0\n",
       "898             Sunday   Allergic Reaction          Yes         Yes      0\n",
       "2398          Saturday  Entangled Antennas           No          No      3\n",
       "5906          Saturday   Allergic Reaction           No          No      0\n",
       "2343            Monday          High Fever          Yes          No      0\n",
       "8225          Thursday          High Fever          Yes          No      0\n",
       "5506           Tuesday          High Fever           No          No      0\n",
       "6451          Thursday   Allergic Reaction           No          No      0\n",
       "2670            Sunday        Intoxication           No          No      0\n",
       "3497           Tuesday   Allergic Reaction           No          No      0\n",
       "1087            Monday          High Fever          Yes          No      0\n",
       "1819           Tuesday          High Fever          Yes          No      0\n",
       "2308           Tuesday   Allergic Reaction           No          No      0\n",
       "6084            Monday          High Fever           No          No      0\n",
       "3724           Tuesday   Allergic Reaction          Yes         Yes      0"
      ]
     },
     "execution_count": 4,
     "metadata": {},
     "output_type": "execute_result"
    }
   ],
   "source": [
    "# Import a bunch of libraries we'll be using below\n",
    "import pandas as pd\n",
    "import matplotlib.pylab as plt\n",
    "import numpyro\n",
    "import numpyro.distributions as D\n",
    "import jax\n",
    "import jax.numpy as jnp\n",
    "\n",
    "# Load the data into a pandas dataframe\n",
    "csv_fname = 'data/IHH-ER.csv'\n",
    "data = pd.read_csv(csv_fname, index_col='Patient ID')\n",
    "\n",
    "# Print a random sample of patients, just to see what's in the data\n",
    "data.sample(15, random_state=0)"
   ]
  },
  {
   "cell_type": "markdown",
   "id": "92529490-539e-4773-bac4-a2a32e906a3f",
   "metadata": {},
   "source": [
    "Next, we introduce a helper function, `cs349_mle`, for performing the MLE. This function takes in:\n",
    "* A `NumPyro` model.\n",
    "* An optimizer---this is what will do the maximization. We'll cover optimization at a later chapter. For now, you can just treat them as black boxes.\n",
    "* A random generator key, used by the optimizer.\n",
    "* The number of iterations we'd like the optimizer to run for (this optimization algorithm is iterative).\n",
    "* Finally, we pass in the arguments of the model. In this case, we pass in `N, d=d, i=i`. For our model `N` is a require argument (for the number of elements in `numpyro.plate`). You'll notice that in our model, `d` and `i` are both optional. We pass them in here to give the MLE the data (without them, how can we maximize the probability of the data?).\n",
    "\n",
    "Putting all of this together, we get:"
   ]
  },
  {
   "cell_type": "code",
   "execution_count": 5,
   "id": "47cec164-fa8a-463e-89b3-56f69df0f79d",
   "metadata": {},
   "outputs": [
    {
     "name": "stderr",
     "output_type": "stream",
     "text": [
      "100%|███████████████████████████████████████████████████████████████████████████████████████| 1000/1000 [00:00<00:00, 2252.52it/s, init loss: 26390.5733, avg. loss [951-1000]: 23335.5544]\n"
     ]
    },
    {
     "name": "stdout",
     "output_type": "stream",
     "text": [
      "Done.\n"
     ]
    }
   ],
   "source": [
    "# Get data from the data frame. \n",
    "# Use our helper function, convert_day_of_week_to_int, to convert the days of the week to ints\n",
    "d = jnp.array(convert_day_of_week_to_int(data['Day-of-Week']).values)\n",
    "i = jnp.array((data['Condition'] == 'Intoxication').astype(int).values)\n",
    "\n",
    "# Number of data points\n",
    "N = len(d)\n",
    "\n",
    "# Number of iterations we want the optimizer to take when maximizing the likelihood of the data\n",
    "NUM_ITERATIONS = 1000\n",
    "\n",
    "# Pick the size of update to the model's parameter during optimization\n",
    "LEARNING_RATE = 0.01\n",
    "\n",
    "# Define an optimizer; here we chose the \"Adam\" algorithm\n",
    "optimizer = numpyro.optim.Adam(step_size=LEARNING_RATE)\n",
    "\n",
    "# Pick a random generator seed for the optimizer\n",
    "key_optimizer = jrandom.PRNGKey(seed=0)\n",
    "\n",
    "# Perform MLE!\n",
    "result = cs349_mle(\n",
    "    model_of_intoxication_and_day, \n",
    "    optimizer, \n",
    "    key_optimizer,\n",
    "    NUM_ITERATIONS,\n",
    "    N, \n",
    "    d=d, \n",
    "    i=i,\n",
    ")"
   ]
  },
  {
   "cell_type": "markdown",
   "id": "5d3b34a4-b81b-4e92-81c3-cd1374698ff0",
   "metadata": {},
   "source": [
    "The object returned to us by `cs349_mle` contains several useful components:\n",
    "* `result.model_mle` is the *fitted* model. We'll need this to sample from the model.\n",
    "* `result.parameters_mle` are the parameters of the fitted model.\n",
    "* `result.log_likelihood` is the joint data log-likelihood for every iteration of training. This is helpful for visualizing the convergence of the optimizer. "
   ]
  },
  {
   "cell_type": "markdown",
   "id": "4ab8a9f1-4b20-4b69-9697-0388ba3bd455",
   "metadata": {},
   "source": [
    "**Visualizing the Convergence of the MLE:** We can plot the model's log-likelihood with each iteration of the optimizer to see whether (1) the log-likelihood is increasing, as it should, and (2) whether the optimization converged (i.e. do we think there's no more room to improve)."
   ]
  },
  {
   "cell_type": "code",
   "execution_count": 6,
   "id": "26b2d921-4107-40ba-a9be-51832cdf3c8e",
   "metadata": {},
   "outputs": [
    {
     "data": {
      "image/png": "[encoded data removed]",
      "text/plain": [
       "<Figure size 640x480 with 1 Axes>"
      ]
     },
     "metadata": {},
     "output_type": "display_data"
    }
   ],
   "source": [
    "plt.scatter(jnp.arange(NUM_ITERATIONS), result.log_likelihood)\n",
    "plt.xlabel('Optimization Step')\n",
    "plt.ylabel('Log Likelihood')\n",
    "plt.title('Convergence of MLE')\n",
    "plt.show()"
   ]
  },
  {
   "cell_type": "markdown",
   "id": "54ae48cf-b3fa-4655-8bf3-9922e962eccb",
   "metadata": {},
   "source": [
    "**Visualizing the Model's Parameters:** The learned model's parameters, $\\pi$ and $\\rho$, can be accessed as below."
   ]
  },
  {
   "cell_type": "code",
   "execution_count": 7,
   "id": "0f5071e3-9ffb-4d2e-ad2d-bd5b3de410ae",
   "metadata": {},
   "outputs": [
    {
     "data": {
      "text/plain": [
       "{'pi': Array([0.1987, 0.1529, 0.1399, 0.1419, 0.136 , 0.113 , 0.1176], dtype=float64),\n",
       " 'rho': Array([0.09473922, 0.09301582, 0.09448023, 0.10785802, 0.10519358,\n",
       "        0.4079646 , 0.41496599], dtype=float64)}"
      ]
     },
     "execution_count": 7,
     "metadata": {},
     "output_type": "execute_result"
    }
   ],
   "source": [
    "result.parameters_mle"
   ]
  },
  {
   "cell_type": "markdown",
   "id": "e9b1b93b-33db-4c41-b300-bb33058d1fb8",
   "metadata": {},
   "source": [
    "We can then visualize these learned probabilities to see if they match our observed data."
   ]
  },
  {
   "cell_type": "code",
   "execution_count": 8,
   "id": "1da984f4-f5cd-4d9f-80f1-eeaf2400335d",
   "metadata": {},
   "outputs": [],
   "source": [
    "days_of_week = ['Monday', 'Tuesday', 'Wednesday', 'Thursday', 'Friday', 'Saturday', 'Sunday']\n",
    "\n",
    "marginal_probabilities_from_data = []\n",
    "conditional_probabilities_from_data = []\n",
    "\n",
    "# Iterate over the days of the week\n",
    "for day in days_of_week:\n",
    "    # Select all patients that came in on the specific day of the week\n",
    "    patients_on_day = data[(data['Day-of-Week'] == day)]\n",
    "\n",
    "    # Of the selected patients, further select patients with intoxication\n",
    "    patient_intoxicated_on_day = patients_on_day[patients_on_day['Condition'] == 'Intoxication']\n",
    "\n",
    "    # Compute the portion of patients with intoxication on this day\n",
    "    portion_intoxicated_on_day = float(len(patient_intoxicated_on_day)) / float(len(patients_on_day))\n",
    "\n",
    "    # Compute the portion of patients arriving on this day\n",
    "    portion_arriving_on_day = float(len(patients_on_day)) / float(len(data))\n",
    "    \n",
    "    marginal_probabilities_from_data.append(portion_arriving_on_day)\n",
    "    conditional_probabilities_from_data.append(portion_intoxicated_on_day)"
   ]
  },
  {
   "cell_type": "code",
   "execution_count": 9,
   "id": "523adb76-05a8-4ade-a53c-bbe607ff191a",
   "metadata": {},
   "outputs": [
    {
     "data": {
      "image/png": "[encoded data removed]",
      "text/plain": [
       "<Figure size 640x480 with 1 Axes>"
      ]
     },
     "metadata": {},
     "output_type": "display_data"
    }
   ],
   "source": [
    "# Plot marginal\n",
    "width = 0.3\n",
    "plt.bar(jnp.arange(7) - 0.5 * width, marginal_probabilities_from_data, width, label='Data')\n",
    "plt.bar(jnp.arange(7) + 0.5 * width, result.parameters_mle['pi'], width, label=r'MLE for $\\pi$')\n",
    "\n",
    "# Add axis labels and titles\n",
    "plt.xticks(jnp.arange(7), days_of_week, rotation=30)\n",
    "plt.xlabel('Day of Week')\n",
    "plt.ylabel('Probability of Day-of-Week')\n",
    "plt.title('Marginal Probability of Patient Arriving on Each Day')\n",
    "plt.legend()\n",
    "plt.show()"
   ]
  },
  {
   "cell_type": "code",
   "execution_count": 10,
   "id": "c8d30d9d-024f-4bb4-a31b-c4e3943adb6a",
   "metadata": {},
   "outputs": [
    {
     "data": {
      "image/png": "[encoded data removed]",
      "text/plain": [
       "<Figure size 640x480 with 1 Axes>"
      ]
     },
     "metadata": {},
     "output_type": "display_data"
    }
   ],
   "source": [
    "# Plot conditional\n",
    "width = 0.3\n",
    "plt.bar(jnp.arange(7) - 0.5 * width, conditional_probabilities_from_data, width, label='Data')\n",
    "plt.bar(jnp.arange(7) + 0.5 * width, result.parameters_mle['rho'], width, label=r'MLE for $\\rho$')\n",
    "\n",
    "# Add axis labels and titles\n",
    "plt.xticks(jnp.arange(7), days_of_week, rotation=30)\n",
    "plt.xlabel('Day of Week')\n",
    "plt.ylabel('Probability of Intoxication')\n",
    "plt.title('Conditional Probability of Intoxication Given Day')\n",
    "plt.legend()\n",
    "plt.show()"
   ]
  },
  {
   "cell_type": "markdown",
   "id": "8ae3bbbc-fdf2-4b27-9175-ca7ecbb3d31c",
   "metadata": {},
   "source": [
    "**Sampling from the Fitted Model:** We can sample from the fitted model as follows:"
   ]
  },
  {
   "cell_type": "code",
   "execution_count": 11,
   "id": "9633b1ef-dc08-4d0c-8483-3bdc914d945b",
   "metadata": {},
   "outputs": [
    {
     "data": {
      "text/plain": [
       "{'pi': Array([0.1987, 0.1529, 0.1399, 0.1419, 0.136 , 0.113 , 0.1176], dtype=float64),\n",
       " 'rho': Array([0.09473922, 0.09301582, 0.09448023, 0.10785802, 0.10519358,\n",
       "        0.4079646 , 0.41496599], dtype=float64),\n",
       " 'd': Array([1, 1, 0, 1, 4, 3, 2, 0, 1, 5, 5, 3, 4, 2, 0, 0, 1, 3, 6, 4], dtype=int64),\n",
       " 'i': Array([0, 0, 0, 0, 0, 0, 0, 0, 0, 1, 0, 0, 0, 0, 0, 0, 0, 0, 0, 0], dtype=int64)}"
      ]
     },
     "execution_count": 11,
     "metadata": {},
     "output_type": "execute_result"
    }
   ],
   "source": [
    "N = 20 # Number of samples to generate\n",
    "key = jrandom.PRNGKey(seed=0) # Random generator key to use\n",
    "\n",
    "cs349_sample_generative_process(result.model_mle, key, N)"
   ]
  },
  {
   "cell_type": "markdown",
   "id": "b1b328ea-b7fc-4270-b24c-fe7422a0ddf2",
   "metadata": {},
   "source": [
    "````{admonition} Exercise: Perform the MLE on the IHH ER model\n",
    "\n",
    "**Part 1:** You now have all of the tools necessary (1) write the data generating process for the IHH ER model in `NumPyro`, and (2) perform the MLE on the `NumPyro` model. We recommend working on parts (1) and (2) together, incrementally building the model. Specifically, we recommend adding distributions in the following order: \n",
    "\n",
    "a. $p_D$\n",
    "\n",
    "b. $p_{C | D}$\n",
    "\n",
    "c. $p_{K | C}$\n",
    "\n",
    "d. $p_{H | C}$\n",
    "\n",
    "e. $p_{A | C, H}$\n",
    "\n",
    "Please use the following function signature for your model:\n",
    "```\n",
    "def model_of_ihh_er(N, d=None, c=None, k=None, h=None, a=None):\n",
    "    pass\n",
    "```\n",
    "\n",
    "**Part 2:** Compare the parameters of each distribution (marginal and conditional) in the learned model with the distributions observed in the data (just like we did above). Do they match?\n",
    "\n",
    "**Part 3:** Notice that so far, we've relied on a fairly large data-set. But what how good is our learned model if we have a much smaller data set, as is common in many healthcare scenarios? To test this, you can fit your model to a subsample of the data and compare the learned parameters with the distributions observed in the non-subsampled data. That is:\n",
    "\n",
    "a. We pretend we only observe a small subsample of the data: `subsample = data.sample(50, random_state=0)`.\n",
    "\n",
    "b. We fit the model to `subsample`.\n",
    "\n",
    "c. We then compare the parameters of the learned model to those observed in `data`.\n",
    "\n",
    "d. Compare your results to those from Part (2). What do you notice?\n",
    "````"
   ]
  },
  {
   "cell_type": "code",
   "execution_count": null,
   "id": "9f98028e-d449-4976-a432-9d1e535e8b5f",
   "metadata": {},
   "outputs": [],
   "source": []
  }
 ],
 "metadata": {
  "kernelspec": {
   "display_name": "Python 3 (ipykernel)",
   "language": "python",
   "name": "python3"
  },
  "language_info": {
   "codemirror_mode": {
    "name": "ipython",
    "version": 3
   },
   "file_extension": ".py",
   "mimetype": "text/x-python",
   "name": "python",
   "nbconvert_exporter": "python",
   "pygments_lexer": "ipython3",
   "version": "3.10.14"
  },
  "widgets": {
   "application/vnd.jupyter.widget-state+json": {
    "state": {},
    "version_major": 2,
    "version_minor": 0
   }
  }
 },
 "nbformat": 4,
 "nbformat_minor": 5
}
