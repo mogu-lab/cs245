{
 "cells": [
  {
   "cell_type": "markdown",
   "metadata": {
    "slideshow": {
     "slide_type": "slide"
    }
   },
   "source": [
    "# Probability (Continuous)"
   ]
  },
  {
   "cell_type": "code",
   "execution_count": 1,
   "metadata": {},
   "outputs": [],
   "source": [
    "# Import some helper functions (please ignore this!)\n",
    "from utils import * "
   ]
  },
  {
   "cell_type": "markdown",
   "metadata": {},
   "source": [
    "**Context:** Many real-world data sets include non-discrete values (e.g. a patient's body-mass index (BMI), the dosage of medicine, and more). Here, we will introduce what you need to know in order to model continuous-valued data. \n",
    "\n",
    "**Challenge:** In many ways, continuous probability is similar to discrete probability. However, there are a few \"gotchas\" that are important to highlight. \n",
    "\n",
    "**Outline:**\n",
    "* Introduce and practice the concepts, terminology, and notation behind continuous probability distributions.\n",
    "* Gain familiarity with several common continuous distributions."
   ]
  },
  {
   "cell_type": "markdown",
   "metadata": {},
   "source": [
    "## Differences Between Continuous and Discrete Probability\n",
    "\n",
    "Continuous probability functions the same way as discrete probability, except for a few key differences.\n",
    "\n",
    "**Sample Space of Support:** The support of continuous probability distributions is over \"uncountably infinite sets.\" If you're not familiar with this term, that's ok! In this course, we'll think about it more as a distribution supported over the real numbers, $\\mathbb{R}$ (or some subset thereof). \n",
    "> Example: Let $H$ be a continuous RV, describing the distribution of heights in the US. The support of $H$ is the interval $(0, \\infty)$ on the real line. \n",
    "\n",
    "**Probability Mass Function (PMF):** Continuous probability distributions *do not have PMFs*. \n",
    "\n"
   ]
  },
  {
   "cell_type": "markdown",
   "metadata": {},
   "source": [
    "**Cumulative Density Function (CDF):**\n",
    "\n",
    "**Probability Density Function (PDF):**"
   ]
  },
  {
   "cell_type": "markdown",
   "metadata": {},
   "source": [
    "```{admonition} Exercise: Gaining comfort with commonly-used continuous distributions\n",
    "Browse the Wikipedia pages for the following distributions:\n",
    "* [Uniform](https://en.wikipedia.org/wiki/Continuous_uniform_distribution)\n",
    "* [Beta](https://en.wikipedia.org/wiki/Beta_distribution)\n",
    "* [Normal](https://en.wikipedia.org/wiki/Normal_distribution)\n",
    "* [Truncated Normal](https://en.wikipedia.org/wiki/Truncated_normal_distribution)\n",
    "* [Laplace](https://en.wikipedia.org/wiki/Laplace_distribution)\n",
    "\n",
    "Then, for each distribution,\n",
    "1. Describe a random phenomenon from everyday life that can be described using the distribution. \n",
    "2. Define a random variable for the phenomenon you described. Write the support and PMF for this random variable using the above notation.\n",
    "3. Describe a setting of the distribution's parameters that makes sense for your specific phenomenon (and explain why it makes sense).\n",
    "\n",
    "*Hint: On each Wikipedia page, there's a panel on the right side that summarizes the properties of the distribution (e.g. its support, PDF, example plots, etc.).*\n",
    "```"
   ]
  },
  {
   "cell_type": "code",
   "execution_count": null,
   "metadata": {},
   "outputs": [],
   "source": []
  }
 ],
 "metadata": {
  "celltoolbar": "Slideshow",
  "kernelspec": {
   "display_name": "Python 3 (ipykernel)",
   "language": "python",
   "name": "python3"
  },
  "language_info": {
   "codemirror_mode": {
    "name": "ipython",
    "version": 3
   },
   "file_extension": ".py",
   "mimetype": "text/x-python",
   "name": "python",
   "nbconvert_exporter": "python",
   "pygments_lexer": "ipython3",
   "version": "3.10.12"
  }
 },
 "nbformat": 4,
 "nbformat_minor": 4
}
