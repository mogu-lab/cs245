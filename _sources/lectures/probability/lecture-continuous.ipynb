{
 "cells": [
  {
   "cell_type": "markdown",
   "metadata": {
    "slideshow": {
     "slide_type": "slide"
    }
   },
   "source": [
    "# Continuous Probability"
   ]
  },
  {
   "cell_type": "markdown",
   "metadata": {},
   "source": [
    "**Topics:** Focusing on only one variable, \n",
    "* Random variables and distributions\n",
    "  * Definitions and notation: sample space, event, axioms of probability (probability is non-negative, and probability of sample space is 1).\n",
    "* Familiarity with common distributions and their properties – which is useful for what? (Categorical, Uniform, Gaussian, Bernoulli, Beta, Dirichlet)\n",
    "* Coding: jax and matplotlib \n",
    "  * Sampling from numpyro distributions\n",
    "  * Visualizing them"
   ]
  },
  {
   "cell_type": "markdown",
   "metadata": {},
   "source": [
    "**Outline (Part 2): Continuous Probability**\n",
    "1. Recap last class\n",
    "2. Introduce 3 new tasks from mental health data\n",
    "3. Introduce properties of continuous probability: must integrate to one, probability of continuous outcome is 0, events must be defined in bounds (in terms of CDFs), PDF != PMF (using intuition from previous class about counting -- how many samples give exactly X divided by total number of samples? 0.)\n",
    "4. In-class exercise 1: ask students to formalize task using notation\n",
    "5. Same as exercises 1+2 from part 1"
   ]
  },
  {
   "cell_type": "markdown",
   "metadata": {},
   "source": [
    "\\begin{align}\n",
    "x &= 2\n",
    "\\end{align}"
   ]
  },
  {
   "cell_type": "code",
   "execution_count": null,
   "metadata": {},
   "outputs": [],
   "source": []
  }
 ],
 "metadata": {
  "celltoolbar": "Slideshow",
  "kernelspec": {
   "display_name": "Python 3 (ipykernel)",
   "language": "python",
   "name": "python3"
  },
  "language_info": {
   "codemirror_mode": {
    "name": "ipython",
    "version": 3
   },
   "file_extension": ".py",
   "mimetype": "text/x-python",
   "name": "python",
   "nbconvert_exporter": "python",
   "pygments_lexer": "ipython3",
   "version": "3.10.12"
  }
 },
 "nbformat": 4,
 "nbformat_minor": 4
}
