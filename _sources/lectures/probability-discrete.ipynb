{
 "cells": [
  {
   "cell_type": "markdown",
   "metadata": {
    "slideshow": {
     "slide_type": "slide"
    }
   },
   "source": [
    "# Discrete Probability"
   ]
  },
  {
   "cell_type": "markdown",
   "metadata": {},
   "source": [
    "**Topics:** Focusing on only one variable, \n",
    "* Random variables and distributions\n",
    "  * Definitions and notation: sample space, event, axioms of probability (probability is non-negative, and probability of sample space is 1).\n",
    "* Familiarity with common distributions and their properties – which is useful for what? (Categorical, Uniform, Gaussian, Bernoulli, Beta, Dirichlet)\n",
    "* Coding: jax and matplotlib \n",
    "  * Sampling from numpyro distributions\n",
    "  * Visualizing them"
   ]
  },
  {
   "cell_type": "markdown",
   "metadata": {},
   "source": [
    "**Outline (Part 1): Discrete Probability**\n",
    "1. Introduce 3 tasks from mental health data\n",
    "2. Motivation: Why use probability?\n",
    "3. Introduce terminology and notation in the context of the task: random variable, outcome, sample space (all possible outcomes), event (set of at least one outcome), probability of event (PMF)\n",
    "4. Introduce properties of discrete probability: p(sample space) = 1, 0 <= p(event) <= 1.\n",
    "5. Introduce i.i.d sampling (to simulate many independent observations of the same phenomenon)\n",
    "6. Re-introduce task in terms of notation\n",
    "7. In-class exercise 1: students look up common distributions on Wikipedia (listed above), and see if they can match them to one of the tasks introduced earlier. Instruct students to first match distributions to tasks based on obvious properties (support of distribution), and only then based on shape (asking them to relate shape to the problem).\n",
    "8. In-class exercise 2: students use Jax/NumPyro to plot samples from the distributions and compare that against the empirical distributions from the data. Iteratively, they search for parameters that make the two distributions similar.\n",
    "9. Point out to students that for discrete distributions, probabilities can be estimated via counting (how many / total)."
   ]
  },
  {
   "cell_type": "code",
   "execution_count": null,
   "metadata": {},
   "outputs": [],
   "source": []
  }
 ],
 "metadata": {
  "celltoolbar": "Slideshow",
  "kernelspec": {
   "display_name": "Python 3 (ipykernel)",
   "language": "python",
   "name": "python3"
  },
  "language_info": {
   "codemirror_mode": {
    "name": "ipython",
    "version": 3
   },
   "file_extension": ".py",
   "mimetype": "text/x-python",
   "name": "python",
   "nbconvert_exporter": "python",
   "pygments_lexer": "ipython3",
   "version": "3.10.12"
  }
 },
 "nbformat": 4,
 "nbformat_minor": 4
}
