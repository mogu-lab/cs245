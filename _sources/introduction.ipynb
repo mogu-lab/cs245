{
 "cells": [
  {
   "cell_type": "markdown",
   "metadata": {},
   "source": [
    "# What is Probabilistic ML?"
   ]
  },
  {
   "cell_type": "markdown",
   "metadata": {},
   "source": [
    "```{admonition} Congratulations!\n",
    ":class: tip\n",
    "\n",
    "You've been hired to join the machine learning (ML) team at the Intergalactic Hypothetical Hospital (IHH), where you'll be leveraging routinely collected medical data to help improve treatment for beings across the galaxy. \n",
    "```"
   ]
  },
  {
   "cell_type": "markdown",
   "metadata": {},
   "source": [
    "## Your Role at the Intergalactic Hypothetical Hospital (IHH)\n",
    "\n",
    "**About.** The IHH is a research and teaching hospital located in the far corner of the universe. It serves a large number of intergalactic beings in the area. Like many modern hospitals, it collects large amounts of data about its patients (with their consent, of course), with goal of leveraging this data to improve patient care. Unfortunately, doctors are incredibly busy focusing on the patients; when a new patient arrives, they don't have time to inform their care based on the data they have. That is, they don't have time to comb through all previously collected data, find similar patients, and determine how care for previous patients informs care for new patients. Moreover, they don't have time to look at population-level trends, or use data to research new treatment methods."
   ]
  },
  {
   "cell_type": "markdown",
   "metadata": {},
   "source": [
    "**The ML Team.** As a result, the IHH has created a new ML team---the first of its kind! And they have hired you to join them. The goal of the team is to assist IHH researchers and clinicians in:\n",
    "* Answering scientific questions, like better understanding the course of certain diseases\n",
    "* Develop predictive models to identify patients that are at risk\n",
    "\n",
    "The challenges they encounter in their data are unique, so as a result, you may have to develop *new ML methods* to address their unique problems. "
   ]
  },
  {
   "cell_type": "markdown",
   "metadata": {},
   "source": [
    "**What is ML?** Broadly speaking, ML is a paradigm of AI that allows a computer to learn patterns from examples. In contrast, traditionally AI focused more on algorithmic/case-based reasoning. Now, the two terms are used more interchangeably. Nonetheless, let's illustrate the difference.\n",
    "* **AI via algorithmic/case-cased reasoning.** This paradigm is typically applied to problems where we have a good understanding of the mechanics. For example, suppose you wanted to play a game of tic-tac-toe against your computer. You can enumerate all possible courses of the game. You can program the computer to look at all possible future courses, and only choose ones in which it will win/tie. \n",
    "* **ML via extracting patterns from examples.** This paradigm is typically applied to problems in which we don't have as good of an understanding---problems for which we cannot write down if-else rules, telling the computer what to do. In these cases, it's easier to provide the computer with examples---inputs and outputs---and have the computer \"figure out\" how to map the inputs to the outputs. As in the case of the IHH, image you are testing the effect of a new medication. You want to predict a patient's blood pressure as a function of the medication's dose. It would be hard for you to write down precise rules (e.g. if dose is $x$, then blood pressure is $y$), since the biology underlying the medication is complicated, and influenced by each patient's specific physiology (i.e. each patient reacts differently to the medication). "
   ]
  },
  {
   "cell_type": "markdown",
   "metadata": {},
   "source": [
    "**Your Role.** Your role at the IHH requires you to consider three aspects of ML method application and development:\n",
    "1. **Safety.** Patient safety is everything. As such, the ML methods you develop must be accurate; an incorrect prediction may cause patients harm. Moreover, in cases where its not possible to make accurate predictions, your ML methods must indicate to its users the limits of their knowledge (i.e. they must quantify uncertainty). For example, if a patient arrives at the IHH whose profile is different than all previous patients your ML has seen, your model should *flag it* for careful clinician screening.\n",
    "2. **Validity.** The models you develop must be scientifically plausible; otherwise, IHH clinicians won't be able to use them to advance clinical science.\n",
    "3. **Ethics.** Whenever computerized systems interact with humans, we have to proactively think of ethical challenges we will face; for example, what if our ML methods are less accurate for one group of patients? When things go wrong, who is held responsible?\n",
    "\n",
    "How can we address these challenges? You will use a specific paradigm of ML---the *probabilistic perspective*. This perspective provides us with tools to begin thinking about these questions. But as you will see, this paradigm won't be enough; some of the questions you will wrestle are multi-faceted, open questions. To address these difficult questions, you will need a diversity of perspectives. \n",
    "\n",
    "**Diversity of backgrounds, identities, and lived-experiences.** The IHH's hiring practices values a diversity of backgrounds, identities, and lived-experiences. Your collaborators on the ML team, as well as at the IHH as a whole, will provide you with important perspectives to consider as you reason about the safety, validity, and ethics of your ML methods. Your team's diversity is your biggest asset---use it! "
   ]
  },
  {
   "cell_type": "markdown",
   "metadata": {},
   "source": [
    "## What is Probabilistic ML?\n",
    "\n",
    "In a loose sense, there are two main paradigms to ML. There's what we'll call here the *optimization perspective* and the *probabilistic perspective*. These two perspectives are not mutually exclusive---there are ML methods that can be described by both---but there are also methods that uniquely belong to each. Even more importantly, each accompanies a specific way of thinking. \n",
    "\n",
    "**The Optimization Perspective.** In the optimization perspective, we formalize our goal into a *loss* or *objective* function. For example, suppose we're given a data set, $(x_1, y_1), (x_2, y_2), \\dots, (x_N, y_N)$, in which $x$ is the dose of medication and $y$ is the resulting blood pressure. Our goal is to learn to predict the $y$'s from the $x$'s. That is, we want to learn a function $f$ that, given a value of $x$ will return $y$. We can encode our goal into the following loss function:\n",
    "\\begin{align}\n",
    "\\text{loss} = \\underbrace{\\frac{1}{N}\\sum\\limits_{n=1}^N}_{\\text{average}} \\text{ } \\underbrace{| y_n - f(x_n) |}_{\\text{error}}\n",
    "\\end{align}\n",
    "This function computes the average error between by predictions, $f(x_n)$, and my data $y_n$. Then by finding a predictor $f$ that *minimizes* our loss, we find a predictor that makes accurate predictions on our data. We then hope that our $f$ will continue to make accurate predictions for future data points. The name of the game behind the optimization perspective is coming up with a loss function that encodes your goals.  \n",
    "\n",
    "**The Probabilistic Perspective.** In the probabilistic perspective, we take a different approach. Instead of directly writing down a loss function that encodes our goal, we formalize our beliefs about the data into a \"story\" of how the data was generated. As an example, consider the model that predicts blood pressure given dose of medication. For this model, our story can be something like:\n",
    "1. Measure the dose, $x$, and give it to the patient.\n",
    "2. Due to the medicine, the patient's true blood pressure is now $\\mu(x)$. Notice that $\\mu(x)$ is a function of $x$, since it depends on the dose. \n",
    "3. We measure the patient's blood pressure. Since the device's sensors aren't perfect, we assume the *measured* blood pressure, $y$, is near the *true* blood pressure, $\\mu(x)$. Specifically, we assume it's $\\pm \\sigma$ around $\\mu(x)$, with higher probability of being closer to $\\mu(x)$. \n",
    "\n",
    "This story describes how the data is generated. If we were to write it with more mathematical specificity, as we will learn to do in this course, this story is a *probabilistic model*. \n",
    "\n",
    "Notice that there are a few missing pieces in the story. First, we didn't say what $\\mu$ is---just that it's a function. Second, we didn't say what $\\sigma$ is. Using algorithms from statistics, we will fit the model to data and estimate these missing pieces. Some of these algorithms will end up asking us to minimize some loss function (like in the optimization perspective), and some will not. Even if we end up with a loss function, the *process* that led us to this objective function will have a very specific flavor and philosophical underpinning---it will always be concerned with probability distributions in some way. \n",
    "\n",
    "Now, let's us highlight some of the advantages of the paradigm."
   ]
  },
  {
   "cell_type": "markdown",
   "metadata": {},
   "source": [
    "**Advantage 1: Distributions $\\rightarrow$ Generative Models and Uncertainty Quantification.** In many ways, this perspective has enabled the AI-boom we've seen recently. You may be familiar with diffusion models, for example---models that can convert text into high-resolution images, generate new musical compositions, etc. These models rely on the probabilistic perspective. This is because these models learn the *distribution* of the data they are given. Similarly, towards the end of the course, we'll cover models capable of quantifying uncertainty (they will tell us when they are unsure about a prediction)---these models also rely on the probabilistic perspective. "
   ]
  },
  {
   "cell_type": "markdown",
   "metadata": {},
   "source": [
    "**Advantage 2: Unified Framework $\\rightarrow$ Create/Analyze New ML Methods.** You may have heard of different \"types\" of ML algorithms, like supervised ML and unsupervised ML (no worries if you haven't---the details aren't important):\n",
    "\n",
    "```{figure} _static/figs/types-of-ml.png\n",
    "---\n",
    "width: 100%\n",
    "name: types-of-ml\n",
    "align: center\n",
    "---\n",
    "\n",
    "Types of ML methods, adapted from [this website](https://resources.experfy.com/ai-ml/coding-deep-learning-for-beginners-types-of-machine-learning/).\n",
    "```\n",
    "\n",
    "Supervised ML typically refers to predictive methods---methods that predict a \"label\" $y$ from an input $x$ (as we did in our blood pressure example). The label \"supervises\" the method to give us the desired output. In contrast, unsupervised ML are only given inputs $x$ and are asked to predict some label with useful properties. In this sense, they are \"unsupervised.\" For example, given a collection of patients' medical histories as inputs, $x$, we may want to cluster similar patients. We can then see if groups of similar patients benefit from similar treatments, etc. \n",
    "\n",
    "This taxonomy of ML methods largely comes from the non-probabilistic perspective, since under this perspective, each methods requiers a different derivation, different fitting algorithm, different theoretical analysis to understand its properties. This poses two challenges for developing new ML methodology:\n",
    "1. It's hard to come up with a brand new ML method if we don't have a unified framework for developing methods.\n",
    "2. Every method you develop will need a brand new implementation, analysis, justification---that's a lot of work! \n",
    "\n",
    "In contrast, the probabilistic perspective allows us to derive all of these methods under a *unified framework*. This framework will allow us to develop unique methods more easily---e.g. methods that have supervised *and* unsupervised components---and to better analyze these methods. We will therefore abandon this taxonomy in the class. "
   ]
  },
  {
   "cell_type": "markdown",
   "metadata": {},
   "source": [
    "**Advantage 3: Explicit Modeling Assumptions $\\rightarrow$ Highlights Subjectivity.** While we'd like to think of ML systems as data-driven wizardry---you just give it data and it does the \"right thing\"---we'll show in this course that *this is a myth*. It's not theoretically possible to build such a system; all systems make assumptions. For safety-critical applications, like the ones at the IHH, it's important that these assumptions are *explicit*. This is another strength of the probabilistic paradigm. In expressing our beliefs about the data via *generative story*, we list all assumptions we've made about the data. This will allow us to better interrogate our assumptions when our method behaves poorly (e.g. when our method is inaccurate, unfair, over-confident, etc.). "
   ]
  },
  {
   "cell_type": "markdown",
   "metadata": {},
   "source": [
    "**Advantage 4: Uncertainty Quantification $\\rightarrow$ Safety-Critical Applications.** In safety-critical applications of ML, uncertainty matters just as much as accuracy. The probabilistic perspective will allow us to capture the uncertainty of our method's predictions. What is uncertainty exactly? and how will we quantify it? Stick around to find out. "
   ]
  },
  {
   "cell_type": "markdown",
   "metadata": {},
   "source": [
    "## Course Structure\n",
    "\n",
    "Our course consists of several parts:\n",
    "\n",
    "**Part 1: Learning the Coding Framework, `Jax`.** TODO.\n",
    "\n",
    "**Part 2: Probabilistic Models.**\n",
    "\n",
    "**Part 3: Fitting Models to Data.**\n",
    "\n",
    "**Part 4: Predictive Models.**\n",
    "\n",
    "**Part 5: Generative Models.**\n",
    "\n",
    "**Part 6: Special Topics.**"
   ]
  },
  {
   "cell_type": "markdown",
   "metadata": {},
   "source": [
    "## Expectations\n",
    "\n",
    "**What you can expect from us.** TODO.\n",
    "\n",
    "**What we expect from you.** TODO."
   ]
  },
  {
   "cell_type": "markdown",
   "metadata": {},
   "source": [
    "## Deconstructing the Culture of AI\n",
    "\n",
    "TODO"
   ]
  },
  {
   "cell_type": "code",
   "execution_count": null,
   "metadata": {},
   "outputs": [],
   "source": []
  }
 ],
 "metadata": {
  "celltoolbar": "Slideshow",
  "kernelspec": {
   "display_name": "Python 3 (ipykernel)",
   "language": "python",
   "name": "python3"
  },
  "language_info": {
   "codemirror_mode": {
    "name": "ipython",
    "version": 3
   },
   "file_extension": ".py",
   "mimetype": "text/x-python",
   "name": "python",
   "nbconvert_exporter": "python",
   "pygments_lexer": "ipython3",
   "version": "3.10.14"
  }
 },
 "nbformat": 4,
 "nbformat_minor": 4
}
