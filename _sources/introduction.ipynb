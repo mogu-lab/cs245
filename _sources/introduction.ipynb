{
 "cells": [
  {
   "cell_type": "markdown",
   "metadata": {},
   "source": [
    "# What is Probabilistic ML?"
   ]
  },
  {
   "cell_type": "markdown",
   "metadata": {},
   "source": [
    "**Topics:**\n",
    "* What is ML? Why the big deal?\n",
    "* Why this course: i.e. why the “probabilistic” perspective? \n",
    "  * Highlights assumptions + subjective nature of AI\n",
    "  * Allows for quantification of uncertainty\n",
    "  * Important for ethics, fairness, safety-critical applications, etc.\n",
    "  * Provides a unified perspective for thinking + deriving models (regression, classification, dimensionality reduction, clustering, etc.)\n",
    "* Course overview:\n",
    "  * What you can expect from me\n",
    "  * What I expect from you\n",
    "  * How to succeed in the course\n",
    "* Group activity: \n",
    "  * Expectations and community standards (both student-to-student and student-to-faculty)\n",
    "  * Broader impact analysis: what is it, and practice doing it"
   ]
  },
  {
   "cell_type": "markdown",
   "metadata": {},
   "source": [
    "```{admonition} Congratulations!\n",
    ":class: tip\n",
    "\n",
    "You've been hired to join the machine learning (ML) team at the Intergalactic Hypothetical Hospital (IHH), where you'll be leveraging routinely collected medical data to help improve treatment for beings across the galaxy. \n",
    "```"
   ]
  },
  {
   "cell_type": "code",
   "execution_count": null,
   "metadata": {},
   "outputs": [],
   "source": []
  }
 ],
 "metadata": {
  "celltoolbar": "Slideshow",
  "kernelspec": {
   "display_name": "Python 3 (ipykernel)",
   "language": "python",
   "name": "python3"
  },
  "language_info": {
   "codemirror_mode": {
    "name": "ipython",
    "version": 3
   },
   "file_extension": ".py",
   "mimetype": "text/x-python",
   "name": "python",
   "nbconvert_exporter": "python",
   "pygments_lexer": "ipython3",
   "version": "3.10.12"
  }
 },
 "nbformat": 4,
 "nbformat_minor": 4
}
