{
 "cells": [
  {
   "cell_type": "markdown",
   "metadata": {},
   "source": [
    "# What is Probabilistic ML?"
   ]
  },
  {
   "cell_type": "markdown",
   "metadata": {},
   "source": [
    "**TODO write:**\n",
    "* What is ML? Why the big deal?\n",
    "* Why this course: i.e. why the “probabilistic” perspective? \n",
    "  * Highlights assumptions + subjective nature of AI\n",
    "  * Allows for quantification of uncertainty\n",
    "  * Important for ethics, fairness, safety-critical applications, etc.\n",
    "  * Provides a unified perspective for thinking + deriving models (regression, classification, dimensionality reduction, clustering, etc.)\n",
    "* Course overview:\n",
    "  * What you can expect from me\n",
    "  * What I expect from you\n",
    "  * How to succeed in the course\n",
    "* Group activity: \n",
    "  * Expectations and community standards (both student-to-student and student-to-faculty)\n",
    "  * Broader impact analysis: what is it, and practice doing it"
   ]
  },
  {
   "cell_type": "markdown",
   "metadata": {},
   "source": [
    "```{admonition} Congratulations!\n",
    ":class: tip\n",
    "\n",
    "You've been hired to join the machine learning (ML) team at the Intergalactic Hypothetical Hospital (IHH), where you'll be leveraging routinely collected medical data to help improve treatment for beings across the galaxy. \n",
    "```"
   ]
  },
  {
   "cell_type": "markdown",
   "metadata": {},
   "source": [
    "## Your Role at the Intergalactic Hypothetical Hospital (IHH)\n",
    "\n",
    "**About.** The IHH is a research and teaching hospital located in the far corner of the universe. It serves a large number of intergalactic beings in the area. Like many modern hospitals, it collects large amounts of data about its patients (with their consent, of course), with goal of leveraging this data to improve patient care. Unfortunately, doctors are incredibly busy focusing on the patients; when a new patient arrives, they don't have time to inform their care based on the data they have. That is, they don't have time to comb through all previously collected data, find similar patients, and determine how care for previous patients informs care for new patients. Moreover, they don't have time to look at population-level trends, or use data to research new treatment methods."
   ]
  },
  {
   "cell_type": "markdown",
   "metadata": {},
   "source": [
    "**The ML Team.** As a result, the IHH has created a new ML team---the first of its kind! And they have hired you to join them. The goal of the team is to assist IHH researchers and clinicians in:\n",
    "* Answering scientific questions, like better understanding the course of certain diseases\n",
    "* Develop predictive models to identify patients that are at risk\n",
    "\n",
    "The challenges they encounter in their data are unique, so as a result, you may have to develop *new ML methods* to address their unique problems. "
   ]
  },
  {
   "cell_type": "markdown",
   "metadata": {},
   "source": [
    "**What is ML?** Broadly speaking, ML is a paradigm of AI that allows a computer to learn patterns from examples. In contrast, traditionally AI focused more on algorithmic/case-based reasoning. Now, the two terms are used more interchangeably. Nonetheless, let's illustrate the difference.\n",
    "* **AI via algorithmic/case-cased reasoning.** This paradigm is typically applied to problems where we have a good understanding of the mechanics. For example, suppose you wanted to play a game of tic-tac-toe against your computer. You can enumerate all possible courses of the game. You can program the computer to look at all possible future courses, and only choose ones in which it will win/tie. \n",
    "* **ML via extracting patterns from examples.** This paradigm is typically applied to problems in which we don't have as good of an understanding---problems for which we cannot write down if-else rules, telling the computer what to do. In these cases, it's easier to provide the computer with examples---inputs and outputs---and have the computer \"figure out\" how to map the inputs to the outputs. As in the case of the IHH, image you are testing the effect of a new medication. You want to predict a patient's blood pressure as a function of the medication's dose. It would be hard for you to write down precise rules (e.g. if dose is $x$, then blood pressure is $y$), since the biology underlying the medication is complicated, and influenced by each patient's specific physiology (i.e. each patient reacts differently to the medication). "
   ]
  },
  {
   "cell_type": "markdown",
   "metadata": {},
   "source": [
    "**Your Role.** Your role at the IHH requires you to consider three aspects of ML method application and development:\n",
    "1. **Safety.** Patient safety is everything. As such, the ML methods you develop must be accurate; an incorrect prediction may cause patients harm. Moreover, in cases where its not possible to make accurate predictions, your ML methods must indicate to its users the limits of their knowledge (i.e. they must quantify uncertainty). For example, if a patient arrives at the IHH whose profile is different than all previous patients your ML has seen, your model should *flag it* for careful clinician screening.\n",
    "2. **Validity.** The models you develop must be scientifically plausible; otherwise, IHH clinicians won't be able to use them to advance clinical science.\n",
    "3. **Ethics.** Whenever computerized systems interact with humans, we have to proactively think of ethical challenges we will face; for example, what if our ML methods are less accurate for one group of patients? When things go wrong, who is held responsible?\n",
    "\n",
    "How can we address these challenges? You will use a specific paradigm of ML---the *probabilistic perspective*. This perspective provides us with tools to begin thinking about these questions. But as you will see, this paradigm won't be enough; some of the questions you will wrestle are multi-faceted, open questions. To address these difficult questions, you will need a diversity of perspectives. \n",
    "\n",
    "**Diversity of backgrounds, identities, and lived-experiences.** The IHH's hiring practices values a diversity of backgrounds, identities, and lived-experiences. Your collaborators on the ML team, as well as at the IHH as a whole, will provide you with important perspectives to consider as you reason about the safety, validity, and ethics of your ML methods. Your team's diversity is your biggest asset---use it! "
   ]
  },
  {
   "cell_type": "markdown",
   "metadata": {},
   "source": [
    "## What is Probabilistic ML?\n",
    "\n"
   ]
  },
  {
   "cell_type": "markdown",
   "metadata": {},
   "source": [
    "**Advantage 1: Unified Framework $\\rightarrow$ Create/Analyze New ML Methods.** TODO\n",
    "\n",
    "```{figure} _static/figs/types-of-ml.png\n",
    "---\n",
    "width: 100%\n",
    "name: types-of-ml\n",
    "align: center\n",
    "---\n",
    "\n",
    "Types of ML methods, adapted from [this website](https://resources.experfy.com/ai-ml/coding-deep-learning-for-beginners-types-of-machine-learning/).\n",
    "```\n"
   ]
  },
  {
   "cell_type": "markdown",
   "metadata": {},
   "source": [
    "**Advantage 2: Explicit Modeling Assumptions $\\rightarrow$ Highlights Subjectivity.** TODO"
   ]
  },
  {
   "cell_type": "markdown",
   "metadata": {},
   "source": [
    "**Advantage 3: Uncertainty Quantification $\\rightarrow$ Safety-Critical Applications.** TODO"
   ]
  },
  {
   "cell_type": "markdown",
   "metadata": {},
   "source": [
    "## Course Structure\n",
    "\n",
    "TODO"
   ]
  },
  {
   "cell_type": "code",
   "execution_count": null,
   "metadata": {},
   "outputs": [],
   "source": []
  }
 ],
 "metadata": {
  "celltoolbar": "Slideshow",
  "kernelspec": {
   "display_name": "Python 3 (ipykernel)",
   "language": "python",
   "name": "python3"
  },
  "language_info": {
   "codemirror_mode": {
    "name": "ipython",
    "version": 3
   },
   "file_extension": ".py",
   "mimetype": "text/x-python",
   "name": "python",
   "nbconvert_exporter": "python",
   "pygments_lexer": "ipython3",
   "version": "3.10.14"
  }
 },
 "nbformat": 4,
 "nbformat_minor": 4
}
