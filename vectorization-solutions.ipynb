{
 "cells": [
  {
   "cell_type": "markdown",
   "id": "55442788-56ad-4cad-bbbd-f4aa3f2f870b",
   "metadata": {},
   "source": [
    "# Vectorization Solutions"
   ]
  },
  {
   "cell_type": "code",
   "execution_count": 1,
   "id": "4cde8756-4120-4aed-83ba-0c3f9f32ffe1",
   "metadata": {},
   "outputs": [],
   "source": [
    "import jax.numpy as jnp\n",
    "import chex"
   ]
  },
  {
   "cell_type": "markdown",
   "id": "d2b408a7-5e4c-4ec8-8266-47d69346cbf8",
   "metadata": {},
   "source": [
    "## Array Operations"
   ]
  },
  {
   "cell_type": "code",
   "execution_count": 2,
   "id": "0a13ea50-b824-4129-929d-58da771b3533",
   "metadata": {},
   "outputs": [
    {
     "name": "stdout",
     "output_type": "stream",
     "text": [
      "15.104412\n",
      "42.335617\n"
     ]
    }
   ],
   "source": [
    "def array_operations_q1(N):\n",
    "    return jnp.sum(jnp.log(jnp.arange(N) + 1.0))\n",
    "\n",
    "print(array_operations_q1(10.0))\n",
    "print(array_operations_q1(20.0))"
   ]
  },
  {
   "cell_type": "code",
   "execution_count": 3,
   "id": "c69b84e6-6fd0-41f8-96cc-0e93120450cc",
   "metadata": {},
   "outputs": [
    {
     "name": "stdout",
     "output_type": "stream",
     "text": [
      "84.905975\n",
      "2507.8203\n"
     ]
    }
   ],
   "source": [
    "def array_operations_q2(N, M):\n",
    "    i = jnp.tile(jnp.arange(N)[..., None], M)\n",
    "    j = jnp.tile(jnp.arange(M)[..., None], N).T\n",
    "\n",
    "    return jnp.sum(jnp.log(i * j + 1.0))\n",
    "\n",
    "print(array_operations_q2(5, 10))\n",
    "print(array_operations_q2(30, 20))"
   ]
  },
  {
   "cell_type": "markdown",
   "id": "e1bfd1e2-1378-4765-b735-f90cde40249a",
   "metadata": {},
   "source": [
    "## Slicing"
   ]
  },
  {
   "cell_type": "code",
   "execution_count": 4,
   "id": "d8acd764-c7b5-4d3e-9eec-7d759e420e82",
   "metadata": {},
   "outputs": [
    {
     "data": {
      "text/plain": [
       "Array([ 1.,  4.,  5., 10.], dtype=float32)"
      ]
     },
     "execution_count": 4,
     "metadata": {},
     "output_type": "execute_result"
    }
   ],
   "source": [
    "def array_slicing_q1(a):\n",
    "    return a[1:] - a[:-1]\n",
    "\n",
    "array_slicing_q1(jnp.array([0.0, 1.0, 5.0, 10.0, 20.0]))"
   ]
  },
  {
   "cell_type": "code",
   "execution_count": 5,
   "id": "d21de757-0d3d-4c00-9ebe-0d0411f926dc",
   "metadata": {},
   "outputs": [
    {
     "data": {
      "text/plain": [
       "Array([[ 1.,  4.,  5., 10.],\n",
       "       [ 3.,  1., 14., 10.]], dtype=float32)"
      ]
     },
     "execution_count": 5,
     "metadata": {},
     "output_type": "execute_result"
    }
   ],
   "source": [
    "def array_slicing_q2(a):\n",
    "    return a[..., 1:] - a[..., :-1]\n",
    "\n",
    "array_slicing_q2(jnp.array([\n",
    "    [0.0, 1.0, 5.0, 10.0, 20.0],\n",
    "    [2.0, 5.0, 6.0, 20.0, 30.0]\n",
    "]))"
   ]
  },
  {
   "cell_type": "markdown",
   "id": "7ca035b7-ee8f-45a4-b360-39760862fa92",
   "metadata": {},
   "source": [
    "## Indexing with Boolean Arrays"
   ]
  },
  {
   "cell_type": "code",
   "execution_count": 6,
   "id": "222a26bf-afb0-407b-a911-0f3ec7a9064c",
   "metadata": {},
   "outputs": [
    {
     "data": {
      "text/plain": [
       "Array([[ 1.,  2.,  3.],\n",
       "       [-1., -2.,  4.]], dtype=float32)"
      ]
     },
     "execution_count": 6,
     "metadata": {},
     "output_type": "execute_result"
    }
   ],
   "source": [
    "def boolean_indexing_q1(a):\n",
    "    chex.assert_rank(a, 2)    \n",
    "    positive_sum = a.sum(axis=-1) > 0.0\n",
    "    return a[positive_sum]\n",
    "\n",
    "boolean_indexing_q1(jnp.array([\n",
    "    [1.0, 2.0, 3.0],\n",
    "    [-1.0, -2.0, 3.0],\n",
    "    [-1.0, -2.0, 4.0],\n",
    "    [-1.0, -2.0, -3.0],\n",
    "]))"
   ]
  },
  {
   "cell_type": "code",
   "execution_count": 7,
   "id": "2d6e01e7-7e52-4652-8d5e-faeda7718266",
   "metadata": {},
   "outputs": [
    {
     "name": "stdout",
     "output_type": "stream",
     "text": [
      "[[0 0 0 0 0 0 0 0 0 0]\n",
      " [0 0 0 0 1 0 0 0 0 0]\n",
      " [0 0 0 1 1 1 0 0 0 0]\n",
      " [0 0 1 1 1 1 1 0 0 0]\n",
      " [0 0 0 1 1 1 0 0 0 0]\n",
      " [0 0 0 0 1 0 0 0 0 0]\n",
      " [0 0 0 0 0 0 0 0 0 0]\n",
      " [0 0 0 0 0 0 0 0 0 0]\n",
      " [0 0 0 0 0 0 0 0 0 0]\n",
      " [0 0 0 0 0 0 0 0 0 0]]\n",
      "\n",
      "[[0 0 0 0 0 0 0 0 0 0]\n",
      " [0 0 0 0 0 0 0 0 0 0]\n",
      " [0 0 0 0 0 0 0 0 0 0]\n",
      " [0 0 0 0 0 0 0 0 0 0]\n",
      " [0 0 0 0 0 0 0 0 0 0]\n",
      " [0 0 0 0 0 0 0 0 0 0]\n",
      " [0 0 0 0 0 0 0 0 0 0]\n",
      " [0 0 0 0 0 0 0 0 1 0]\n",
      " [0 0 0 0 0 0 0 1 1 1]\n",
      " [0 0 0 0 0 0 1 1 1 1]]\n"
     ]
    }
   ],
   "source": [
    "def boolean_indexing_q2(N, x, y, r):\n",
    "    assert(0 < N)\n",
    "    assert(0 <= x and x < N)\n",
    "    assert(0 <= y and y < N)\n",
    "    assert(0 < r)\n",
    "    \n",
    "    rows = jnp.tile(jnp.arange(N)[..., None], N)\n",
    "    cols = rows.T\n",
    "    result = ((rows - x) ** 2.0 + (cols - y) ** 2.0 <= r ** 2.0).astype('int32')\n",
    "\n",
    "    chex.assert_shape(result, (N, N))\n",
    "    return result\n",
    "\n",
    "print(boolean_indexing_q2(10, 3, 4, 2))\n",
    "print('')\n",
    "print(boolean_indexing_q2(10, 9, 8, 2))"
   ]
  },
  {
   "cell_type": "markdown",
   "id": "1aeafc98-e78d-410c-bd1e-3c949d03ba12",
   "metadata": {},
   "source": [
    "## Indexing with Arrays of Indices"
   ]
  },
  {
   "cell_type": "code",
   "execution_count": 8,
   "id": "3a4a5763-41e9-4c55-b9d7-3704901f9ceb",
   "metadata": {},
   "outputs": [
    {
     "name": "stdout",
     "output_type": "stream",
     "text": [
      "[[ 0  1  2  3  4  5]\n",
      " [ 6  7  8  9 10 11]\n",
      " [12 13 14 15 16 17]\n",
      " [18 19 20 21 22 23]\n",
      " [24 25 26 27 28 29]\n",
      " [30 31 32 33 34 35]]\n",
      "\n",
      "[ 0  7 14 21 28 35]\n"
     ]
    }
   ],
   "source": [
    "def integer_indexing_q1(a):\n",
    "    chex.assert_rank(a, 2)\n",
    "    chex.assert_size(a, a.shape[0] ** 2)\n",
    "    \n",
    "    i = jnp.arange(a.shape[0])\n",
    "    result = a[(i, i)]\n",
    "\n",
    "    chex.assert_shape(result, (a.shape[0],))\n",
    "    return result\n",
    "\n",
    "a = jnp.arange(6 * 6).reshape(6, 6)\n",
    "print(a)\n",
    "print('')\n",
    "print(integer_indexing_q1(a))"
   ]
  },
  {
   "cell_type": "code",
   "execution_count": 9,
   "id": "6cc29246-3a74-4a14-a54c-198695fea0bb",
   "metadata": {},
   "outputs": [
    {
     "name": "stdout",
     "output_type": "stream",
     "text": [
      "[[ 0  1  2  3  4  5]\n",
      " [ 6  7  8  9 10 11]\n",
      " [12 13 14 15 16 17]\n",
      " [18 19 20 21 22 23]\n",
      " [24 25 26 27 28 29]\n",
      " [30 31 32 33 34 35]]\n",
      "\n",
      "Offset -2: [12 19 26 33]\n",
      "Offset -1: [ 6 13 20 27 34]\n",
      "Offset 0: [ 0  7 14 21 28 35]\n",
      "Offset 1: [ 1  8 15 22 29]\n",
      "Offset 2: [ 2  9 16 23]\n"
     ]
    }
   ],
   "source": [
    "def integer_indexing_q2(a, offset=0):\n",
    "    chex.assert_rank(a, 2)\n",
    "    chex.assert_size(a, a.shape[0] ** 2)\n",
    "    \n",
    "    i = jnp.arange(a.shape[0] - abs(offset)) - offset * (offset <= 0)\n",
    "    j = jnp.arange(a.shape[1] - abs(offset)) + offset * (offset > 0)\n",
    "    result = a[(i, j)]\n",
    "\n",
    "    chex.assert_shape(result, (a.shape[0] - abs(offset),))\n",
    "    return result\n",
    "\n",
    "a = jnp.arange(6 * 6).reshape(6, 6)\n",
    "print(a)\n",
    "print('')\n",
    "\n",
    "for offset in [-2, -1, 0, 1, 2]:\n",
    "    print(f'Offset {offset}:', integer_indexing_q2(a, offset=offset))"
   ]
  },
  {
   "cell_type": "markdown",
   "id": "7f2d8f68-e711-47f2-bb9d-6694559f9634",
   "metadata": {},
   "source": [
    "## Broadcasting"
   ]
  },
  {
   "cell_type": "code",
   "execution_count": 10,
   "id": "ab5af191-402b-4c18-b791-e80c7f91554d",
   "metadata": {},
   "outputs": [
    {
     "data": {
      "text/plain": [
       "Array([[17., 10., 41., 37.],\n",
       "       [10., 13., 20., 34.],\n",
       "       [ 9., 26.,  1., 29.]], dtype=float32)"
      ]
     },
     "execution_count": 10,
     "metadata": {},
     "output_type": "execute_result"
    }
   ],
   "source": [
    "def broadcasting_q1(a, b):\n",
    "    chex.assert_rank((a, b), 2)\n",
    "    chex.assert_equal_shape_suffix((a, b), 1)\n",
    "    \n",
    "    result = jnp.sum((b[None, ...] - a[:, None, ...]) ** 2.0, axis=-1)\n",
    "\n",
    "    chex.assert_shape(result, (a.shape[0], b.shape[0]))\n",
    "    return result\n",
    "\n",
    "a = jnp.array([\n",
    "    [1, 2],\n",
    "    [2, 4],\n",
    "    [5, 6],\n",
    "])\n",
    "\n",
    "b = jnp.array([\n",
    "    [5, 3],\n",
    "    [4, 1],\n",
    "    [6, 6],\n",
    "    [7, 1],\n",
    "])\n",
    "\n",
    "broadcasting_q1(a, b)"
   ]
  },
  {
   "cell_type": "markdown",
   "id": "e04f922c-c8f1-45ae-82fc-c2f16b965a6e",
   "metadata": {},
   "source": [
    "## Regression Solutions"
   ]
  },
  {
   "cell_type": "code",
   "execution_count": 11,
   "id": "803f82c8-60bd-4e89-b221-40d2b129deb4",
   "metadata": {},
   "outputs": [
    {
     "data": {
      "text/html": [
       "<div>\n",
       "<style scoped>\n",
       "    .dataframe tbody tr th:only-of-type {\n",
       "        vertical-align: middle;\n",
       "    }\n",
       "\n",
       "    .dataframe tbody tr th {\n",
       "        vertical-align: top;\n",
       "    }\n",
       "\n",
       "    .dataframe thead th {\n",
       "        text-align: right;\n",
       "    }\n",
       "</style>\n",
       "<table border=\"1\" class=\"dataframe\">\n",
       "  <thead>\n",
       "    <tr style=\"text-align: right;\">\n",
       "      <th></th>\n",
       "      <th>Glow</th>\n",
       "      <th>Telekinetic-Ability</th>\n",
       "    </tr>\n",
       "    <tr>\n",
       "      <th>Patient ID</th>\n",
       "      <th></th>\n",
       "      <th></th>\n",
       "    </tr>\n",
       "  </thead>\n",
       "  <tbody>\n",
       "    <tr>\n",
       "      <th>90</th>\n",
       "      <td>0.604085</td>\n",
       "      <td>0.079067</td>\n",
       "    </tr>\n",
       "    <tr>\n",
       "      <th>254</th>\n",
       "      <td>0.613645</td>\n",
       "      <td>0.029835</td>\n",
       "    </tr>\n",
       "    <tr>\n",
       "      <th>283</th>\n",
       "      <td>0.829212</td>\n",
       "      <td>0.240791</td>\n",
       "    </tr>\n",
       "    <tr>\n",
       "      <th>445</th>\n",
       "      <td>0.981120</td>\n",
       "      <td>0.361027</td>\n",
       "    </tr>\n",
       "    <tr>\n",
       "      <th>461</th>\n",
       "      <td>0.688329</td>\n",
       "      <td>0.072750</td>\n",
       "    </tr>\n",
       "    <tr>\n",
       "      <th>15</th>\n",
       "      <td>0.796853</td>\n",
       "      <td>0.066299</td>\n",
       "    </tr>\n",
       "    <tr>\n",
       "      <th>316</th>\n",
       "      <td>0.839546</td>\n",
       "      <td>0.444510</td>\n",
       "    </tr>\n",
       "    <tr>\n",
       "      <th>489</th>\n",
       "      <td>0.929422</td>\n",
       "      <td>0.368031</td>\n",
       "    </tr>\n",
       "    <tr>\n",
       "      <th>159</th>\n",
       "      <td>0.893813</td>\n",
       "      <td>0.522464</td>\n",
       "    </tr>\n",
       "    <tr>\n",
       "      <th>153</th>\n",
       "      <td>0.832483</td>\n",
       "      <td>0.475658</td>\n",
       "    </tr>\n",
       "    <tr>\n",
       "      <th>241</th>\n",
       "      <td>0.676760</td>\n",
       "      <td>0.071873</td>\n",
       "    </tr>\n",
       "    <tr>\n",
       "      <th>250</th>\n",
       "      <td>0.711121</td>\n",
       "      <td>0.021624</td>\n",
       "    </tr>\n",
       "    <tr>\n",
       "      <th>390</th>\n",
       "      <td>0.683075</td>\n",
       "      <td>0.276542</td>\n",
       "    </tr>\n",
       "    <tr>\n",
       "      <th>289</th>\n",
       "      <td>0.472696</td>\n",
       "      <td>-0.053246</td>\n",
       "    </tr>\n",
       "    <tr>\n",
       "      <th>171</th>\n",
       "      <td>0.703657</td>\n",
       "      <td>0.128212</td>\n",
       "    </tr>\n",
       "  </tbody>\n",
       "</table>\n",
       "</div>"
      ],
      "text/plain": [
       "                Glow  Telekinetic-Ability\n",
       "Patient ID                               \n",
       "90          0.604085             0.079067\n",
       "254         0.613645             0.029835\n",
       "283         0.829212             0.240791\n",
       "445         0.981120             0.361027\n",
       "461         0.688329             0.072750\n",
       "15          0.796853             0.066299\n",
       "316         0.839546             0.444510\n",
       "489         0.929422             0.368031\n",
       "159         0.893813             0.522464\n",
       "153         0.832483             0.475658\n",
       "241         0.676760             0.071873\n",
       "250         0.711121             0.021624\n",
       "390         0.683075             0.276542\n",
       "289         0.472696            -0.053246\n",
       "171         0.703657             0.128212"
      ]
     },
     "execution_count": 11,
     "metadata": {},
     "output_type": "execute_result"
    }
   ],
   "source": [
    "# Import a bunch of libraries we'll be using below\n",
    "import pandas as pd\n",
    "import matplotlib.pylab as plt\n",
    "import numpyro\n",
    "import numpyro.distributions as D\n",
    "import jax.numpy as jnp\n",
    "import jax.random as jrandom\n",
    "import numpyro\n",
    "import numpyro.distributions as D\n",
    "import numpyro.distributions.constraints as C\n",
    "from cs349 import *\n",
    "\n",
    "# Load the data into a pandas dataframe\n",
    "csv_fname = 'data/IHH-CTR-CGLF.csv'\n",
    "data = pd.read_csv(csv_fname, index_col='Patient ID')\n",
    "\n",
    "# Print a random sample of patients, just to see what's in the data\n",
    "data.sample(15, random_state=0)"
   ]
  },
  {
   "cell_type": "code",
   "execution_count": 12,
   "id": "8b834966-03c5-4441-a62d-eef63ce6703a",
   "metadata": {},
   "outputs": [],
   "source": [
    "def model_polynomial_regression(N, x, y=None, degree=1):\n",
    "    coefficients = numpyro.param(\n",
    "        'coefficients',\n",
    "        jnp.ones(degree + 1),\n",
    "        constraint=C.real,\n",
    "    )\n",
    "\n",
    "    std_dev = numpyro.param(\n",
    "        'std_dev',\n",
    "        jnp.array(1.0),\n",
    "        constraint=C.positive,\n",
    "    )\n",
    "\n",
    "    with numpyro.plate('data', N):\n",
    "        mu = jnp.polyval(coefficients, x)\n",
    "        p_y_given_x = D.Normal(mu, std_dev)\n",
    "        numpyro.sample('y', p_y_given_x, obs=y)"
   ]
  },
  {
   "cell_type": "code",
   "execution_count": null,
   "id": "e09bd80f-385e-443b-8f11-3dfe219d0765",
   "metadata": {},
   "outputs": [
    {
     "name": "stderr",
     "output_type": "stream",
     "text": [
      " 39%|▍| 3891/10000 [00:00<00:01, 5940.56it/s, init loss: 1608.8676, avg. loss [3001-3500"
     ]
    }
   ],
   "source": [
    "NUM_ITERATIONS = 10000\n",
    "DEGREE = 2\n",
    "\n",
    "# Define an optimizer; here we chose the \"Adam\" algorithm\n",
    "optimizer = numpyro.optim.Adam(step_size=0.01)\n",
    "\n",
    "# Pick a random generator seed for the optimizer\n",
    "key_optimizer = jrandom.PRNGKey(seed=0)\n",
    "\n",
    "result = cs349_mle(\n",
    "    model_polynomial_regression, \n",
    "    optimizer, \n",
    "    key_optimizer, \n",
    "    NUM_ITERATIONS,\n",
    "    len(data['Glow']), \n",
    "    jnp.array(data['Glow']), \n",
    "    y=jnp.array(data['Telekinetic-Ability']),\n",
    "    degree=DEGREE,\n",
    ")"
   ]
  },
  {
   "cell_type": "code",
   "execution_count": null,
   "id": "acebbf67-7256-4d72-bfa5-54be8850d4e2",
   "metadata": {},
   "outputs": [],
   "source": [
    "plt.scatter(jnp.arange(NUM_ITERATIONS), result.losses)\n",
    "plt.xlabel('Optimization Step')\n",
    "plt.ylabel('Loss')\n",
    "plt.title('Convergence of MLE')\n",
    "plt.show()"
   ]
  },
  {
   "cell_type": "code",
   "execution_count": null,
   "id": "e69580b5-c481-4f3a-a574-e57a0918375d",
   "metadata": {},
   "outputs": [],
   "source": [
    "test_x = jnp.linspace(0.0, 1.3, 100)\n",
    "\n",
    "S = 10\n",
    "samples = cs349_sample_generative_process(\n",
    "    result.model_mle, \n",
    "    jrandom.PRNGKey(seed=0), \n",
    "    len(test_x), \n",
    "    test_x,\n",
    "    degree=DEGREE,\n",
    "    num_samples=S,\n",
    ")\n",
    "\n",
    "plt.scatter(\n",
    "    test_x[None, ...].repeat(S, axis=0).flatten(), \n",
    "    samples['y'].flatten(), \n",
    "    color='blue', \n",
    "    alpha=0.5,\n",
    "    label='Samples',\n",
    ")\n",
    "plt.scatter(data['Glow'], data['Telekinetic-Ability'], color='red', alpha=0.5, label='Data')\n",
    "\n",
    "plt.xlabel('Glow')\n",
    "plt.ylabel('Telekinetic Ability')\n",
    "plt.title('Telekinetic Ability vs. Glow')\n",
    "\n",
    "plt.legend()\n",
    "plt.show()"
   ]
  },
  {
   "cell_type": "code",
   "execution_count": null,
   "id": "396988e3-d3dc-43d7-9517-ec484a10e4c1",
   "metadata": {},
   "outputs": [],
   "source": []
  }
 ],
 "metadata": {
  "kernelspec": {
   "display_name": "Python 3 (ipykernel)",
   "language": "python",
   "name": "python3"
  },
  "language_info": {
   "codemirror_mode": {
    "name": "ipython",
    "version": 3
   },
   "file_extension": ".py",
   "mimetype": "text/x-python",
   "name": "python",
   "nbconvert_exporter": "python",
   "pygments_lexer": "ipython3",
   "version": "3.10.12"
  }
 },
 "nbformat": 4,
 "nbformat_minor": 5
}
