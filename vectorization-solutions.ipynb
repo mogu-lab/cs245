{
 "cells": [
  {
   "cell_type": "code",
   "execution_count": null,
   "id": "e8521001-3ce0-475b-b194-8ab117fe7bb4",
   "metadata": {},
   "outputs": [],
   "source": [
    "from utils import *"
   ]
  },
  {
   "cell_type": "markdown",
   "id": "55442788-56ad-4cad-bbbd-f4aa3f2f870b",
   "metadata": {},
   "source": [
    "# Vectorization Solutions"
   ]
  },
  {
   "cell_type": "code",
   "execution_count": null,
   "id": "4cde8756-4120-4aed-83ba-0c3f9f32ffe1",
   "metadata": {},
   "outputs": [],
   "source": [
    "import jax.numpy as jnp\n",
    "import chex"
   ]
  },
  {
   "cell_type": "markdown",
   "id": "d2b408a7-5e4c-4ec8-8266-47d69346cbf8",
   "metadata": {},
   "source": [
    "## Array Operations"
   ]
  },
  {
   "cell_type": "code",
   "execution_count": null,
   "id": "0a13ea50-b824-4129-929d-58da771b3533",
   "metadata": {},
   "outputs": [],
   "source": [
    "def array_operations_q1(N):\n",
    "    return jnp.sum(jnp.log(jnp.arange(N) + 1.0))\n",
    "\n",
    "print(array_operations_q1(10.0))\n",
    "print(array_operations_q1(20.0))"
   ]
  },
  {
   "cell_type": "code",
   "execution_count": null,
   "id": "c69b84e6-6fd0-41f8-96cc-0e93120450cc",
   "metadata": {},
   "outputs": [],
   "source": [
    "def array_operations_q2(N, M):\n",
    "    i = jnp.tile(jnp.arange(N)[..., None], M)\n",
    "    j = jnp.tile(jnp.arange(M)[..., None], N).T\n",
    "\n",
    "    return jnp.sum(jnp.log(i * j + 1.0))\n",
    "\n",
    "print(array_operations_q2(5, 10))\n",
    "print(array_operations_q2(30, 20))"
   ]
  },
  {
   "cell_type": "markdown",
   "id": "e1bfd1e2-1378-4765-b735-f90cde40249a",
   "metadata": {},
   "source": [
    "## Slicing"
   ]
  },
  {
   "cell_type": "code",
   "execution_count": null,
   "id": "d8acd764-c7b5-4d3e-9eec-7d759e420e82",
   "metadata": {},
   "outputs": [],
   "source": [
    "def array_slicing_q1(a):\n",
    "    return a[1:] - a[:-1]\n",
    "\n",
    "array_slicing_q1(jnp.array([0.0, 1.0, 5.0, 10.0, 20.0]))"
   ]
  },
  {
   "cell_type": "code",
   "execution_count": null,
   "id": "d21de757-0d3d-4c00-9ebe-0d0411f926dc",
   "metadata": {},
   "outputs": [],
   "source": [
    "def array_slicing_q2(a):\n",
    "    return a[..., 1:] - a[..., :-1]\n",
    "\n",
    "array_slicing_q2(jnp.array([\n",
    "    [0.0, 1.0, 5.0, 10.0, 20.0],\n",
    "    [2.0, 5.0, 6.0, 20.0, 30.0]\n",
    "]))"
   ]
  },
  {
   "cell_type": "markdown",
   "id": "7ca035b7-ee8f-45a4-b360-39760862fa92",
   "metadata": {},
   "source": [
    "## Indexing with Boolean Arrays"
   ]
  },
  {
   "cell_type": "code",
   "execution_count": null,
   "id": "222a26bf-afb0-407b-a911-0f3ec7a9064c",
   "metadata": {},
   "outputs": [],
   "source": [
    "def boolean_indexing_q1(a):\n",
    "    chex.assert_rank(a, 2)    \n",
    "    positive_sum = a.sum(axis=-1) > 0.0\n",
    "    return a[positive_sum]\n",
    "\n",
    "boolean_indexing_q1(jnp.array([\n",
    "    [1.0, 2.0, 3.0],\n",
    "    [-1.0, -2.0, 3.0],\n",
    "    [-1.0, -2.0, 4.0],\n",
    "    [-1.0, -2.0, -3.0],\n",
    "]))"
   ]
  },
  {
   "cell_type": "code",
   "execution_count": null,
   "id": "2d6e01e7-7e52-4652-8d5e-faeda7718266",
   "metadata": {},
   "outputs": [],
   "source": [
    "def boolean_indexing_q2(N, x, y, r):\n",
    "    assert(0 < N)\n",
    "    assert(0 <= x and x < N)\n",
    "    assert(0 <= y and y < N)\n",
    "    assert(0 < r)\n",
    "    \n",
    "    rows = jnp.tile(jnp.arange(N)[..., None], N)\n",
    "    cols = rows.T\n",
    "    result = ((rows - x) ** 2.0 + (cols - y) ** 2.0 <= r ** 2.0).astype('int32')\n",
    "\n",
    "    chex.assert_shape(result, (N, N))\n",
    "    return result\n",
    "\n",
    "print(boolean_indexing_q2(10, 3, 4, 2))\n",
    "print('')\n",
    "print(boolean_indexing_q2(10, 9, 8, 2))"
   ]
  },
  {
   "cell_type": "markdown",
   "id": "1aeafc98-e78d-410c-bd1e-3c949d03ba12",
   "metadata": {},
   "source": [
    "## Indexing with Arrays of Indices"
   ]
  },
  {
   "cell_type": "code",
   "execution_count": null,
   "id": "3a4a5763-41e9-4c55-b9d7-3704901f9ceb",
   "metadata": {},
   "outputs": [],
   "source": [
    "def integer_indexing_q1(a):\n",
    "    chex.assert_rank(a, 2)\n",
    "    chex.assert_size(a, a.shape[0] ** 2)\n",
    "    \n",
    "    i = jnp.arange(a.shape[0])\n",
    "    result = a[(i, i)]\n",
    "\n",
    "    chex.assert_shape(result, (a.shape[0],))\n",
    "    return result\n",
    "\n",
    "a = jnp.arange(6 * 6).reshape(6, 6)\n",
    "print(a)\n",
    "print('')\n",
    "print(integer_indexing_q1(a))"
   ]
  },
  {
   "cell_type": "code",
   "execution_count": null,
   "id": "6cc29246-3a74-4a14-a54c-198695fea0bb",
   "metadata": {},
   "outputs": [],
   "source": [
    "def integer_indexing_q2(a, offset=0):\n",
    "    chex.assert_rank(a, 2)\n",
    "    chex.assert_size(a, a.shape[0] ** 2)\n",
    "    \n",
    "    i = jnp.arange(a.shape[0] - abs(offset)) - offset * (offset <= 0)\n",
    "    j = jnp.arange(a.shape[1] - abs(offset)) + offset * (offset > 0)\n",
    "    result = a[(i, j)]\n",
    "\n",
    "    chex.assert_shape(result, (a.shape[0] - abs(offset),))\n",
    "    return result\n",
    "\n",
    "a = jnp.arange(6 * 6).reshape(6, 6)\n",
    "print(a)\n",
    "print('')\n",
    "\n",
    "for offset in [-2, -1, 0, 1, 2]:\n",
    "    print(f'Offset {offset}:', integer_indexing_q2(a, offset=offset))"
   ]
  },
  {
   "cell_type": "markdown",
   "id": "7f2d8f68-e711-47f2-bb9d-6694559f9634",
   "metadata": {},
   "source": [
    "## Broadcasting"
   ]
  },
  {
   "cell_type": "code",
   "execution_count": null,
   "id": "ab5af191-402b-4c18-b791-e80c7f91554d",
   "metadata": {},
   "outputs": [],
   "source": [
    "def broadcasting_q1(a, b):\n",
    "    chex.assert_rank((a, b), 2)\n",
    "    chex.assert_equal_shape_suffix((a, b), 1)\n",
    "    \n",
    "    result = jnp.sum((b[None, ...] - a[:, None, ...]) ** 2.0, axis=-1)\n",
    "\n",
    "    chex.assert_shape(result, (a.shape[0], b.shape[0]))\n",
    "    return result\n",
    "\n",
    "a = jnp.array([\n",
    "    [1, 2],\n",
    "    [2, 4],\n",
    "    [5, 6],\n",
    "])\n",
    "\n",
    "b = jnp.array([\n",
    "    [5, 3],\n",
    "    [4, 1],\n",
    "    [6, 6],\n",
    "    [7, 1],\n",
    "])\n",
    "\n",
    "broadcasting_q1(a, b)"
   ]
  },
  {
   "cell_type": "markdown",
   "id": "e04f922c-c8f1-45ae-82fc-c2f16b965a6e",
   "metadata": {},
   "source": [
    "## Regression Solutions"
   ]
  },
  {
   "cell_type": "code",
   "execution_count": null,
   "id": "803f82c8-60bd-4e89-b221-40d2b129deb4",
   "metadata": {},
   "outputs": [],
   "source": [
    "# Import a bunch of libraries we'll be using below\n",
    "import pandas as pd\n",
    "import matplotlib.pylab as plt\n",
    "import numpyro\n",
    "import numpyro.distributions as D\n",
    "import jax.numpy as jnp\n",
    "import jax.random as jrandom\n",
    "import numpyro.distributions.constraints as C\n",
    "from cs349 import *\n",
    "\n",
    "# Load the data into a pandas dataframe\n",
    "csv_fname = 'data/IHH-CTR-CGLF-regression-augmented.csv'\n",
    "data = pd.read_csv(csv_fname, index_col='Patient ID')\n",
    "\n",
    "# Print a random sample of patients, just to see what's in the data\n",
    "data.sample(15, random_state=0)"
   ]
  },
  {
   "cell_type": "code",
   "execution_count": null,
   "id": "8b834966-03c5-4441-a62d-eef63ce6703a",
   "metadata": {},
   "outputs": [],
   "source": [
    "def model_polynomial_regressor(N, x, y=None, degree=1):\n",
    "    coefficients = numpyro.param(\n",
    "        'coefficients',\n",
    "        jnp.ones(degree + 1),\n",
    "        constraint=C.real,\n",
    "    )\n",
    "\n",
    "    std_dev = numpyro.param(\n",
    "        'std_dev',\n",
    "        jnp.array(1.0),\n",
    "        constraint=C.positive,\n",
    "    )\n",
    "\n",
    "    with numpyro.plate('data', N):\n",
    "        mu = jnp.polyval(coefficients, x)\n",
    "        p_y_given_x = D.Normal(mu, std_dev)\n",
    "        numpyro.sample('y', p_y_given_x, obs=y)"
   ]
  },
  {
   "cell_type": "code",
   "execution_count": null,
   "id": "e09bd80f-385e-443b-8f11-3dfe219d0765",
   "metadata": {},
   "outputs": [],
   "source": [
    "NUM_ITERATIONS = 10000\n",
    "DEGREE = 8\n",
    "\n",
    "# Define an optimizer; here we chose the \"Adam\" algorithm\n",
    "optimizer = numpyro.optim.Adam(step_size=0.01)\n",
    "\n",
    "# Pick a random generator seed for the optimizer\n",
    "key_optimizer = jrandom.PRNGKey(seed=0)\n",
    "\n",
    "result = cs349_mle(\n",
    "    model_polynomial_regressor, \n",
    "    optimizer, \n",
    "    key_optimizer, \n",
    "    NUM_ITERATIONS,\n",
    "    len(data), \n",
    "    jnp.array(data['Glow']), \n",
    "    y=jnp.array(data['Telekinetic-Ability']),\n",
    "    degree=DEGREE,\n",
    ")"
   ]
  },
  {
   "cell_type": "code",
   "execution_count": null,
   "id": "acebbf67-7256-4d72-bfa5-54be8850d4e2",
   "metadata": {},
   "outputs": [],
   "source": [
    "plt.scatter(jnp.arange(NUM_ITERATIONS), result.losses)\n",
    "plt.xlabel('Optimization Step')\n",
    "plt.ylabel('Loss')\n",
    "plt.title('Convergence of MLE')\n",
    "plt.show()"
   ]
  },
  {
   "cell_type": "code",
   "execution_count": null,
   "id": "e69580b5-c481-4f3a-a574-e57a0918375d",
   "metadata": {},
   "outputs": [],
   "source": [
    "test_x = jnp.linspace(0.0, 1.3, 100)\n",
    "\n",
    "S = 10\n",
    "samples = cs349_sample_generative_process(\n",
    "    result.model_mle, \n",
    "    jrandom.PRNGKey(seed=0), \n",
    "    len(test_x), \n",
    "    test_x,\n",
    "    degree=DEGREE,\n",
    "    num_samples=S,\n",
    ")\n",
    "\n",
    "plt.scatter(\n",
    "    test_x[None, ...].repeat(S, axis=0).flatten(), \n",
    "    samples['y'].flatten(), \n",
    "    color='blue', \n",
    "    alpha=0.5,\n",
    "    label='Samples',\n",
    ")\n",
    "plt.scatter(data['Glow'], data['Telekinetic-Ability'], color='red', alpha=0.5, label='Data')\n",
    "\n",
    "plt.xlabel('Glow')\n",
    "plt.ylabel('Telekinetic Ability')\n",
    "plt.title('Telekinetic Ability vs. Glow')\n",
    "\n",
    "plt.legend()\n",
    "plt.show()"
   ]
  },
  {
   "cell_type": "code",
   "execution_count": null,
   "id": "396988e3-d3dc-43d7-9517-ec484a10e4c1",
   "metadata": {},
   "outputs": [],
   "source": [
    "fig, axes = plt.subplots(2, 2, figsize=(8, 5))\n",
    "\n",
    "axes[0, 0].hist(data['Age'], bins=50, density=True)\n",
    "axes[0, 0].set_xlabel('Age')\n",
    "axes[0, 0].set_ylabel('Probability from Data')\n",
    "axes[0, 0].set_title('Distribution of Ages')\n",
    "\n",
    "axes[0, 1].scatter(data['Age'], data['Glow'], alpha=0.5, color='red')\n",
    "axes[0, 1].set_xlabel('Age')\n",
    "axes[0, 1].set_ylabel('Glow')\n",
    "axes[0, 1].set_title('Glow vs. Age')\n",
    "\n",
    "axes[1, 0].scatter(data['Age'], data['Telekinetic-Ability'], alpha=0.5, color='red')\n",
    "axes[1, 0].set_xlabel('Age')\n",
    "axes[1, 0].set_ylabel('Telekinetic-Ability')\n",
    "axes[1, 0].set_title('Telekinetic-Ability vs. Age')\n",
    "\n",
    "axes[1, 1].scatter(data['Glow'], data['Telekinetic-Ability'], alpha=0.5, color='red')\n",
    "axes[1, 1].set_xlabel('Glow')\n",
    "axes[1, 1].set_ylabel('Telekinetic-Ability')\n",
    "axes[1, 1].set_title('Telekinetic-Ability vs. Glow')\n",
    "\n",
    "plt.tight_layout()\n",
    "plt.show()"
   ]
  },
  {
   "cell_type": "markdown",
   "id": "689d93f6-8e65-47c4-a79f-415eb3450b9d",
   "metadata": {},
   "source": [
    "## Classification Solutions"
   ]
  },
  {
   "cell_type": "code",
   "execution_count": null,
   "id": "8b7379ea-0694-4467-9a50-22fd06d31867",
   "metadata": {},
   "outputs": [],
   "source": [
    "# Import a bunch of libraries we'll be using below\n",
    "import pandas as pd\n",
    "import matplotlib.pylab as plt\n",
    "import numpyro\n",
    "import numpyro.distributions as D\n",
    "import jax.numpy as jnp\n",
    "import jax.random as jrandom\n",
    "import jax.nn as jnn\n",
    "import numpyro\n",
    "import numpyro.distributions as D\n",
    "import numpyro.distributions.constraints as C\n",
    "from cs349 import *\n",
    "\n",
    "# Load the data into a pandas dataframe\n",
    "csv_fname = 'data/IHH-CTR-CGLF-classification.csv'\n",
    "data = pd.read_csv(csv_fname, index_col='Patient ID')\n",
    "\n",
    "# Print a random sample of patients, just to see what's in the data\n",
    "data.sample(15, random_state=0)"
   ]
  },
  {
   "cell_type": "code",
   "execution_count": null,
   "id": "6fa4c964-47a4-44fe-b7f8-8a3fcdde0551",
   "metadata": {},
   "outputs": [],
   "source": [
    "def model_nonlinear_classifier(N, age, dose, control=None):\n",
    "    degree = 8\n",
    "    \n",
    "    coefficients_age = numpyro.param(\n",
    "        'coefficients_age',\n",
    "        jnp.ones(degree + 1) * 0.1,\n",
    "        constraint=C.real,\n",
    "    )\n",
    "\n",
    "    coefficients_dose = numpyro.param(\n",
    "        'coefficients_dose',\n",
    "        jnp.ones(degree + 1) * 0.1,\n",
    "        constraint=C.real,\n",
    "    )\n",
    "\n",
    "    with numpyro.plate('data', N):\n",
    "        rho = jnn.sigmoid(\n",
    "            jnp.polyval(coefficients_age, age / 100.0) \n",
    "            + jnp.polyval(coefficients_dose, dose)\n",
    "        )\n",
    "        p_y_given_x = D.Bernoulli(rho)\n",
    "        numpyro.sample('control', p_y_given_x, obs=control)"
   ]
  },
  {
   "cell_type": "code",
   "execution_count": null,
   "id": "2f3a0f03-ae6e-49a3-9b48-617feb281b2a",
   "metadata": {},
   "outputs": [],
   "source": [
    "NUM_ITERATIONS = 200000\n",
    "\n",
    "# Define an optimizer; here we chose the \"Adam\" algorithm\n",
    "optimizer = numpyro.optim.Adam(step_size=0.01)\n",
    "\n",
    "# Pick a random generator seed for the optimizer\n",
    "key_optimizer = jrandom.PRNGKey(seed=0)\n",
    "\n",
    "result = cs349_mle(\n",
    "    model_nonlinear_classifier, \n",
    "    optimizer, \n",
    "    key_optimizer, \n",
    "    NUM_ITERATIONS,\n",
    "    len(data), \n",
    "    jnp.array(data['Age']),\n",
    "    jnp.array(data['Dose']),\n",
    "    control=jnp.array(data['Control-After']),\n",
    ")"
   ]
  },
  {
   "cell_type": "code",
   "execution_count": null,
   "id": "27bec54d-c5b2-43a7-9763-19354f643d13",
   "metadata": {},
   "outputs": [],
   "source": [
    "plt.scatter(jnp.arange(NUM_ITERATIONS), result.losses)\n",
    "plt.xlabel('Optimization Step')\n",
    "plt.ylabel('Loss')\n",
    "plt.title('Convergence of MLE')\n",
    "plt.show()"
   ]
  },
  {
   "cell_type": "code",
   "execution_count": null,
   "id": "e3a4ed26-50b1-4228-9710-1702f15d7a0e",
   "metadata": {},
   "outputs": [],
   "source": [
    "plot_classifier_of_control_vs_age_and_dose(\n",
    "    data, result.model_mle, 'control',\n",
    ")"
   ]
  },
  {
   "cell_type": "markdown",
   "id": "c9b654fb-87f4-41be-a455-9cf88e5be58d",
   "metadata": {},
   "source": [
    "## Neural Networks"
   ]
  },
  {
   "cell_type": "code",
   "execution_count": null,
   "id": "5501c50a-8cc2-4f80-adfc-6ac27f0ac896",
   "metadata": {},
   "outputs": [],
   "source": [
    "# Import a bunch of libraries we'll be using below\n",
    "import pandas as pd\n",
    "import matplotlib.pylab as plt\n",
    "import numpyro\n",
    "import numpyro.distributions as D\n",
    "import jax.numpy as jnp\n",
    "import jax.random as jrandom\n",
    "import jax.nn as jnn\n",
    "import numpyro\n",
    "import numpyro.distributions as D\n",
    "import numpyro.distributions.constraints as C\n",
    "from cs349 import *\n",
    "\n",
    "# Load the data into a pandas dataframe\n",
    "csv_fname = 'data/IHH-CTR-CGLF-regression-augmented.csv'\n",
    "data = pd.read_csv(csv_fname, index_col='Patient ID')\n",
    "\n",
    "# Print a random sample of patients, just to see what's in the data\n",
    "data.sample(15, random_state=0)"
   ]
  },
  {
   "cell_type": "code",
   "execution_count": null,
   "id": "9bc3f671-5242-4717-87c6-bd28bdb1fd89",
   "metadata": {},
   "outputs": [],
   "source": [
    "def model_neural_network_regressor(N, x, y=None, H=20):\n",
    "    W0 = numpyro.param(\n",
    "        'W0',\n",
    "        lambda key: 0.1 * jrandom.normal(key, shape=(1, H)),\n",
    "        constraint=C.real,\n",
    "    )\n",
    "\n",
    "    b0 = numpyro.param(\n",
    "        'b0',\n",
    "        lambda key: 0.1 * jrandom.normal(key, shape=(H,)),\n",
    "        constraint=C.real,\n",
    "    )\n",
    "\n",
    "    W1 = numpyro.param(\n",
    "        'W1',\n",
    "        lambda key: 0.1 * jrandom.normal(key, shape=(H, 1)),\n",
    "        constraint=C.real,\n",
    "    )\n",
    "\n",
    "    b1 = numpyro.param(\n",
    "        'b1',\n",
    "        lambda key: 0.1 * jrandom.normal(key, shape=(1,)),\n",
    "        constraint=C.real,\n",
    "    )\n",
    "\n",
    "    std_dev = numpyro.param(\n",
    "        'std_dev',\n",
    "        jnp.array([1.0]),\n",
    "        constraint=C.positive,\n",
    "    )\n",
    "\n",
    "    with numpyro.plate('data', N, dim=-2):\n",
    "        inner = jnn.sigmoid(jnp.matmul(x, W0) + b0)\n",
    "        outer = jnp.matmul(inner, W1) + b1\n",
    "        \n",
    "        p_y_given_x = D.Normal(outer, std_dev)\n",
    "        numpyro.sample('y', p_y_given_x, obs=y)"
   ]
  },
  {
   "cell_type": "code",
   "execution_count": null,
   "id": "f81a4dcf-2b9a-4766-8291-bb974688f8e8",
   "metadata": {},
   "outputs": [],
   "source": [
    "NUM_ITERATIONS = 100000\n",
    "H = 50\n",
    "\n",
    "# Define an optimizer; here we chose the \"Adam\" algorithm\n",
    "optimizer = numpyro.optim.Adam(step_size=0.01)\n",
    "\n",
    "# Pick a random generator seed for the optimizer\n",
    "key_optimizer = jrandom.PRNGKey(seed=0)\n",
    "\n",
    "result = cs349_mle(\n",
    "    model_neural_network_regressor, \n",
    "    optimizer, \n",
    "    key_optimizer, \n",
    "    NUM_ITERATIONS,\n",
    "    len(data), \n",
    "    jnp.array(data['Age']).reshape(-1, 1), \n",
    "    y=jnp.array(data['Telekinetic-Ability']).reshape(-1, 1),\n",
    "    H=H,\n",
    ")\n",
    "\n",
    "plt.scatter(jnp.arange(NUM_ITERATIONS), result.losses)\n",
    "plt.xlabel('Optimization Step')\n",
    "plt.ylabel('Loss')\n",
    "plt.title('Convergence of MLE')\n",
    "plt.show()"
   ]
  },
  {
   "cell_type": "code",
   "execution_count": null,
   "id": "3b10b83f-13de-486c-955f-db2133b4d137",
   "metadata": {},
   "outputs": [],
   "source": [
    "test_x = jnp.linspace(0.0, 100, 200)\n",
    "\n",
    "S = 10\n",
    "samples = cs349_sample_generative_process(\n",
    "    result.model_mle, \n",
    "    jrandom.PRNGKey(seed=0), \n",
    "    len(test_x),  \n",
    "    test_x.reshape(-1, 1),\n",
    "    H=H,\n",
    "    num_samples=S,\n",
    ")\n",
    "\n",
    "plt.scatter(\n",
    "    test_x[None, ...].repeat(S, axis=0).flatten(), \n",
    "    samples['y'].flatten(), \n",
    "    color='blue', \n",
    "    alpha=0.5,\n",
    "    label='Samples',\n",
    ")\n",
    "plt.scatter(data['Age'], data['Telekinetic-Ability'], color='red', alpha=0.5, label='Data')\n",
    "\n",
    "plt.xlabel('Age')\n",
    "plt.ylabel('Telekinetic Ability')\n",
    "plt.title('Telekinetic Ability vs. Age')\n",
    "\n",
    "plt.legend()\n",
    "plt.show()"
   ]
  },
  {
   "cell_type": "markdown",
   "id": "f8887b91-fe31-44bf-a683-d5f89b03bbcf",
   "metadata": {},
   "source": [
    "## Gaussian Mixture Models (Clustering)"
   ]
  },
  {
   "cell_type": "code",
   "execution_count": 1,
   "id": "661e413c-9ccd-4ff7-b155-f2d4c6f91aa0",
   "metadata": {},
   "outputs": [],
   "source": [
    "from utils import *\n",
    "from cs349 import *"
   ]
  },
  {
   "cell_type": "code",
   "execution_count": 2,
   "id": "aa320f9a-026e-43e8-b980-1332b5625d67",
   "metadata": {},
   "outputs": [
    {
     "data": {
      "text/html": [
       "<div>\n",
       "<style scoped>\n",
       "    .dataframe tbody tr th:only-of-type {\n",
       "        vertical-align: middle;\n",
       "    }\n",
       "\n",
       "    .dataframe tbody tr th {\n",
       "        vertical-align: top;\n",
       "    }\n",
       "\n",
       "    .dataframe thead th {\n",
       "        text-align: right;\n",
       "    }\n",
       "</style>\n",
       "<table border=\"1\" class=\"dataframe\">\n",
       "  <thead>\n",
       "    <tr style=\"text-align: right;\">\n",
       "      <th></th>\n",
       "      <th>Condition</th>\n",
       "      <th>Telekinetic-Ability</th>\n",
       "    </tr>\n",
       "    <tr>\n",
       "      <th>Patient ID</th>\n",
       "      <th></th>\n",
       "      <th></th>\n",
       "    </tr>\n",
       "  </thead>\n",
       "  <tbody>\n",
       "    <tr>\n",
       "      <th>398</th>\n",
       "      <td>Allergic Reaction</td>\n",
       "      <td>0.510423</td>\n",
       "    </tr>\n",
       "    <tr>\n",
       "      <th>3833</th>\n",
       "      <td>Allergic Reaction</td>\n",
       "      <td>0.479960</td>\n",
       "    </tr>\n",
       "    <tr>\n",
       "      <th>4836</th>\n",
       "      <td>Intoxication</td>\n",
       "      <td>2.043218</td>\n",
       "    </tr>\n",
       "    <tr>\n",
       "      <th>4572</th>\n",
       "      <td>Allergic Reaction</td>\n",
       "      <td>-0.443333</td>\n",
       "    </tr>\n",
       "    <tr>\n",
       "      <th>636</th>\n",
       "      <td>Intoxication</td>\n",
       "      <td>1.423190</td>\n",
       "    </tr>\n",
       "    <tr>\n",
       "      <th>2545</th>\n",
       "      <td>Intoxication</td>\n",
       "      <td>1.392568</td>\n",
       "    </tr>\n",
       "    <tr>\n",
       "      <th>1161</th>\n",
       "      <td>Intoxication</td>\n",
       "      <td>2.110151</td>\n",
       "    </tr>\n",
       "    <tr>\n",
       "      <th>2230</th>\n",
       "      <td>Intoxication</td>\n",
       "      <td>2.102866</td>\n",
       "    </tr>\n",
       "    <tr>\n",
       "      <th>148</th>\n",
       "      <td>Intoxication</td>\n",
       "      <td>1.865081</td>\n",
       "    </tr>\n",
       "    <tr>\n",
       "      <th>2530</th>\n",
       "      <td>Allergic Reaction</td>\n",
       "      <td>0.401414</td>\n",
       "    </tr>\n",
       "    <tr>\n",
       "      <th>4070</th>\n",
       "      <td>Intoxication</td>\n",
       "      <td>2.271342</td>\n",
       "    </tr>\n",
       "    <tr>\n",
       "      <th>1261</th>\n",
       "      <td>Allergic Reaction</td>\n",
       "      <td>-0.455159</td>\n",
       "    </tr>\n",
       "    <tr>\n",
       "      <th>4682</th>\n",
       "      <td>Entangled Antennas</td>\n",
       "      <td>-1.713834</td>\n",
       "    </tr>\n",
       "    <tr>\n",
       "      <th>333</th>\n",
       "      <td>Intoxication</td>\n",
       "      <td>2.000120</td>\n",
       "    </tr>\n",
       "    <tr>\n",
       "      <th>906</th>\n",
       "      <td>Intoxication</td>\n",
       "      <td>1.693633</td>\n",
       "    </tr>\n",
       "  </tbody>\n",
       "</table>\n",
       "</div>"
      ],
      "text/plain": [
       "                     Condition  Telekinetic-Ability\n",
       "Patient ID                                         \n",
       "398          Allergic Reaction             0.510423\n",
       "3833         Allergic Reaction             0.479960\n",
       "4836              Intoxication             2.043218\n",
       "4572         Allergic Reaction            -0.443333\n",
       "636               Intoxication             1.423190\n",
       "2545              Intoxication             1.392568\n",
       "1161              Intoxication             2.110151\n",
       "2230              Intoxication             2.102866\n",
       "148               Intoxication             1.865081\n",
       "2530         Allergic Reaction             0.401414\n",
       "4070              Intoxication             2.271342\n",
       "1261         Allergic Reaction            -0.455159\n",
       "4682        Entangled Antennas            -1.713834\n",
       "333               Intoxication             2.000120\n",
       "906               Intoxication             1.693633"
      ]
     },
     "execution_count": 2,
     "metadata": {},
     "output_type": "execute_result"
    }
   ],
   "source": [
    "# Import a bunch of libraries we'll be using below\n",
    "import pandas as pd\n",
    "import matplotlib.pylab as plt\n",
    "\n",
    "# Load the data into a pandas dataframe\n",
    "csv_fname = 'data/IHH-CTR.csv'\n",
    "data = pd.read_csv(csv_fname, index_col='Patient ID')\n",
    "\n",
    "# Print a random sample of patients, just to see what's in the data\n",
    "data.sample(15, random_state=0)"
   ]
  },
  {
   "cell_type": "code",
   "execution_count": 3,
   "id": "c6cc0040-179f-4e81-bb8b-ff3caa5a30db",
   "metadata": {},
   "outputs": [],
   "source": [
    "def gmm(N, x=None, K=3):\n",
    "    pi = numpyro.param(\n",
    "        'pi',\n",
    "        init_value=jnp.ones(K) / float(K),\n",
    "        constaint=C.simplex,\n",
    "    )\n",
    "    \n",
    "    mu = numpyro.param(\n",
    "        'mu',\n",
    "        lambda key: 0.1 * jrandom.normal(key, shape=(K,)), \n",
    "        constaint=C.real,\n",
    "    )\n",
    "\n",
    "    std_dev = numpyro.param(\n",
    "        'mu',\n",
    "        lambda key: 0.1 * jrandom.normal(key, shape=(K,)) ** 2.0, \n",
    "        constaint=C.positive,\n",
    "    )    \n",
    "    \n",
    "    with numpyro.plate('data', N):\n",
    "        p_z = D.Categorical(pi)\n",
    "        z = numpyro.sample('z', p_z)\n",
    "        \n",
    "        p_x_given_z = D.Normal(mu[z], std_dev[z])\n",
    "        numpyro.sample('x', p_x_given_z, obs=x)"
   ]
  },
  {
   "cell_type": "code",
   "execution_count": 5,
   "id": "55d09f03-6599-4eec-a464-fc10dc75cbb2",
   "metadata": {},
   "outputs": [
    {
     "data": {
      "text/plain": [
       "'\\nNUM_ITERATIONS = 100000\\n\\n# Define an optimizer; here we chose the \"Adam\" algorithm\\noptimizer = numpyro.optim.Adam(step_size=0.01)\\n\\n# Pick a random generator seed for the optimizer\\nkey_optimizer = jrandom.PRNGKey(seed=0)\\n\\nwith jax.checking_leaks():\\n    result = cs349_mle_discrete_lvm(\\n        gmm, \\n        optimizer, \\n        key_optimizer, \\n        NUM_ITERATIONS,\\n        len(data[\\'Telekinetic-Ability\\']), \\n        x=jnp.array(data[\\'Telekinetic-Ability\\']),\\n        K=3,\\n        latent_variables=[\\'z\\'],\\n    )\\n\\nplt.scatter(jnp.arange(NUM_ITERATIONS), result.losses)\\nplt.xlabel(\\'Optimization Step\\')\\nplt.ylabel(\\'Loss\\')\\nplt.title(\\'Convergence of MLE\\')\\nplt.show()\\n'"
      ]
     },
     "execution_count": 5,
     "metadata": {},
     "output_type": "execute_result"
    }
   ],
   "source": [
    "'''\n",
    "NUM_ITERATIONS = 100000\n",
    "\n",
    "# Define an optimizer; here we chose the \"Adam\" algorithm\n",
    "optimizer = numpyro.optim.Adam(step_size=0.01)\n",
    "\n",
    "# Pick a random generator seed for the optimizer\n",
    "key_optimizer = jrandom.PRNGKey(seed=0)\n",
    "\n",
    "with jax.checking_leaks():\n",
    "    result = cs349_mle_discrete_lvm(\n",
    "        gmm, \n",
    "        optimizer, \n",
    "        key_optimizer, \n",
    "        NUM_ITERATIONS,\n",
    "        len(data['Telekinetic-Ability']), \n",
    "        x=jnp.array(data['Telekinetic-Ability']),\n",
    "        K=3,\n",
    "        latent_variables=['z'],\n",
    "    )\n",
    "\n",
    "plt.scatter(jnp.arange(NUM_ITERATIONS), result.losses)\n",
    "plt.xlabel('Optimization Step')\n",
    "plt.ylabel('Loss')\n",
    "plt.title('Convergence of MLE')\n",
    "plt.show()\n",
    "'''"
   ]
  },
  {
   "cell_type": "code",
   "execution_count": null,
   "id": "130de29f-1c2d-4eaa-b040-eb2f2cb94084",
   "metadata": {},
   "outputs": [],
   "source": []
  },
  {
   "cell_type": "code",
   "execution_count": null,
   "id": "d62544a9-3712-4148-a5cb-1bc6f44ab164",
   "metadata": {},
   "outputs": [],
   "source": []
  },
  {
   "cell_type": "code",
   "execution_count": null,
   "id": "cc70afa5-c1f4-4210-bf0b-abfeac2fb89b",
   "metadata": {},
   "outputs": [],
   "source": []
  },
  {
   "cell_type": "markdown",
   "id": "5c0cf5b1-f234-4701-a9b0-6e3353ff7cd7",
   "metadata": {},
   "source": [
    "## Factor Analysis"
   ]
  },
  {
   "cell_type": "code",
   "execution_count": null,
   "id": "4b478983-8efa-4542-a273-7a4a07714d78",
   "metadata": {},
   "outputs": [],
   "source": [
    "import jax.nn as jnn\n",
    "\n",
    "from utils import *\n",
    "from cs349 import *"
   ]
  },
  {
   "cell_type": "code",
   "execution_count": null,
   "id": "40d06954-2f8b-4fdc-aad7-7a01ce54df16",
   "metadata": {},
   "outputs": [],
   "source": [
    "data = jnp.load('data/microscope2.npy')\n",
    "\n",
    "WIDTH = int(math.sqrt(data.shape[-1]))"
   ]
  },
  {
   "cell_type": "code",
   "execution_count": null,
   "id": "d2f69a18-7f92-4026-8c11-622794d022bf",
   "metadata": {},
   "outputs": [],
   "source": [
    "visualize_microscope_samples(data[:16])"
   ]
  },
  {
   "cell_type": "code",
   "execution_count": null,
   "id": "d8f5d63f-5dbb-4731-b864-eaa26132c8dc",
   "metadata": {},
   "outputs": [],
   "source": [
    "def microscope_generative_model(N, x=None, layers=[50, 400, WIDTH * WIDTH]):\n",
    "    decoder_fn = neural_network_fn('decoder', N, layers)\n",
    "\n",
    "    '''\n",
    "    std_dev = numpyro.param(\n",
    "        'std_dev',\n",
    "        jnp.array(0.01),\n",
    "        constraint=C.positive,\n",
    "    )\n",
    "    '''\n",
    "    std_dev = 0.01\n",
    "\n",
    "    with numpyro.plate('data', N):\n",
    "        p_z = D.Normal(jnp.zeros(layers[0]), jnp.ones(layers[0])).to_event(1)\n",
    "        z = numpyro.sample('z', p_z)\n",
    "        \n",
    "        mu = numpyro.deterministic('mu', jnn.sigmoid(decoder_fn(z)))\n",
    "        p_x_given_z = D.TruncatedNormal(loc=mu, scale=std_dev, low=0.0, high=1.0).to_event(1)\n",
    "        numpyro.sample('x', p_x_given_z, obs=x)"
   ]
  },
  {
   "cell_type": "code",
   "execution_count": null,
   "id": "63545dda-1c83-4b44-bad2-a6fe929fbce8",
   "metadata": {},
   "outputs": [],
   "source": [
    "NUM_ITERATIONS = 2000\n",
    "\n",
    "# Define an optimizer; here we chose the \"Adam\" algorithm\n",
    "optimizer = numpyro.optim.Adam(step_size=0.01)\n",
    "\n",
    "# Pick a random generator seed for the optimizer\n",
    "key_optimizer = jrandom.PRNGKey(seed=0)\n",
    "\n",
    "result = cs349_mle_continuous_lvm(\n",
    "    microscope_generative_model, \n",
    "    optimizer, \n",
    "    key_optimizer, \n",
    "    NUM_ITERATIONS,\n",
    "    len(data), \n",
    "    data,\n",
    ")\n",
    "\n",
    "plt.scatter(jnp.arange(NUM_ITERATIONS), result.losses)\n",
    "plt.xlabel('Optimization Step')\n",
    "plt.ylabel('Loss')\n",
    "plt.title('Convergence of MLE')\n",
    "plt.show()"
   ]
  },
  {
   "cell_type": "code",
   "execution_count": null,
   "id": "446712b9-ab49-4672-9f33-26e4235f5686",
   "metadata": {},
   "outputs": [],
   "source": [
    "S = 100\n",
    "generated = cs349_sample_generative_process(\n",
    "    result.model_mle, jrandom.PRNGKey(seed=0), N=S, \n",
    ")\n",
    "\n",
    "visualize_microscope_samples(generated['mu'])"
   ]
  },
  {
   "cell_type": "code",
   "execution_count": null,
   "id": "1bf59fee-147b-4b4a-be53-024e834d9e4d",
   "metadata": {},
   "outputs": [],
   "source": [
    "#z1 = generated['z'][0]\n",
    "#z2 = generated['z'][1]\n",
    "\n",
    "z1 = jnp.ones(generated['z'][0].shape) * -3.0\n",
    "z2 = jnp.ones(generated['z'][0].shape) * 3.0\n",
    "\n",
    "rho = jnp.linspace(0.0, 1.0, 100)[..., None]\n",
    "z = z1[None, ...] * rho + z2[None, ...] * (1.0 - rho)\n",
    "\n",
    "path = cs349_sample_generative_process(\n",
    "    H.condition(result.model_mle, data=dict(z=z)), \n",
    "    jrandom.PRNGKey(seed=0), \n",
    "    N=z.shape[0], \n",
    ")['mu']"
   ]
  },
  {
   "cell_type": "code",
   "execution_count": null,
   "id": "33cdcb20-39ed-44d7-930b-b941d9220251",
   "metadata": {},
   "outputs": [],
   "source": [
    "import matplotlib.animation\n",
    "from IPython.display import HTML\n",
    "\n",
    "def animate_latent_space_path(path):    \n",
    "    fig, ax = plt.subplots()\n",
    "    \n",
    "    def animate(i):\n",
    "        ax.imshow(path[i].reshape(WIDTH, WIDTH), cmap='gray', vmin=0.0, vmax=1.0)\n",
    "    \n",
    "    ani = matplotlib.animation.FuncAnimation(fig, animate, frames=len(path))        \n",
    "    return HTML(ani.to_jshtml())\n",
    "\n",
    "\n",
    "animate_latent_space_path(path)"
   ]
  },
  {
   "cell_type": "code",
   "execution_count": null,
   "id": "819f1146-e412-4e51-9f1a-89abb722b51d",
   "metadata": {},
   "outputs": [],
   "source": []
  },
  {
   "cell_type": "code",
   "execution_count": null,
   "id": "d56b65b0-077b-426d-917a-0e16ff0d4f70",
   "metadata": {},
   "outputs": [],
   "source": []
  }
 ],
 "metadata": {
  "kernelspec": {
   "display_name": "Python 3 (ipykernel)",
   "language": "python",
   "name": "python3"
  },
  "language_info": {
   "codemirror_mode": {
    "name": "ipython",
    "version": 3
   },
   "file_extension": ".py",
   "mimetype": "text/x-python",
   "name": "python",
   "nbconvert_exporter": "python",
   "pygments_lexer": "ipython3",
   "version": "3.10.14"
  }
 },
 "nbformat": 4,
 "nbformat_minor": 5
}
